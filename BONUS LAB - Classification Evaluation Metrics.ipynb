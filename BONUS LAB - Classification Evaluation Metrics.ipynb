{
 "cells": [
  {
   "cell_type": "markdown",
   "id": "fbb9cc01",
   "metadata": {},
   "source": [
    "# BONUS LAB - Classification Evaluation Metrics\n",
    "## Coder Name: Janojit Chakraborty\n",
    "## Coder Registration Number: 21112011"
   ]
  },
  {
   "cell_type": "markdown",
   "id": "39eee7c4",
   "metadata": {},
   "source": [
    "### Objective\n",
    "- To Understand the logic behind different Evaluation Metrics of Binary Classification"
   ]
  },
  {
   "cell_type": "markdown",
   "id": "c9b59fcd",
   "metadata": {},
   "source": [
    "### Problem Definition\n",
    "Create user defined functions for creating the following for a binary classification problem, when y_pred and y_test is given -\n",
    "\n",
    "1. Confusion Matrix\n",
    "2. Accuracy Score\n",
    "3. Precision\n",
    "4. Recall\n",
    "5. F1 Score\n",
    "6. Plotting points on a AUC Curve"
   ]
  },
  {
   "cell_type": "markdown",
   "id": "673ab6ff",
   "metadata": {},
   "source": [
    "### Approach/Methods:\n",
    "- Use User-Defined functions\n",
    "- Implementing looping concept"
   ]
  },
  {
   "cell_type": "markdown",
   "id": "346fa5fb",
   "metadata": {},
   "source": [
    "### Learnings & Reflection:\n",
    "- Enhance logic building capability\n",
    "- Get background knowledge about statistical measures and evaluation metrices"
   ]
  },
  {
   "cell_type": "markdown",
   "id": "0da35243",
   "metadata": {},
   "source": [
    "Name: **Janojit Chakraborty** <br>\n",
    "Reg No: **21112011** <br>\n",
    "Class: **4 BSC DS** <br>\n",
    "\n",
    "---------------\n",
    "\n",
    "\n",
    "| Assignment | Status |\n",
    "| --- | --- |\n",
    "|  1  | __Completed__ |\n",
    "|  2  | __Completed__ |\n",
    "|  3  | __Completed__ |\n",
    "|  4  | __Completed__ |\n",
    "|  5  | __Completed__ |\n",
    "|  6  | __Not Completed__ |"
   ]
  },
  {
   "cell_type": "code",
   "execution_count": 1,
   "id": "18bb2012",
   "metadata": {},
   "outputs": [],
   "source": [
    "import warnings\n",
    "warnings.filterwarnings(\"ignore\")\n",
    "\n",
    "import random\n",
    "import pandas as pd\n",
    "import matplotlib.pyplot as plt"
   ]
  },
  {
   "cell_type": "code",
   "execution_count": 2,
   "id": "f3e6ebff",
   "metadata": {},
   "outputs": [
    {
     "name": "stdout",
     "output_type": "stream",
     "text": [
      "Enter Number Of Entries: 70\n"
     ]
    },
    {
     "data": {
      "text/html": [
       "<div>\n",
       "<style scoped>\n",
       "    .dataframe tbody tr th:only-of-type {\n",
       "        vertical-align: middle;\n",
       "    }\n",
       "\n",
       "    .dataframe tbody tr th {\n",
       "        vertical-align: top;\n",
       "    }\n",
       "\n",
       "    .dataframe thead th {\n",
       "        text-align: right;\n",
       "    }\n",
       "</style>\n",
       "<table border=\"1\" class=\"dataframe\">\n",
       "  <thead>\n",
       "    <tr style=\"text-align: right;\">\n",
       "      <th></th>\n",
       "      <th>Actual</th>\n",
       "      <th>Predicted</th>\n",
       "    </tr>\n",
       "  </thead>\n",
       "  <tbody>\n",
       "    <tr>\n",
       "      <th>0</th>\n",
       "      <td>0</td>\n",
       "      <td>0</td>\n",
       "    </tr>\n",
       "    <tr>\n",
       "      <th>1</th>\n",
       "      <td>1</td>\n",
       "      <td>1</td>\n",
       "    </tr>\n",
       "    <tr>\n",
       "      <th>2</th>\n",
       "      <td>0</td>\n",
       "      <td>1</td>\n",
       "    </tr>\n",
       "    <tr>\n",
       "      <th>3</th>\n",
       "      <td>1</td>\n",
       "      <td>1</td>\n",
       "    </tr>\n",
       "    <tr>\n",
       "      <th>4</th>\n",
       "      <td>1</td>\n",
       "      <td>0</td>\n",
       "    </tr>\n",
       "    <tr>\n",
       "      <th>...</th>\n",
       "      <td>...</td>\n",
       "      <td>...</td>\n",
       "    </tr>\n",
       "    <tr>\n",
       "      <th>65</th>\n",
       "      <td>0</td>\n",
       "      <td>1</td>\n",
       "    </tr>\n",
       "    <tr>\n",
       "      <th>66</th>\n",
       "      <td>0</td>\n",
       "      <td>1</td>\n",
       "    </tr>\n",
       "    <tr>\n",
       "      <th>67</th>\n",
       "      <td>0</td>\n",
       "      <td>1</td>\n",
       "    </tr>\n",
       "    <tr>\n",
       "      <th>68</th>\n",
       "      <td>0</td>\n",
       "      <td>1</td>\n",
       "    </tr>\n",
       "    <tr>\n",
       "      <th>69</th>\n",
       "      <td>0</td>\n",
       "      <td>1</td>\n",
       "    </tr>\n",
       "  </tbody>\n",
       "</table>\n",
       "<p>70 rows × 2 columns</p>\n",
       "</div>"
      ],
      "text/plain": [
       "    Actual  Predicted\n",
       "0        0          0\n",
       "1        1          1\n",
       "2        0          1\n",
       "3        1          1\n",
       "4        1          0\n",
       "..     ...        ...\n",
       "65       0          1\n",
       "66       0          1\n",
       "67       0          1\n",
       "68       0          1\n",
       "69       0          1\n",
       "\n",
       "[70 rows x 2 columns]"
      ]
     },
     "execution_count": 2,
     "metadata": {},
     "output_type": "execute_result"
    }
   ],
   "source": [
    "df = pd.DataFrame(columns = ['Actual','Predicted'])\n",
    "\n",
    "count = int(input(\"Enter Number Of Entries: \"))\n",
    "\n",
    "for i in range(0,count):\n",
    "    newRow = {}\n",
    "    newRow['Actual'] = random.randint(0,1)\n",
    "    newRow['Predicted'] = random.randint(0,1)\n",
    "    df = df.append(newRow,ignore_index=True)\n",
    "    \n",
    "df['Actual'] = df['Actual'].astype('int64')\n",
    "df['Predicted'] = df['Predicted'].astype('int64')\n",
    "\n",
    "df"
   ]
  },
  {
   "cell_type": "code",
   "execution_count": 3,
   "id": "2265712d",
   "metadata": {},
   "outputs": [],
   "source": [
    "def confusion_matrix(actual,predicted):\n",
    "    TP = 0\n",
    "    TN = 0\n",
    "    FP = 0\n",
    "    FN = 0\n",
    "    for i in range(len(actual)):\n",
    "        if (actual[i] == 1) and (predicted[i] == 1):\n",
    "            TP += 1\n",
    "    for i in range(len(actual)):\n",
    "        if (actual[i] == 0) and (predicted[i] == 0):\n",
    "            TN += 1\n",
    "    for i in range(len(actual)):\n",
    "        if (actual[i] == 0) and (predicted[i] == 1):\n",
    "            FP += 1\n",
    "    for i in range(len(actual)):\n",
    "        if (actual[i] == 1) and (predicted[i] == 0):\n",
    "            FN += 1\n",
    "    return [[TN, FP],[FN,TP]]"
   ]
  },
  {
   "cell_type": "code",
   "execution_count": 4,
   "id": "8aaefc56",
   "metadata": {},
   "outputs": [],
   "source": [
    "def accuracy(actual,predicted):\n",
    "    TP = 0\n",
    "    TN = 0\n",
    "    FP = 0\n",
    "    FN = 0\n",
    "    for i in range(len(actual)):\n",
    "        if (actual[i] == 1) and (predicted[i] == 1):\n",
    "            TP += 1\n",
    "    for i in range(len(actual)):\n",
    "        if (actual[i] == 0) and (predicted[i] == 0):\n",
    "            TN += 1\n",
    "    for i in range(len(actual)):\n",
    "        if (actual[i] == 0) and (predicted[i] == 1):\n",
    "            FP += 1\n",
    "    for i in range(len(actual)):\n",
    "        if (actual[i] == 1) and (predicted[i] == 0):\n",
    "            FN += 1\n",
    "    return (TP+TN)/(TP+TN+FP+FN)"
   ]
  },
  {
   "cell_type": "code",
   "execution_count": 5,
   "id": "13bac55f",
   "metadata": {},
   "outputs": [],
   "source": [
    "def precision(actual,predicted):\n",
    "    TP = 0\n",
    "    TN = 0\n",
    "    FP = 0\n",
    "    FN = 0\n",
    "    for i in range(len(actual)):\n",
    "        if (actual[i] == 1) and (predicted[i] == 1):\n",
    "            TP += 1\n",
    "    for i in range(len(actual)):\n",
    "        if (actual[i] == 0) and (predicted[i] == 0):\n",
    "            TN += 1\n",
    "    for i in range(len(actual)):\n",
    "        if (actual[i] == 0) and (predicted[i] == 1):\n",
    "            FP += 1\n",
    "    for i in range(len(actual)):\n",
    "        if (actual[i] == 1) and (predicted[i] == 0):\n",
    "            FN += 1\n",
    "    return TP/(TP+FP)"
   ]
  },
  {
   "cell_type": "code",
   "execution_count": 6,
   "id": "badf9c87",
   "metadata": {},
   "outputs": [],
   "source": [
    "def recall(actual,predicted):\n",
    "    TP = 0\n",
    "    TN = 0\n",
    "    FP = 0\n",
    "    FN = 0\n",
    "    for i in range(len(actual)):\n",
    "        if (actual[i] == 1) and (predicted[i] == 1):\n",
    "            TP += 1\n",
    "    for i in range(len(actual)):\n",
    "        if (actual[i] == 0) and (predicted[i] == 0):\n",
    "            TN += 1\n",
    "    for i in range(len(actual)):\n",
    "        if (actual[i] == 0) and (predicted[i] == 1):\n",
    "            FP += 1\n",
    "    for i in range(len(actual)):\n",
    "        if (actual[i] == 1) and (predicted[i] == 0):\n",
    "            FN += 1\n",
    "    return TP/(TP+FN)"
   ]
  },
  {
   "cell_type": "code",
   "execution_count": 7,
   "id": "b79644ae",
   "metadata": {},
   "outputs": [],
   "source": [
    "def f1_score(actual,predicted):\n",
    "    TP = 0\n",
    "    TN = 0\n",
    "    FP = 0\n",
    "    FN = 0\n",
    "    for i in range(len(actual)):\n",
    "        if (actual[i] == 1) and (predicted[i] == 1):\n",
    "            TP += 1\n",
    "    for i in range(len(actual)):\n",
    "        if (actual[i] == 0) and (predicted[i] == 0):\n",
    "            TN += 1\n",
    "    for i in range(len(actual)):\n",
    "        if (actual[i] == 0) and (predicted[i] == 1):\n",
    "            FP += 1\n",
    "    for i in range(len(actual)):\n",
    "        if (actual[i] == 1) and (predicted[i] == 0):\n",
    "            FN += 1\n",
    "    precision = (TP/(TP+FP))\n",
    "    recall = (TP/(TP+FN))\n",
    "    return (2*precision*recall)/(precision+recall)"
   ]
  },
  {
   "cell_type": "code",
   "execution_count": 8,
   "id": "c6e721d4",
   "metadata": {},
   "outputs": [],
   "source": [
    "def roc_curve_custom(actual,predicted):\n",
    "    n = len(actual)\n",
    "    fpr = []\n",
    "    tpr = []\n",
    "    thresholds = sorted(list(set(predicted)), reverse=True)\n",
    "\n",
    "    for threshold in thresholds:\n",
    "        tp = 0\n",
    "        fp = 0\n",
    "        tn = 0\n",
    "        fn = 0\n",
    "\n",
    "        for i in range(n):\n",
    "            if predicted[i] >= threshold:\n",
    "                if actual[i] == 1:\n",
    "                    tp += 1\n",
    "                else:\n",
    "                    fp += 1\n",
    "            else:\n",
    "                if actual[i] == 1:\n",
    "                    fn += 1\n",
    "                else:\n",
    "                    tn += 1\n",
    "\n",
    "        fpr.append(fp / (fp + tn))\n",
    "        tpr.append(tp / (tp + fn))\n",
    "\n",
    "    return fpr, tpr, thresholds"
   ]
  },
  {
   "cell_type": "code",
   "execution_count": 9,
   "id": "012241ff",
   "metadata": {},
   "outputs": [],
   "source": [
    "def auc_custom(actual,predicted):\n",
    "    n = len(actual)\n",
    "    s = 0.0\n",
    "\n",
    "    for i in range(n):\n",
    "        for j in range(n):\n",
    "            if actual[i] == 1 and actual[j] == 0:\n",
    "                if predicted[i] > predicted[j]:\n",
    "                    s += 1\n",
    "                elif predicted[i] == predicted[j]:\n",
    "                    s += 0.5\n",
    "\n",
    "    return s / (sum(actual) * (n - sum(actual)))\n"
   ]
  },
  {
   "cell_type": "markdown",
   "id": "080eae6d",
   "metadata": {},
   "source": [
    "### Using User-Defined Function"
   ]
  },
  {
   "cell_type": "code",
   "execution_count": 10,
   "id": "b9563e9d",
   "metadata": {},
   "outputs": [
    {
     "name": "stdout",
     "output_type": "stream",
     "text": [
      "Accuracy Using User-Defined Function:  0.5571428571428572\n",
      "F1 score Using User-Defined Function:  0.5373134328358208\n",
      "Recall Using User-Defined Function:  0.6206896551724138\n",
      "Precision Using User-Defined Function:  0.47368421052631576\n",
      "Confussion Matrix Using User-Defined Function:  [[21, 20], [11, 18]]\n"
     ]
    }
   ],
   "source": [
    "print(\"Accuracy Using User-Defined Function: \",accuracy(df['Actual'],df['Predicted']))\n",
    "print(\"F1 score Using User-Defined Function: \",f1_score(df['Actual'],df['Predicted']))\n",
    "print(\"Recall Using User-Defined Function: \",recall(df['Actual'],df['Predicted']))\n",
    "print(\"Precision Using User-Defined Function: \",precision(df['Actual'],df['Predicted']))\n",
    "print(\"Confussion Matrix Using User-Defined Function: \",confusion_matrix(df['Actual'],df['Predicted']))"
   ]
  },
  {
   "cell_type": "markdown",
   "id": "89fdb80d",
   "metadata": {},
   "source": [
    "### Using Sklearn"
   ]
  },
  {
   "cell_type": "code",
   "execution_count": 11,
   "id": "525e69fa",
   "metadata": {},
   "outputs": [],
   "source": [
    "from sklearn.metrics import precision_score, recall_score, confusion_matrix, accuracy_score, f1_score"
   ]
  },
  {
   "cell_type": "code",
   "execution_count": 12,
   "id": "ca4e5da1",
   "metadata": {},
   "outputs": [
    {
     "name": "stdout",
     "output_type": "stream",
     "text": [
      "Accuracy Using Sklearn: 0.5571428571428572\n",
      "F1 score Using Sklearn: 0.5373134328358208\n",
      "Recall Using Sklearn: 0.6206896551724138\n",
      "Precision Using Sklearn: 0.47368421052631576\n",
      "Confussion Matrix Using Sklearn: [[21 20]\n",
      " [11 18]]\n"
     ]
    }
   ],
   "source": [
    "print('Accuracy Using Sklearn:', accuracy_score(df['Actual'],df['Predicted']))\n",
    "print('F1 score Using Sklearn:', f1_score(df['Actual'],df['Predicted']))\n",
    "print('Recall Using Sklearn:', recall_score(df['Actual'],df['Predicted']))\n",
    "print('Precision Using Sklearn:', precision_score(df['Actual'],df['Predicted']))\n",
    "print('Confussion Matrix Using Sklearn:',confusion_matrix(df['Actual'],df['Predicted']))"
   ]
  },
  {
   "cell_type": "markdown",
   "id": "ad3fef2b",
   "metadata": {},
   "source": [
    "### Using User-Defined Function"
   ]
  },
  {
   "cell_type": "code",
   "execution_count": 13,
   "id": "7636e592",
   "metadata": {},
   "outputs": [],
   "source": [
    "def plot_auc_curve(actual, predicted):\n",
    "    fpr, tpr, thresholds = roc_curve_custom(actual, predicted)\n",
    "    roc_auc = auc_custom(fpr, tpr)\n",
    "    plt.plot(fpr, tpr, lw=1, alpha=0.8, label='ROC (AUC = %0.2f)' % roc_auc)\n",
    "    plt.plot([0, 1], [0, 1], linestyle='--', lw=2, color='r', label='Random Guess')\n",
    "    plt.xlim([0.0, 1.0])\n",
    "    plt.ylim([0.0, 1.05])\n",
    "    plt.xlabel('False Positive Rate')\n",
    "    plt.ylabel('True Positive Rate')\n",
    "    plt.title('Receiver Operating Characteristic Curve')\n",
    "    plt.legend(loc=\"lower right\")\n",
    "    plt.show()"
   ]
  },
  {
   "cell_type": "code",
   "execution_count": 14,
   "id": "8485504a",
   "metadata": {},
   "outputs": [
    {
     "data": {
      "image/png": "[encoded data removed]",
      "text/plain": [
       "<Figure size 432x288 with 1 Axes>"
      ]
     },
     "metadata": {
      "needs_background": "light"
     },
     "output_type": "display_data"
    }
   ],
   "source": [
    "plot_auc_curve(df['Actual'],df['Predicted'])"
   ]
  },
  {
   "cell_type": "markdown",
   "id": "08dd5b0c",
   "metadata": {},
   "source": [
    "### Using Sklearn"
   ]
  },
  {
   "cell_type": "code",
   "execution_count": 15,
   "id": "ba39b60a",
   "metadata": {},
   "outputs": [],
   "source": [
    "import matplotlib.pyplot as plt\n",
    "from sklearn.metrics import roc_curve, auc\n",
    "\n",
    "def plot_auc_curve1(actual, predicted):\n",
    "    fpr, tpr, thresholds = roc_curve(actual, predicted)\n",
    "    roc_auc = auc(fpr, tpr)\n",
    "    plt.plot(fpr, tpr, lw=1, alpha=0.8, label='ROC (AUC = %0.2f)' % roc_auc)\n",
    "    plt.plot([0, 1], [0, 1], linestyle='--', lw=2, color='r', label='Random Guess')\n",
    "    plt.xlim([0.0, 1.0])\n",
    "    plt.ylim([0.0, 1.05])\n",
    "    plt.xlabel('False Positive Rate')\n",
    "    plt.ylabel('True Positive Rate')\n",
    "    plt.title('Receiver Operating Characteristic Curve')\n",
    "    plt.legend(loc=\"lower right\")\n",
    "    plt.show()"
   ]
  },
  {
   "cell_type": "code",
   "execution_count": 16,
   "id": "fd7487f4",
   "metadata": {},
   "outputs": [
    {
     "data": {
      "image/png": "[encoded data removed]",
      "text/plain": [
       "<Figure size 432x288 with 1 Axes>"
      ]
     },
     "metadata": {
      "needs_background": "light"
     },
     "output_type": "display_data"
    }
   ],
   "source": [
    "plot_auc_curve1(df['Actual'],df['Predicted'])"
   ]
  }
 ],
 "metadata": {
  "kernelspec": {
   "display_name": "Python 3",
   "language": "python",
   "name": "python3"
  },
  "language_info": {
   "codemirror_mode": {
    "name": "ipython",
    "version": 3
   },
   "file_extension": ".py",
   "mimetype": "text/x-python",
   "name": "python",
   "nbconvert_exporter": "python",
   "pygments_lexer": "ipython3",
   "version": "3.8.8"
  }
 },
 "nbformat": 4,
 "nbformat_minor": 5
}
