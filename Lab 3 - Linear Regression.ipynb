{
 "cells": [
  {
   "cell_type": "markdown",
   "id": "68fb19c5",
   "metadata": {},
   "source": [
    "# Lab 3 - Linear Regression\n",
    "## Coder Name: Janojit Chakraborty\n",
    "## Coder Registration Number: 21112011"
   ]
  },
  {
   "cell_type": "markdown",
   "id": "2dd04d12",
   "metadata": {},
   "source": [
    "### Description About The Dataset<br>\n",
    "It is a car details dataset contains information about various cars, including their model name, age, price, odometer reading, fuel type, selling method (broker or direct from owner), gear system, and number of owners. Each car is represented by a row in the dataset and the columns provide specific details about the car. The \"CarModel\" column indicates the name of the car model, \"AgeOfCar\" tells us about the age of the car, \"Price\" column gives the selling price of the car, \"OdoMeter reading\" provides information about the car's mileage, \"Fuel Type\" specifies whether the car runs on petrol or diesel, \"Dealing Type\" indicates if the car is being sold through a broker or directly from the owner, \"Gear System\" column tells us that wheather the car is manual gear based or automated gear based, and the \"No of Owners\" column provides information about the number of owners the car has had."
   ]
  },
  {
   "cell_type": "markdown",
   "id": "91708220",
   "metadata": {},
   "source": [
    "### Objective\n",
    "- Exploring Car Dataset\n",
    "- Performing EDA\n",
    "- Analysing the data to find insightful trends and patterns\n",
    "- Creating Predictive Model"
   ]
  },
  {
   "cell_type": "markdown",
   "id": "342149e0",
   "metadata": {},
   "source": [
    "### Problem Definition\n",
    "\n",
    "- Import the Dataset that you created as part of LAB 1 (Exported Dataset).\n",
    "- Perform basic EDA on the same\n",
    "- Perform Linear Regression with the SKLearn Library\n",
    "- Use different variations of Linear Regression as available in statsmodels library\n",
    "- Compare the results of various models"
   ]
  },
  {
   "cell_type": "markdown",
   "id": "e8ec7825",
   "metadata": {},
   "source": [
    "### Approach/Methods:\n",
    "- Importing the Dataset\n",
    "- Perform Statistical Analysis\n",
    "- Perform EDA\n",
    "- Create Linear Regression Model Using Sklearn\n",
    "- Exploring Statsmodel Library"
   ]
  },
  {
   "cell_type": "markdown",
   "id": "57292768",
   "metadata": {},
   "source": [
    "### Observation:\n",
    "- There are 676 repeated entries. But as it doesn't have any key attribute so it's hard to tag it as Duplicated value.\n",
    "- Mean Age for most of cars are 10.04 years but highest number of cars belong to 6-8 years cluster. From which we can understand that Purchasers used to buy their next car after their previous car gets 7-10 years older, i.e. if a person buys a new car now then he/she will buy another one after 7-10 years.\n",
    "- Average Price of the cars is 4.9 Lakhs INR and most of the cars also belong to same cluster. From which we can understand that most of the purchasers invest within 4-6 Lakhs to purchase a car.\n",
    "- Average Odo Meter Reading of Cars are 50-80 thousand, here most of the cars belong to same cluster.\n",
    "- As per the count plot maximum number of vehicles are run by Petrol. Diesel based cars also have high usage. Whereas there are very less number of vehicles exists which are run by CNG, LPG, Electric repectively.\n",
    "- As per the count plot, Most of the Car Purchase deal has been done from Direct Owners, which depicts that most of the purchasers still have trust issues with Brokers.\n",
    "- Till the time the dataset was prepared Most of the Cars are Manual Gear based, number of Manual Gear based vehicles are much higher than Automatic Gear based vehicles.\n",
    "- Most of Purchaser are First Owner then Second Owner, Which depicts that most of the purchasers are more tended to buy New or less old cars.\n",
    "- If we look into Car company's then Maruti company and Hyundai company have the highest number of sales, and Tata, Mahindra, Ford, Honda etc have average number of sales, whereas BMW, Ambassador, Mercedes, Audi etc have minimal sales.\n",
    "- The boxplot gives us the Min, Max and Quartiles. It also helps us to find Outliers.\n",
    "- - In case of AgeOfCar we have found some outliers but as Age is highly crucial for Car Data Analysis so it's good not to ignore those outliers as this can bring some significance towards our model.\n",
    "- As per the Correlation Heatmap,\n",
    "- - AgeOfCar and Price has negative correlation with each other, which is quite natural as car gets older its productivity reduces so its price also decreases.\n",
    "- - AgeOfCar and OdoMeterReading has positive correlation with each other, the reason for it can be as car gets older its travelles more distance.\n",
    "- - Price and OdometerReading has very less negative correlation, which not enough significant.\n",
    "- We observed that Price of Cars has decreases as Age of Cars increases which is natural but after 18-20 years Price of cars become almost static.\n",
    "- LPG, Diesel, and CNG cars have a high amount of Odo Meter Reading maybe the reason for it is most of the commercial vehicles are run by CNG or LPG and Diesel.\n",
    "- Most of the Manual Gear Based vehicles has travelled more distance than Autometic Gear Based vehicles.\n",
    "- According to this dataset, the price of Diesel cars are much higher than others. Apart from Diesel run cars, Petrol and Electric run cars are also costly. Whereas, LPG run cars are the most cheaper one.\n",
    "- Auomatic Gear based vehicles are costlier than Manual Gear Based Vehicles as Auto Gear Vehicles needs more technologically advanced parts so it gets costlier.\n",
    "- Trustmark Broker are selling cars in much higher price, where in case of Direct Owner deal prices are much lower. So, Brokers are more proficient for car sellers whereas Direct Owner deals are much more beneficial for Purchasers.\n",
    "- As per the dataset, Audi, BMW, Mercedes-Benz, Mitsubishi are the most expensive cars, whereas OpelCorsa and Daewoo are the cheaper one. Maruti, Tata, Ford, Honda, Nissan etc are the most affordable one as their price is average.\n",
    "- Test Drive Cars are much more costlier than other type of Cars. Maybe for commercial/advertising purpose Test Drive cars are manufactured in more proffesional way which can be the reason for its higher price."
   ]
  },
  {
   "cell_type": "markdown",
   "id": "3fbd33d3",
   "metadata": {},
   "source": [
    "### Learnings & Reflection:\n",
    "- Become More Proficient with EDA\n",
    "- Get More Knowledge about Linear Regression using Sklearn\n",
    "- Get an understanding about Statsmodel Library"
   ]
  },
  {
   "cell_type": "markdown",
   "id": "3f67f412",
   "metadata": {},
   "source": [
    "Name: **Janojit Chakraborty** <br>\n",
    "Reg No: **21112011** <br>\n",
    "Class: **4 BSC DS** <br>\n",
    "\n",
    "---------------\n",
    "\n",
    "\n",
    "| Assignment | Status |\n",
    "| --- | --- |\n",
    "|  1  | __Completed__ |\n",
    "|  2  | __Completed__ |\n",
    "|  3  | __Completed__ |\n",
    "|  4  | __Completed__ |\n",
    "|  5  | __Completed__ |"
   ]
  },
  {
   "cell_type": "markdown",
   "id": "a913a83f",
   "metadata": {},
   "source": [
    "### Importing Libraries"
   ]
  },
  {
   "cell_type": "code",
   "execution_count": 1,
   "id": "edef2a17",
   "metadata": {},
   "outputs": [],
   "source": [
    "import pandas as pd\n",
    "import numpy as np\n",
    "import matplotlib.pyplot as plt\n",
    "import seaborn as sns\n",
    "import warnings\n",
    "warnings.filterwarnings(\"ignore\")"
   ]
  },
  {
   "cell_type": "markdown",
   "id": "f75d7863",
   "metadata": {},
   "source": [
    "## Import the Dataset that war created as part of LAB 1 (Exported Dataset)"
   ]
  },
  {
   "cell_type": "code",
   "execution_count": 2,
   "id": "547611fc",
   "metadata": {},
   "outputs": [
    {
     "data": {
      "text/html": [
       "<div>\n",
       "<style scoped>\n",
       "    .dataframe tbody tr th:only-of-type {\n",
       "        vertical-align: middle;\n",
       "    }\n",
       "\n",
       "    .dataframe tbody tr th {\n",
       "        vertical-align: top;\n",
       "    }\n",
       "\n",
       "    .dataframe thead th {\n",
       "        text-align: right;\n",
       "    }\n",
       "</style>\n",
       "<table border=\"1\" class=\"dataframe\">\n",
       "  <thead>\n",
       "    <tr style=\"text-align: right;\">\n",
       "      <th></th>\n",
       "      <th>Unnamed: 0</th>\n",
       "      <th>CarModel</th>\n",
       "      <th>AgeOfCar</th>\n",
       "      <th>Price</th>\n",
       "      <th>OdoMeterReading</th>\n",
       "      <th>Fuel_Type</th>\n",
       "      <th>DealingType</th>\n",
       "      <th>GearSystem</th>\n",
       "      <th>NoOfOwners</th>\n",
       "      <th>CarCompany</th>\n",
       "      <th>Scalled_Price</th>\n",
       "      <th>Scaled_OdoMeterReading</th>\n",
       "      <th>Fuel_Type_le</th>\n",
       "      <th>DealingType_le</th>\n",
       "      <th>GearSystem_le</th>\n",
       "      <th>NoOfOwners_le</th>\n",
       "      <th>CarCompany_le</th>\n",
       "    </tr>\n",
       "  </thead>\n",
       "  <tbody>\n",
       "    <tr>\n",
       "      <th>0</th>\n",
       "      <td>0</td>\n",
       "      <td>Ford Figo Aspire 1.5 TDCi Trend</td>\n",
       "      <td>8</td>\n",
       "      <td>574998.75</td>\n",
       "      <td>152620</td>\n",
       "      <td>Diesel</td>\n",
       "      <td>Broker</td>\n",
       "      <td>Manual</td>\n",
       "      <td>First Owner</td>\n",
       "      <td>Ford</td>\n",
       "      <td>0.049549</td>\n",
       "      <td>1.766863</td>\n",
       "      <td>1</td>\n",
       "      <td>0</td>\n",
       "      <td>1</td>\n",
       "      <td>0</td>\n",
       "      <td>8</td>\n",
       "    </tr>\n",
       "    <tr>\n",
       "      <th>1</th>\n",
       "      <td>1</td>\n",
       "      <td>Mahindra Scorpio SLE BSIV</td>\n",
       "      <td>11</td>\n",
       "      <td>656250.00</td>\n",
       "      <td>149000</td>\n",
       "      <td>Diesel</td>\n",
       "      <td>Direct Owner</td>\n",
       "      <td>Manual</td>\n",
       "      <td>First Owner</td>\n",
       "      <td>Mahindra</td>\n",
       "      <td>0.056869</td>\n",
       "      <td>1.689245</td>\n",
       "      <td>1</td>\n",
       "      <td>1</td>\n",
       "      <td>1</td>\n",
       "      <td>0</td>\n",
       "      <td>17</td>\n",
       "    </tr>\n",
       "    <tr>\n",
       "      <th>2</th>\n",
       "      <td>2</td>\n",
       "      <td>Tata Manza Club Class Quadrajet90 LS</td>\n",
       "      <td>9</td>\n",
       "      <td>250000.00</td>\n",
       "      <td>104000</td>\n",
       "      <td>Diesel</td>\n",
       "      <td>Direct Owner</td>\n",
       "      <td>Manual</td>\n",
       "      <td>First Owner</td>\n",
       "      <td>Tata</td>\n",
       "      <td>0.020270</td>\n",
       "      <td>0.724381</td>\n",
       "      <td>1</td>\n",
       "      <td>1</td>\n",
       "      <td>1</td>\n",
       "      <td>0</td>\n",
       "      <td>25</td>\n",
       "    </tr>\n",
       "    <tr>\n",
       "      <th>3</th>\n",
       "      <td>3</td>\n",
       "      <td>Toyota Corolla Altis 1.8 VL AT</td>\n",
       "      <td>13</td>\n",
       "      <td>437500.00</td>\n",
       "      <td>84000</td>\n",
       "      <td>Petrol</td>\n",
       "      <td>Direct Owner</td>\n",
       "      <td>Automatic</td>\n",
       "      <td>Third Owner</td>\n",
       "      <td>Toyota</td>\n",
       "      <td>0.037162</td>\n",
       "      <td>0.295553</td>\n",
       "      <td>4</td>\n",
       "      <td>1</td>\n",
       "      <td>0</td>\n",
       "      <td>4</td>\n",
       "      <td>26</td>\n",
       "    </tr>\n",
       "    <tr>\n",
       "      <th>4</th>\n",
       "      <td>4</td>\n",
       "      <td>Tata Indigo CS eLS BS IV</td>\n",
       "      <td>12</td>\n",
       "      <td>225000.00</td>\n",
       "      <td>124000</td>\n",
       "      <td>Diesel</td>\n",
       "      <td>Direct Owner</td>\n",
       "      <td>Manual</td>\n",
       "      <td>First Owner</td>\n",
       "      <td>Tata</td>\n",
       "      <td>0.018018</td>\n",
       "      <td>1.153209</td>\n",
       "      <td>1</td>\n",
       "      <td>1</td>\n",
       "      <td>1</td>\n",
       "      <td>0</td>\n",
       "      <td>25</td>\n",
       "    </tr>\n",
       "    <tr>\n",
       "      <th>...</th>\n",
       "      <td>...</td>\n",
       "      <td>...</td>\n",
       "      <td>...</td>\n",
       "      <td>...</td>\n",
       "      <td>...</td>\n",
       "      <td>...</td>\n",
       "      <td>...</td>\n",
       "      <td>...</td>\n",
       "      <td>...</td>\n",
       "      <td>...</td>\n",
       "      <td>...</td>\n",
       "      <td>...</td>\n",
       "      <td>...</td>\n",
       "      <td>...</td>\n",
       "      <td>...</td>\n",
       "      <td>...</td>\n",
       "      <td>...</td>\n",
       "    </tr>\n",
       "    <tr>\n",
       "      <th>3957</th>\n",
       "      <td>4335</td>\n",
       "      <td>Hyundai EON Era</td>\n",
       "      <td>9</td>\n",
       "      <td>362500.00</td>\n",
       "      <td>16000</td>\n",
       "      <td>Petrol</td>\n",
       "      <td>Broker</td>\n",
       "      <td>Manual</td>\n",
       "      <td>First Owner</td>\n",
       "      <td>Hyundai</td>\n",
       "      <td>0.030405</td>\n",
       "      <td>-1.162463</td>\n",
       "      <td>4</td>\n",
       "      <td>0</td>\n",
       "      <td>1</td>\n",
       "      <td>0</td>\n",
       "      <td>10</td>\n",
       "    </tr>\n",
       "    <tr>\n",
       "      <th>3958</th>\n",
       "      <td>4336</td>\n",
       "      <td>Hyundai Grand i10 1.2 Kappa Asta</td>\n",
       "      <td>6</td>\n",
       "      <td>625000.00</td>\n",
       "      <td>54000</td>\n",
       "      <td>Petrol</td>\n",
       "      <td>Direct Owner</td>\n",
       "      <td>Manual</td>\n",
       "      <td>First Owner</td>\n",
       "      <td>Hyundai</td>\n",
       "      <td>0.054054</td>\n",
       "      <td>-0.347689</td>\n",
       "      <td>4</td>\n",
       "      <td>1</td>\n",
       "      <td>1</td>\n",
       "      <td>0</td>\n",
       "      <td>10</td>\n",
       "    </tr>\n",
       "    <tr>\n",
       "      <th>3959</th>\n",
       "      <td>4337</td>\n",
       "      <td>Maruti Ritz LXi</td>\n",
       "      <td>7</td>\n",
       "      <td>343750.00</td>\n",
       "      <td>164000</td>\n",
       "      <td>Petrol</td>\n",
       "      <td>Direct Owner</td>\n",
       "      <td>Manual</td>\n",
       "      <td>First Owner</td>\n",
       "      <td>Maruti</td>\n",
       "      <td>0.028716</td>\n",
       "      <td>2.010866</td>\n",
       "      <td>4</td>\n",
       "      <td>1</td>\n",
       "      <td>1</td>\n",
       "      <td>0</td>\n",
       "      <td>18</td>\n",
       "    </tr>\n",
       "    <tr>\n",
       "      <th>3960</th>\n",
       "      <td>4338</td>\n",
       "      <td>Honda Amaze VX Diesel BSIV</td>\n",
       "      <td>5</td>\n",
       "      <td>975000.00</td>\n",
       "      <td>36114</td>\n",
       "      <td>Diesel</td>\n",
       "      <td>Broker</td>\n",
       "      <td>Manual</td>\n",
       "      <td>First Owner</td>\n",
       "      <td>Honda</td>\n",
       "      <td>0.085586</td>\n",
       "      <td>-0.731190</td>\n",
       "      <td>1</td>\n",
       "      <td>0</td>\n",
       "      <td>1</td>\n",
       "      <td>0</td>\n",
       "      <td>9</td>\n",
       "    </tr>\n",
       "    <tr>\n",
       "      <th>3961</th>\n",
       "      <td>4339</td>\n",
       "      <td>Honda Brio VX</td>\n",
       "      <td>9</td>\n",
       "      <td>431250.00</td>\n",
       "      <td>62000</td>\n",
       "      <td>Petrol</td>\n",
       "      <td>Broker</td>\n",
       "      <td>Manual</td>\n",
       "      <td>First Owner</td>\n",
       "      <td>Honda</td>\n",
       "      <td>0.036599</td>\n",
       "      <td>-0.176158</td>\n",
       "      <td>4</td>\n",
       "      <td>0</td>\n",
       "      <td>1</td>\n",
       "      <td>0</td>\n",
       "      <td>9</td>\n",
       "    </tr>\n",
       "  </tbody>\n",
       "</table>\n",
       "<p>3962 rows × 17 columns</p>\n",
       "</div>"
      ],
      "text/plain": [
       "      Unnamed: 0                              CarModel  AgeOfCar      Price  \\\n",
       "0              0       Ford Figo Aspire 1.5 TDCi Trend         8  574998.75   \n",
       "1              1             Mahindra Scorpio SLE BSIV        11  656250.00   \n",
       "2              2  Tata Manza Club Class Quadrajet90 LS         9  250000.00   \n",
       "3              3        Toyota Corolla Altis 1.8 VL AT        13  437500.00   \n",
       "4              4              Tata Indigo CS eLS BS IV        12  225000.00   \n",
       "...          ...                                   ...       ...        ...   \n",
       "3957        4335                       Hyundai EON Era         9  362500.00   \n",
       "3958        4336      Hyundai Grand i10 1.2 Kappa Asta         6  625000.00   \n",
       "3959        4337                       Maruti Ritz LXi         7  343750.00   \n",
       "3960        4338            Honda Amaze VX Diesel BSIV         5  975000.00   \n",
       "3961        4339                         Honda Brio VX         9  431250.00   \n",
       "\n",
       "      OdoMeterReading Fuel_Type   DealingType GearSystem   NoOfOwners  \\\n",
       "0              152620    Diesel        Broker     Manual  First Owner   \n",
       "1              149000    Diesel  Direct Owner     Manual  First Owner   \n",
       "2              104000    Diesel  Direct Owner     Manual  First Owner   \n",
       "3               84000    Petrol  Direct Owner  Automatic  Third Owner   \n",
       "4              124000    Diesel  Direct Owner     Manual  First Owner   \n",
       "...               ...       ...           ...        ...          ...   \n",
       "3957            16000    Petrol        Broker     Manual  First Owner   \n",
       "3958            54000    Petrol  Direct Owner     Manual  First Owner   \n",
       "3959           164000    Petrol  Direct Owner     Manual  First Owner   \n",
       "3960            36114    Diesel        Broker     Manual  First Owner   \n",
       "3961            62000    Petrol        Broker     Manual  First Owner   \n",
       "\n",
       "     CarCompany  Scalled_Price  Scaled_OdoMeterReading  Fuel_Type_le  \\\n",
       "0          Ford       0.049549                1.766863             1   \n",
       "1      Mahindra       0.056869                1.689245             1   \n",
       "2          Tata       0.020270                0.724381             1   \n",
       "3        Toyota       0.037162                0.295553             4   \n",
       "4          Tata       0.018018                1.153209             1   \n",
       "...         ...            ...                     ...           ...   \n",
       "3957    Hyundai       0.030405               -1.162463             4   \n",
       "3958    Hyundai       0.054054               -0.347689             4   \n",
       "3959     Maruti       0.028716                2.010866             4   \n",
       "3960      Honda       0.085586               -0.731190             1   \n",
       "3961      Honda       0.036599               -0.176158             4   \n",
       "\n",
       "      DealingType_le  GearSystem_le  NoOfOwners_le  CarCompany_le  \n",
       "0                  0              1              0              8  \n",
       "1                  1              1              0             17  \n",
       "2                  1              1              0             25  \n",
       "3                  1              0              4             26  \n",
       "4                  1              1              0             25  \n",
       "...              ...            ...            ...            ...  \n",
       "3957               0              1              0             10  \n",
       "3958               1              1              0             10  \n",
       "3959               1              1              0             18  \n",
       "3960               0              1              0              9  \n",
       "3961               0              1              0              9  \n",
       "\n",
       "[3962 rows x 17 columns]"
      ]
     },
     "execution_count": 2,
     "metadata": {},
     "output_type": "execute_result"
    }
   ],
   "source": [
    "df = pd.read_csv('ExportedDF.csv')\n",
    "df"
   ]
  },
  {
   "cell_type": "code",
   "execution_count": 3,
   "id": "93375570",
   "metadata": {},
   "outputs": [
    {
     "data": {
      "text/plain": [
       "(3962, 17)"
      ]
     },
     "execution_count": 3,
     "metadata": {},
     "output_type": "execute_result"
    }
   ],
   "source": [
    "df.shape"
   ]
  },
  {
   "cell_type": "code",
   "execution_count": 4,
   "id": "5389044f",
   "metadata": {},
   "outputs": [
    {
     "name": "stdout",
     "output_type": "stream",
     "text": [
      "<class 'pandas.core.frame.DataFrame'>\n",
      "RangeIndex: 3962 entries, 0 to 3961\n",
      "Data columns (total 17 columns):\n",
      " #   Column                  Non-Null Count  Dtype  \n",
      "---  ------                  --------------  -----  \n",
      " 0   Unnamed: 0              3962 non-null   int64  \n",
      " 1   CarModel                3962 non-null   object \n",
      " 2   AgeOfCar                3962 non-null   int64  \n",
      " 3   Price                   3962 non-null   float64\n",
      " 4   OdoMeterReading         3962 non-null   int64  \n",
      " 5   Fuel_Type               3962 non-null   object \n",
      " 6   DealingType             3962 non-null   object \n",
      " 7   GearSystem              3962 non-null   object \n",
      " 8   NoOfOwners              3962 non-null   object \n",
      " 9   CarCompany              3962 non-null   object \n",
      " 10  Scalled_Price           3962 non-null   float64\n",
      " 11  Scaled_OdoMeterReading  3962 non-null   float64\n",
      " 12  Fuel_Type_le            3962 non-null   int64  \n",
      " 13  DealingType_le          3962 non-null   int64  \n",
      " 14  GearSystem_le           3962 non-null   int64  \n",
      " 15  NoOfOwners_le           3962 non-null   int64  \n",
      " 16  CarCompany_le           3962 non-null   int64  \n",
      "dtypes: float64(3), int64(8), object(6)\n",
      "memory usage: 526.3+ KB\n"
     ]
    }
   ],
   "source": [
    "df.info()"
   ]
  },
  {
   "cell_type": "code",
   "execution_count": 5,
   "id": "29173341",
   "metadata": {},
   "outputs": [
    {
     "data": {
      "text/plain": [
       "Unnamed: 0                0\n",
       "CarModel                  0\n",
       "AgeOfCar                  0\n",
       "Price                     0\n",
       "OdoMeterReading           0\n",
       "Fuel_Type                 0\n",
       "DealingType               0\n",
       "GearSystem                0\n",
       "NoOfOwners                0\n",
       "CarCompany                0\n",
       "Scalled_Price             0\n",
       "Scaled_OdoMeterReading    0\n",
       "Fuel_Type_le              0\n",
       "DealingType_le            0\n",
       "GearSystem_le             0\n",
       "NoOfOwners_le             0\n",
       "CarCompany_le             0\n",
       "dtype: int64"
      ]
     },
     "execution_count": 5,
     "metadata": {},
     "output_type": "execute_result"
    }
   ],
   "source": [
    "df.isnull().sum()"
   ]
  },
  {
   "cell_type": "code",
   "execution_count": 6,
   "id": "53bb9ca6",
   "metadata": {},
   "outputs": [],
   "source": [
    "df = df.drop(['Unnamed: 0'],axis=1)"
   ]
  },
  {
   "cell_type": "code",
   "execution_count": 7,
   "id": "3444277b",
   "metadata": {},
   "outputs": [
    {
     "data": {
      "text/html": [
       "<div>\n",
       "<style scoped>\n",
       "    .dataframe tbody tr th:only-of-type {\n",
       "        vertical-align: middle;\n",
       "    }\n",
       "\n",
       "    .dataframe tbody tr th {\n",
       "        vertical-align: top;\n",
       "    }\n",
       "\n",
       "    .dataframe thead th {\n",
       "        text-align: right;\n",
       "    }\n",
       "</style>\n",
       "<table border=\"1\" class=\"dataframe\">\n",
       "  <thead>\n",
       "    <tr style=\"text-align: right;\">\n",
       "      <th></th>\n",
       "      <th>CarModel</th>\n",
       "      <th>AgeOfCar</th>\n",
       "      <th>Price</th>\n",
       "      <th>OdoMeterReading</th>\n",
       "      <th>Fuel_Type</th>\n",
       "      <th>DealingType</th>\n",
       "      <th>GearSystem</th>\n",
       "      <th>NoOfOwners</th>\n",
       "      <th>CarCompany</th>\n",
       "      <th>Scalled_Price</th>\n",
       "      <th>Scaled_OdoMeterReading</th>\n",
       "      <th>Fuel_Type_le</th>\n",
       "      <th>DealingType_le</th>\n",
       "      <th>GearSystem_le</th>\n",
       "      <th>NoOfOwners_le</th>\n",
       "      <th>CarCompany_le</th>\n",
       "    </tr>\n",
       "  </thead>\n",
       "  <tbody>\n",
       "    <tr>\n",
       "      <th>0</th>\n",
       "      <td>Ford Figo Aspire 1.5 TDCi Trend</td>\n",
       "      <td>8</td>\n",
       "      <td>574998.75</td>\n",
       "      <td>152620</td>\n",
       "      <td>Diesel</td>\n",
       "      <td>Broker</td>\n",
       "      <td>Manual</td>\n",
       "      <td>First Owner</td>\n",
       "      <td>Ford</td>\n",
       "      <td>0.049549</td>\n",
       "      <td>1.766863</td>\n",
       "      <td>1</td>\n",
       "      <td>0</td>\n",
       "      <td>1</td>\n",
       "      <td>0</td>\n",
       "      <td>8</td>\n",
       "    </tr>\n",
       "    <tr>\n",
       "      <th>1</th>\n",
       "      <td>Mahindra Scorpio SLE BSIV</td>\n",
       "      <td>11</td>\n",
       "      <td>656250.00</td>\n",
       "      <td>149000</td>\n",
       "      <td>Diesel</td>\n",
       "      <td>Direct Owner</td>\n",
       "      <td>Manual</td>\n",
       "      <td>First Owner</td>\n",
       "      <td>Mahindra</td>\n",
       "      <td>0.056869</td>\n",
       "      <td>1.689245</td>\n",
       "      <td>1</td>\n",
       "      <td>1</td>\n",
       "      <td>1</td>\n",
       "      <td>0</td>\n",
       "      <td>17</td>\n",
       "    </tr>\n",
       "    <tr>\n",
       "      <th>2</th>\n",
       "      <td>Tata Manza Club Class Quadrajet90 LS</td>\n",
       "      <td>9</td>\n",
       "      <td>250000.00</td>\n",
       "      <td>104000</td>\n",
       "      <td>Diesel</td>\n",
       "      <td>Direct Owner</td>\n",
       "      <td>Manual</td>\n",
       "      <td>First Owner</td>\n",
       "      <td>Tata</td>\n",
       "      <td>0.020270</td>\n",
       "      <td>0.724381</td>\n",
       "      <td>1</td>\n",
       "      <td>1</td>\n",
       "      <td>1</td>\n",
       "      <td>0</td>\n",
       "      <td>25</td>\n",
       "    </tr>\n",
       "    <tr>\n",
       "      <th>3</th>\n",
       "      <td>Toyota Corolla Altis 1.8 VL AT</td>\n",
       "      <td>13</td>\n",
       "      <td>437500.00</td>\n",
       "      <td>84000</td>\n",
       "      <td>Petrol</td>\n",
       "      <td>Direct Owner</td>\n",
       "      <td>Automatic</td>\n",
       "      <td>Third Owner</td>\n",
       "      <td>Toyota</td>\n",
       "      <td>0.037162</td>\n",
       "      <td>0.295553</td>\n",
       "      <td>4</td>\n",
       "      <td>1</td>\n",
       "      <td>0</td>\n",
       "      <td>4</td>\n",
       "      <td>26</td>\n",
       "    </tr>\n",
       "    <tr>\n",
       "      <th>4</th>\n",
       "      <td>Tata Indigo CS eLS BS IV</td>\n",
       "      <td>12</td>\n",
       "      <td>225000.00</td>\n",
       "      <td>124000</td>\n",
       "      <td>Diesel</td>\n",
       "      <td>Direct Owner</td>\n",
       "      <td>Manual</td>\n",
       "      <td>First Owner</td>\n",
       "      <td>Tata</td>\n",
       "      <td>0.018018</td>\n",
       "      <td>1.153209</td>\n",
       "      <td>1</td>\n",
       "      <td>1</td>\n",
       "      <td>1</td>\n",
       "      <td>0</td>\n",
       "      <td>25</td>\n",
       "    </tr>\n",
       "    <tr>\n",
       "      <th>...</th>\n",
       "      <td>...</td>\n",
       "      <td>...</td>\n",
       "      <td>...</td>\n",
       "      <td>...</td>\n",
       "      <td>...</td>\n",
       "      <td>...</td>\n",
       "      <td>...</td>\n",
       "      <td>...</td>\n",
       "      <td>...</td>\n",
       "      <td>...</td>\n",
       "      <td>...</td>\n",
       "      <td>...</td>\n",
       "      <td>...</td>\n",
       "      <td>...</td>\n",
       "      <td>...</td>\n",
       "      <td>...</td>\n",
       "    </tr>\n",
       "    <tr>\n",
       "      <th>3957</th>\n",
       "      <td>Hyundai EON Era</td>\n",
       "      <td>9</td>\n",
       "      <td>362500.00</td>\n",
       "      <td>16000</td>\n",
       "      <td>Petrol</td>\n",
       "      <td>Broker</td>\n",
       "      <td>Manual</td>\n",
       "      <td>First Owner</td>\n",
       "      <td>Hyundai</td>\n",
       "      <td>0.030405</td>\n",
       "      <td>-1.162463</td>\n",
       "      <td>4</td>\n",
       "      <td>0</td>\n",
       "      <td>1</td>\n",
       "      <td>0</td>\n",
       "      <td>10</td>\n",
       "    </tr>\n",
       "    <tr>\n",
       "      <th>3958</th>\n",
       "      <td>Hyundai Grand i10 1.2 Kappa Asta</td>\n",
       "      <td>6</td>\n",
       "      <td>625000.00</td>\n",
       "      <td>54000</td>\n",
       "      <td>Petrol</td>\n",
       "      <td>Direct Owner</td>\n",
       "      <td>Manual</td>\n",
       "      <td>First Owner</td>\n",
       "      <td>Hyundai</td>\n",
       "      <td>0.054054</td>\n",
       "      <td>-0.347689</td>\n",
       "      <td>4</td>\n",
       "      <td>1</td>\n",
       "      <td>1</td>\n",
       "      <td>0</td>\n",
       "      <td>10</td>\n",
       "    </tr>\n",
       "    <tr>\n",
       "      <th>3959</th>\n",
       "      <td>Maruti Ritz LXi</td>\n",
       "      <td>7</td>\n",
       "      <td>343750.00</td>\n",
       "      <td>164000</td>\n",
       "      <td>Petrol</td>\n",
       "      <td>Direct Owner</td>\n",
       "      <td>Manual</td>\n",
       "      <td>First Owner</td>\n",
       "      <td>Maruti</td>\n",
       "      <td>0.028716</td>\n",
       "      <td>2.010866</td>\n",
       "      <td>4</td>\n",
       "      <td>1</td>\n",
       "      <td>1</td>\n",
       "      <td>0</td>\n",
       "      <td>18</td>\n",
       "    </tr>\n",
       "    <tr>\n",
       "      <th>3960</th>\n",
       "      <td>Honda Amaze VX Diesel BSIV</td>\n",
       "      <td>5</td>\n",
       "      <td>975000.00</td>\n",
       "      <td>36114</td>\n",
       "      <td>Diesel</td>\n",
       "      <td>Broker</td>\n",
       "      <td>Manual</td>\n",
       "      <td>First Owner</td>\n",
       "      <td>Honda</td>\n",
       "      <td>0.085586</td>\n",
       "      <td>-0.731190</td>\n",
       "      <td>1</td>\n",
       "      <td>0</td>\n",
       "      <td>1</td>\n",
       "      <td>0</td>\n",
       "      <td>9</td>\n",
       "    </tr>\n",
       "    <tr>\n",
       "      <th>3961</th>\n",
       "      <td>Honda Brio VX</td>\n",
       "      <td>9</td>\n",
       "      <td>431250.00</td>\n",
       "      <td>62000</td>\n",
       "      <td>Petrol</td>\n",
       "      <td>Broker</td>\n",
       "      <td>Manual</td>\n",
       "      <td>First Owner</td>\n",
       "      <td>Honda</td>\n",
       "      <td>0.036599</td>\n",
       "      <td>-0.176158</td>\n",
       "      <td>4</td>\n",
       "      <td>0</td>\n",
       "      <td>1</td>\n",
       "      <td>0</td>\n",
       "      <td>9</td>\n",
       "    </tr>\n",
       "  </tbody>\n",
       "</table>\n",
       "<p>3962 rows × 16 columns</p>\n",
       "</div>"
      ],
      "text/plain": [
       "                                  CarModel  AgeOfCar      Price  \\\n",
       "0          Ford Figo Aspire 1.5 TDCi Trend         8  574998.75   \n",
       "1                Mahindra Scorpio SLE BSIV        11  656250.00   \n",
       "2     Tata Manza Club Class Quadrajet90 LS         9  250000.00   \n",
       "3           Toyota Corolla Altis 1.8 VL AT        13  437500.00   \n",
       "4                 Tata Indigo CS eLS BS IV        12  225000.00   \n",
       "...                                    ...       ...        ...   \n",
       "3957                       Hyundai EON Era         9  362500.00   \n",
       "3958      Hyundai Grand i10 1.2 Kappa Asta         6  625000.00   \n",
       "3959                       Maruti Ritz LXi         7  343750.00   \n",
       "3960            Honda Amaze VX Diesel BSIV         5  975000.00   \n",
       "3961                         Honda Brio VX         9  431250.00   \n",
       "\n",
       "      OdoMeterReading Fuel_Type   DealingType GearSystem   NoOfOwners  \\\n",
       "0              152620    Diesel        Broker     Manual  First Owner   \n",
       "1              149000    Diesel  Direct Owner     Manual  First Owner   \n",
       "2              104000    Diesel  Direct Owner     Manual  First Owner   \n",
       "3               84000    Petrol  Direct Owner  Automatic  Third Owner   \n",
       "4              124000    Diesel  Direct Owner     Manual  First Owner   \n",
       "...               ...       ...           ...        ...          ...   \n",
       "3957            16000    Petrol        Broker     Manual  First Owner   \n",
       "3958            54000    Petrol  Direct Owner     Manual  First Owner   \n",
       "3959           164000    Petrol  Direct Owner     Manual  First Owner   \n",
       "3960            36114    Diesel        Broker     Manual  First Owner   \n",
       "3961            62000    Petrol        Broker     Manual  First Owner   \n",
       "\n",
       "     CarCompany  Scalled_Price  Scaled_OdoMeterReading  Fuel_Type_le  \\\n",
       "0          Ford       0.049549                1.766863             1   \n",
       "1      Mahindra       0.056869                1.689245             1   \n",
       "2          Tata       0.020270                0.724381             1   \n",
       "3        Toyota       0.037162                0.295553             4   \n",
       "4          Tata       0.018018                1.153209             1   \n",
       "...         ...            ...                     ...           ...   \n",
       "3957    Hyundai       0.030405               -1.162463             4   \n",
       "3958    Hyundai       0.054054               -0.347689             4   \n",
       "3959     Maruti       0.028716                2.010866             4   \n",
       "3960      Honda       0.085586               -0.731190             1   \n",
       "3961      Honda       0.036599               -0.176158             4   \n",
       "\n",
       "      DealingType_le  GearSystem_le  NoOfOwners_le  CarCompany_le  \n",
       "0                  0              1              0              8  \n",
       "1                  1              1              0             17  \n",
       "2                  1              1              0             25  \n",
       "3                  1              0              4             26  \n",
       "4                  1              1              0             25  \n",
       "...              ...            ...            ...            ...  \n",
       "3957               0              1              0             10  \n",
       "3958               1              1              0             10  \n",
       "3959               1              1              0             18  \n",
       "3960               0              1              0              9  \n",
       "3961               0              1              0              9  \n",
       "\n",
       "[3962 rows x 16 columns]"
      ]
     },
     "execution_count": 7,
     "metadata": {},
     "output_type": "execute_result"
    }
   ],
   "source": [
    "df"
   ]
  },
  {
   "cell_type": "code",
   "execution_count": 8,
   "id": "35fb9cd1",
   "metadata": {},
   "outputs": [
    {
     "data": {
      "text/html": [
       "<div>\n",
       "<style scoped>\n",
       "    .dataframe tbody tr th:only-of-type {\n",
       "        vertical-align: middle;\n",
       "    }\n",
       "\n",
       "    .dataframe tbody tr th {\n",
       "        vertical-align: top;\n",
       "    }\n",
       "\n",
       "    .dataframe thead th {\n",
       "        text-align: right;\n",
       "    }\n",
       "</style>\n",
       "<table border=\"1\" class=\"dataframe\">\n",
       "  <thead>\n",
       "    <tr style=\"text-align: right;\">\n",
       "      <th></th>\n",
       "      <th>CarModel</th>\n",
       "      <th>AgeOfCar</th>\n",
       "      <th>Price</th>\n",
       "      <th>OdoMeterReading</th>\n",
       "      <th>Fuel_Type</th>\n",
       "      <th>DealingType</th>\n",
       "      <th>GearSystem</th>\n",
       "      <th>NoOfOwners</th>\n",
       "      <th>CarCompany</th>\n",
       "      <th>Scalled_Price</th>\n",
       "      <th>Scaled_OdoMeterReading</th>\n",
       "      <th>Fuel_Type_le</th>\n",
       "      <th>DealingType_le</th>\n",
       "      <th>GearSystem_le</th>\n",
       "      <th>NoOfOwners_le</th>\n",
       "      <th>CarCompany_le</th>\n",
       "    </tr>\n",
       "  </thead>\n",
       "  <tbody>\n",
       "    <tr>\n",
       "      <th>215</th>\n",
       "      <td>Hyundai Verna CRDi 1.6 AT EX</td>\n",
       "      <td>5</td>\n",
       "      <td>1375000.0</td>\n",
       "      <td>29000</td>\n",
       "      <td>Diesel</td>\n",
       "      <td>Direct Owner</td>\n",
       "      <td>Automatic</td>\n",
       "      <td>Second Owner</td>\n",
       "      <td>Hyundai</td>\n",
       "      <td>0.121622</td>\n",
       "      <td>-0.883724</td>\n",
       "      <td>1</td>\n",
       "      <td>1</td>\n",
       "      <td>0</td>\n",
       "      <td>2</td>\n",
       "      <td>10</td>\n",
       "    </tr>\n",
       "    <tr>\n",
       "      <th>257</th>\n",
       "      <td>Nissan Micra Active XV S</td>\n",
       "      <td>10</td>\n",
       "      <td>205000.0</td>\n",
       "      <td>34000</td>\n",
       "      <td>Petrol</td>\n",
       "      <td>Direct Owner</td>\n",
       "      <td>Manual</td>\n",
       "      <td>First Owner</td>\n",
       "      <td>Nissan</td>\n",
       "      <td>0.016216</td>\n",
       "      <td>-0.776517</td>\n",
       "      <td>4</td>\n",
       "      <td>1</td>\n",
       "      <td>1</td>\n",
       "      <td>0</td>\n",
       "      <td>21</td>\n",
       "    </tr>\n",
       "    <tr>\n",
       "      <th>285</th>\n",
       "      <td>Renault Duster 85PS Diesel RxL</td>\n",
       "      <td>10</td>\n",
       "      <td>562500.0</td>\n",
       "      <td>5000</td>\n",
       "      <td>Diesel</td>\n",
       "      <td>Broker</td>\n",
       "      <td>Manual</td>\n",
       "      <td>Second Owner</td>\n",
       "      <td>Renault</td>\n",
       "      <td>0.048423</td>\n",
       "      <td>-1.398318</td>\n",
       "      <td>1</td>\n",
       "      <td>0</td>\n",
       "      <td>1</td>\n",
       "      <td>2</td>\n",
       "      <td>23</td>\n",
       "    </tr>\n",
       "    <tr>\n",
       "      <th>320</th>\n",
       "      <td>Maruti Ertiga VXI</td>\n",
       "      <td>8</td>\n",
       "      <td>781250.0</td>\n",
       "      <td>15918</td>\n",
       "      <td>Petrol</td>\n",
       "      <td>Trustmark Broker</td>\n",
       "      <td>Manual</td>\n",
       "      <td>First Owner</td>\n",
       "      <td>Maruti</td>\n",
       "      <td>0.068131</td>\n",
       "      <td>-1.164221</td>\n",
       "      <td>4</td>\n",
       "      <td>2</td>\n",
       "      <td>1</td>\n",
       "      <td>0</td>\n",
       "      <td>18</td>\n",
       "    </tr>\n",
       "    <tr>\n",
       "      <th>342</th>\n",
       "      <td>Maruti Swift ZXI BSIV</td>\n",
       "      <td>7</td>\n",
       "      <td>837500.0</td>\n",
       "      <td>11104</td>\n",
       "      <td>Petrol</td>\n",
       "      <td>Trustmark Broker</td>\n",
       "      <td>Manual</td>\n",
       "      <td>First Owner</td>\n",
       "      <td>Maruti</td>\n",
       "      <td>0.073198</td>\n",
       "      <td>-1.267440</td>\n",
       "      <td>4</td>\n",
       "      <td>2</td>\n",
       "      <td>1</td>\n",
       "      <td>0</td>\n",
       "      <td>18</td>\n",
       "    </tr>\n",
       "    <tr>\n",
       "      <th>...</th>\n",
       "      <td>...</td>\n",
       "      <td>...</td>\n",
       "      <td>...</td>\n",
       "      <td>...</td>\n",
       "      <td>...</td>\n",
       "      <td>...</td>\n",
       "      <td>...</td>\n",
       "      <td>...</td>\n",
       "      <td>...</td>\n",
       "      <td>...</td>\n",
       "      <td>...</td>\n",
       "      <td>...</td>\n",
       "      <td>...</td>\n",
       "      <td>...</td>\n",
       "      <td>...</td>\n",
       "      <td>...</td>\n",
       "    </tr>\n",
       "    <tr>\n",
       "      <th>3950</th>\n",
       "      <td>Hyundai EON Era Plus</td>\n",
       "      <td>10</td>\n",
       "      <td>200000.0</td>\n",
       "      <td>84000</td>\n",
       "      <td>Petrol</td>\n",
       "      <td>Direct Owner</td>\n",
       "      <td>Manual</td>\n",
       "      <td>First Owner</td>\n",
       "      <td>Hyundai</td>\n",
       "      <td>0.015766</td>\n",
       "      <td>0.295553</td>\n",
       "      <td>4</td>\n",
       "      <td>1</td>\n",
       "      <td>1</td>\n",
       "      <td>0</td>\n",
       "      <td>10</td>\n",
       "    </tr>\n",
       "    <tr>\n",
       "      <th>3951</th>\n",
       "      <td>Mahindra Bolero 2011-2019 SLE</td>\n",
       "      <td>10</td>\n",
       "      <td>406250.0</td>\n",
       "      <td>66200</td>\n",
       "      <td>Diesel</td>\n",
       "      <td>Broker</td>\n",
       "      <td>Manual</td>\n",
       "      <td>First Owner</td>\n",
       "      <td>Mahindra</td>\n",
       "      <td>0.034347</td>\n",
       "      <td>-0.086104</td>\n",
       "      <td>1</td>\n",
       "      <td>0</td>\n",
       "      <td>1</td>\n",
       "      <td>0</td>\n",
       "      <td>17</td>\n",
       "    </tr>\n",
       "    <tr>\n",
       "      <th>3952</th>\n",
       "      <td>Renault Lodgy Stepway 85PS RXZ 8S</td>\n",
       "      <td>6</td>\n",
       "      <td>812500.0</td>\n",
       "      <td>44000</td>\n",
       "      <td>Diesel</td>\n",
       "      <td>Direct Owner</td>\n",
       "      <td>Manual</td>\n",
       "      <td>First Owner</td>\n",
       "      <td>Renault</td>\n",
       "      <td>0.070946</td>\n",
       "      <td>-0.562103</td>\n",
       "      <td>1</td>\n",
       "      <td>1</td>\n",
       "      <td>1</td>\n",
       "      <td>0</td>\n",
       "      <td>23</td>\n",
       "    </tr>\n",
       "    <tr>\n",
       "      <th>3953</th>\n",
       "      <td>Skoda Laura Ambiente 2.0 TDI CR MT</td>\n",
       "      <td>11</td>\n",
       "      <td>481250.0</td>\n",
       "      <td>56000</td>\n",
       "      <td>Diesel</td>\n",
       "      <td>Broker</td>\n",
       "      <td>Manual</td>\n",
       "      <td>First Owner</td>\n",
       "      <td>Skoda</td>\n",
       "      <td>0.041104</td>\n",
       "      <td>-0.304806</td>\n",
       "      <td>1</td>\n",
       "      <td>0</td>\n",
       "      <td>1</td>\n",
       "      <td>0</td>\n",
       "      <td>24</td>\n",
       "    </tr>\n",
       "    <tr>\n",
       "      <th>3958</th>\n",
       "      <td>Hyundai Grand i10 1.2 Kappa Asta</td>\n",
       "      <td>6</td>\n",
       "      <td>625000.0</td>\n",
       "      <td>54000</td>\n",
       "      <td>Petrol</td>\n",
       "      <td>Direct Owner</td>\n",
       "      <td>Manual</td>\n",
       "      <td>First Owner</td>\n",
       "      <td>Hyundai</td>\n",
       "      <td>0.054054</td>\n",
       "      <td>-0.347689</td>\n",
       "      <td>4</td>\n",
       "      <td>1</td>\n",
       "      <td>1</td>\n",
       "      <td>0</td>\n",
       "      <td>10</td>\n",
       "    </tr>\n",
       "  </tbody>\n",
       "</table>\n",
       "<p>676 rows × 16 columns</p>\n",
       "</div>"
      ],
      "text/plain": [
       "                                CarModel  AgeOfCar      Price  \\\n",
       "215         Hyundai Verna CRDi 1.6 AT EX         5  1375000.0   \n",
       "257             Nissan Micra Active XV S        10   205000.0   \n",
       "285       Renault Duster 85PS Diesel RxL        10   562500.0   \n",
       "320                    Maruti Ertiga VXI         8   781250.0   \n",
       "342                Maruti Swift ZXI BSIV         7   837500.0   \n",
       "...                                  ...       ...        ...   \n",
       "3950                Hyundai EON Era Plus        10   200000.0   \n",
       "3951       Mahindra Bolero 2011-2019 SLE        10   406250.0   \n",
       "3952   Renault Lodgy Stepway 85PS RXZ 8S         6   812500.0   \n",
       "3953  Skoda Laura Ambiente 2.0 TDI CR MT        11   481250.0   \n",
       "3958    Hyundai Grand i10 1.2 Kappa Asta         6   625000.0   \n",
       "\n",
       "      OdoMeterReading Fuel_Type       DealingType GearSystem    NoOfOwners  \\\n",
       "215             29000    Diesel      Direct Owner  Automatic  Second Owner   \n",
       "257             34000    Petrol      Direct Owner     Manual   First Owner   \n",
       "285              5000    Diesel            Broker     Manual  Second Owner   \n",
       "320             15918    Petrol  Trustmark Broker     Manual   First Owner   \n",
       "342             11104    Petrol  Trustmark Broker     Manual   First Owner   \n",
       "...               ...       ...               ...        ...           ...   \n",
       "3950            84000    Petrol      Direct Owner     Manual   First Owner   \n",
       "3951            66200    Diesel            Broker     Manual   First Owner   \n",
       "3952            44000    Diesel      Direct Owner     Manual   First Owner   \n",
       "3953            56000    Diesel            Broker     Manual   First Owner   \n",
       "3958            54000    Petrol      Direct Owner     Manual   First Owner   \n",
       "\n",
       "     CarCompany  Scalled_Price  Scaled_OdoMeterReading  Fuel_Type_le  \\\n",
       "215     Hyundai       0.121622               -0.883724             1   \n",
       "257      Nissan       0.016216               -0.776517             4   \n",
       "285     Renault       0.048423               -1.398318             1   \n",
       "320      Maruti       0.068131               -1.164221             4   \n",
       "342      Maruti       0.073198               -1.267440             4   \n",
       "...         ...            ...                     ...           ...   \n",
       "3950    Hyundai       0.015766                0.295553             4   \n",
       "3951   Mahindra       0.034347               -0.086104             1   \n",
       "3952    Renault       0.070946               -0.562103             1   \n",
       "3953      Skoda       0.041104               -0.304806             1   \n",
       "3958    Hyundai       0.054054               -0.347689             4   \n",
       "\n",
       "      DealingType_le  GearSystem_le  NoOfOwners_le  CarCompany_le  \n",
       "215                1              0              2             10  \n",
       "257                1              1              0             21  \n",
       "285                0              1              2             23  \n",
       "320                2              1              0             18  \n",
       "342                2              1              0             18  \n",
       "...              ...            ...            ...            ...  \n",
       "3950               1              1              0             10  \n",
       "3951               0              1              0             17  \n",
       "3952               1              1              0             23  \n",
       "3953               0              1              0             24  \n",
       "3958               1              1              0             10  \n",
       "\n",
       "[676 rows x 16 columns]"
      ]
     },
     "execution_count": 8,
     "metadata": {},
     "output_type": "execute_result"
    }
   ],
   "source": [
    "duplicate_entries = df[df.duplicated()]\n",
    "duplicate_entries"
   ]
  },
  {
   "cell_type": "markdown",
   "id": "da9804b2",
   "metadata": {},
   "source": [
    "**Observation:**<br>\n",
    "There are 676 repeated entries. But as it doesn't have any key attribute so it's hard to tag it as Duplicated value."
   ]
  },
  {
   "cell_type": "markdown",
   "id": "b64dc5af",
   "metadata": {},
   "source": [
    "## Perform basic EDA"
   ]
  },
  {
   "cell_type": "code",
   "execution_count": 9,
   "id": "8d551b8f",
   "metadata": {},
   "outputs": [
    {
     "data": {
      "text/html": [
       "<div>\n",
       "<style scoped>\n",
       "    .dataframe tbody tr th:only-of-type {\n",
       "        vertical-align: middle;\n",
       "    }\n",
       "\n",
       "    .dataframe tbody tr th {\n",
       "        vertical-align: top;\n",
       "    }\n",
       "\n",
       "    .dataframe thead th {\n",
       "        text-align: right;\n",
       "    }\n",
       "</style>\n",
       "<table border=\"1\" class=\"dataframe\">\n",
       "  <thead>\n",
       "    <tr style=\"text-align: right;\">\n",
       "      <th></th>\n",
       "      <th>AgeOfCar</th>\n",
       "      <th>Price</th>\n",
       "      <th>OdoMeterReading</th>\n",
       "    </tr>\n",
       "  </thead>\n",
       "  <tbody>\n",
       "    <tr>\n",
       "      <th>count</th>\n",
       "      <td>3962.000000</td>\n",
       "      <td>3.962000e+03</td>\n",
       "      <td>3962.000000</td>\n",
       "    </tr>\n",
       "    <tr>\n",
       "      <th>mean</th>\n",
       "      <td>10.047198</td>\n",
       "      <td>4.916326e+05</td>\n",
       "      <td>67031.126451</td>\n",
       "    </tr>\n",
       "    <tr>\n",
       "      <th>std</th>\n",
       "      <td>4.227743</td>\n",
       "      <td>3.106311e+05</td>\n",
       "      <td>36224.197516</td>\n",
       "    </tr>\n",
       "    <tr>\n",
       "      <th>min</th>\n",
       "      <td>3.000000</td>\n",
       "      <td>2.500000e+04</td>\n",
       "      <td>4001.000000</td>\n",
       "    </tr>\n",
       "    <tr>\n",
       "      <th>25%</th>\n",
       "      <td>7.000000</td>\n",
       "      <td>2.500000e+05</td>\n",
       "      <td>39000.000000</td>\n",
       "    </tr>\n",
       "    <tr>\n",
       "      <th>50%</th>\n",
       "      <td>9.000000</td>\n",
       "      <td>4.312500e+05</td>\n",
       "      <td>64000.000000</td>\n",
       "    </tr>\n",
       "    <tr>\n",
       "      <th>75%</th>\n",
       "      <td>12.000000</td>\n",
       "      <td>6.875000e+05</td>\n",
       "      <td>94000.000000</td>\n",
       "    </tr>\n",
       "    <tr>\n",
       "      <th>max</th>\n",
       "      <td>31.000000</td>\n",
       "      <td>1.456250e+06</td>\n",
       "      <td>176000.000000</td>\n",
       "    </tr>\n",
       "  </tbody>\n",
       "</table>\n",
       "</div>"
      ],
      "text/plain": [
       "          AgeOfCar         Price  OdoMeterReading\n",
       "count  3962.000000  3.962000e+03      3962.000000\n",
       "mean     10.047198  4.916326e+05     67031.126451\n",
       "std       4.227743  3.106311e+05     36224.197516\n",
       "min       3.000000  2.500000e+04      4001.000000\n",
       "25%       7.000000  2.500000e+05     39000.000000\n",
       "50%       9.000000  4.312500e+05     64000.000000\n",
       "75%      12.000000  6.875000e+05     94000.000000\n",
       "max      31.000000  1.456250e+06    176000.000000"
      ]
     },
     "execution_count": 9,
     "metadata": {},
     "output_type": "execute_result"
    }
   ],
   "source": [
    "df[['AgeOfCar','Price','OdoMeterReading']].describe()"
   ]
  },
  {
   "cell_type": "markdown",
   "id": "aa581e39",
   "metadata": {},
   "source": [
    "#### Histograms For The Numerical Attributes"
   ]
  },
  {
   "cell_type": "code",
   "execution_count": 10,
   "id": "f6b63f86",
   "metadata": {},
   "outputs": [
    {
     "data": {
      "text/plain": [
       "[Text(0.5, 1.0, 'Histogram of AgeOfCar')]"
      ]
     },
     "execution_count": 10,
     "metadata": {},
     "output_type": "execute_result"
    },
    {
     "data": {
      "image/png": "[encoded data removed]",
      "text/plain": [
       "<Figure size 432x288 with 1 Axes>"
      ]
     },
     "metadata": {
      "needs_background": "light"
     },
     "output_type": "display_data"
    }
   ],
   "source": [
    "sns.histplot(df, x='AgeOfCar').set(title='Histogram of AgeOfCar')"
   ]
  },
  {
   "cell_type": "markdown",
   "id": "fb5d6798",
   "metadata": {},
   "source": [
    "**Observation:**<br>\n",
    "Mean Age for most of cars are 10.04 years but highest number of cars belong to 6-8 years cluster. From which we can understand that Purchasers used to buy their next car after their previous car gets 7-10 years older, i.e. if a person buys a new car now then he/she will buy another one after 7-10 years. "
   ]
  },
  {
   "cell_type": "code",
   "execution_count": 11,
   "id": "f8fadb3b",
   "metadata": {},
   "outputs": [
    {
     "data": {
      "text/plain": [
       "[Text(0.5, 1.0, 'Histogram of Price')]"
      ]
     },
     "execution_count": 11,
     "metadata": {},
     "output_type": "execute_result"
    },
    {
     "data": {
      "image/png": "[encoded data removed]",
      "text/plain": [
       "<Figure size 432x288 with 1 Axes>"
      ]
     },
     "metadata": {
      "needs_background": "light"
     },
     "output_type": "display_data"
    }
   ],
   "source": [
    "sns.histplot(df, x='Price').set(title='Histogram of Price')"
   ]
  },
  {
   "cell_type": "markdown",
   "id": "08b56701",
   "metadata": {},
   "source": [
    "**Observation:**<br>\n",
    "Average Price of the cars is 4.9 Lakhs INR and most of the cars also belong to same cluster. From which we can understand that most of the purchasers invest within 4-6 Lakhs to purchase a car."
   ]
  },
  {
   "cell_type": "code",
   "execution_count": 12,
   "id": "0c6e2e79",
   "metadata": {},
   "outputs": [
    {
     "data": {
      "text/plain": [
       "[Text(0.5, 1.0, 'Histogram of OdoMeterReading')]"
      ]
     },
     "execution_count": 12,
     "metadata": {},
     "output_type": "execute_result"
    },
    {
     "data": {
      "image/png": "[encoded data removed]",
      "text/plain": [
       "<Figure size 432x288 with 1 Axes>"
      ]
     },
     "metadata": {
      "needs_background": "light"
     },
     "output_type": "display_data"
    }
   ],
   "source": [
    "sns.histplot(df, x='OdoMeterReading').set(title='Histogram of OdoMeterReading')"
   ]
  },
  {
   "cell_type": "markdown",
   "id": "268569f6",
   "metadata": {},
   "source": [
    "**Observation:**<br>\n",
    "Average Odo Meter Reading of Cars are 50-80 thousand, here most of the cars belong to same cluster."
   ]
  },
  {
   "cell_type": "code",
   "execution_count": 13,
   "id": "21035495",
   "metadata": {},
   "outputs": [
    {
     "data": {
      "text/plain": [
       "<AxesSubplot: xlabel='Fuel_Type', ylabel='count'>"
      ]
     },
     "execution_count": 13,
     "metadata": {},
     "output_type": "execute_result"
    },
    {
     "data": {
      "image/png": "[encoded data removed]",
      "text/plain": [
       "<Figure size 432x288 with 1 Axes>"
      ]
     },
     "metadata": {
      "needs_background": "light"
     },
     "output_type": "display_data"
    }
   ],
   "source": [
    "sns.countplot(df['Fuel_Type'])"
   ]
  },
  {
   "cell_type": "markdown",
   "id": "34add40e",
   "metadata": {},
   "source": [
    "**Observation:**<br>\n",
    "As per the count plot maximum number of vehicles are run by Petrol. Diesel based cars also have high usage. Whereas there are very less number of vehicles exists which are run by CNG, LPG, Electric repectively. "
   ]
  },
  {
   "cell_type": "code",
   "execution_count": 14,
   "id": "7b8b7266",
   "metadata": {},
   "outputs": [
    {
     "data": {
      "text/plain": [
       "<AxesSubplot: xlabel='DealingType', ylabel='count'>"
      ]
     },
     "execution_count": 14,
     "metadata": {},
     "output_type": "execute_result"
    },
    {
     "data": {
      "image/png": "[encoded data removed]",
      "text/plain": [
       "<Figure size 432x288 with 1 Axes>"
      ]
     },
     "metadata": {
      "needs_background": "light"
     },
     "output_type": "display_data"
    }
   ],
   "source": [
    "sns.countplot(df['DealingType'])"
   ]
  },
  {
   "cell_type": "markdown",
   "id": "6ef66332",
   "metadata": {},
   "source": [
    "**Observation:**<br>\n",
    "As per the count plot, Most of the Car Purchase deal has been done from Direct Owners, which depicts that most of the purchasers still have trust issues with Brokers. "
   ]
  },
  {
   "cell_type": "code",
   "execution_count": 15,
   "id": "321ef392",
   "metadata": {},
   "outputs": [
    {
     "data": {
      "text/plain": [
       "<AxesSubplot: xlabel='GearSystem', ylabel='count'>"
      ]
     },
     "execution_count": 15,
     "metadata": {},
     "output_type": "execute_result"
    },
    {
     "data": {
      "image/png": "[encoded data removed]",
      "text/plain": [
       "<Figure size 432x288 with 1 Axes>"
      ]
     },
     "metadata": {
      "needs_background": "light"
     },
     "output_type": "display_data"
    }
   ],
   "source": [
    "sns.countplot(df['GearSystem'])"
   ]
  },
  {
   "cell_type": "markdown",
   "id": "4224f1e6",
   "metadata": {},
   "source": [
    "**Observation:**<br>\n",
    "Till the time the dataset was prepared Most of the Cars are Manual Gear based, number of Manual Gear based vehicles are much higher than Automatic Gear based vehicles."
   ]
  },
  {
   "cell_type": "code",
   "execution_count": 16,
   "id": "57c64c75",
   "metadata": {},
   "outputs": [
    {
     "data": {
      "text/plain": [
       "<AxesSubplot: xlabel='NoOfOwners', ylabel='count'>"
      ]
     },
     "execution_count": 16,
     "metadata": {},
     "output_type": "execute_result"
    },
    {
     "data": {
      "image/png": "[encoded data removed]",
      "text/plain": [
       "<Figure size 432x288 with 1 Axes>"
      ]
     },
     "metadata": {
      "needs_background": "light"
     },
     "output_type": "display_data"
    }
   ],
   "source": [
    "sns.countplot(df['NoOfOwners'])"
   ]
  },
  {
   "cell_type": "markdown",
   "id": "cf856742",
   "metadata": {},
   "source": [
    "**Observation:**<br>\n",
    "Most of Purchaser are First Owner then Second Owner, Which depicts that most of the purchasers are more tended to buy New or less old cars."
   ]
  },
  {
   "cell_type": "code",
   "execution_count": 17,
   "id": "26fd9f14",
   "metadata": {},
   "outputs": [
    {
     "data": {
      "text/plain": [
       "<AxesSubplot: xlabel='CarCompany', ylabel='count'>"
      ]
     },
     "execution_count": 17,
     "metadata": {},
     "output_type": "execute_result"
    },
    {
     "data": {
      "image/png": "[encoded data removed]",
      "text/plain": [
       "<Figure size 1800x1080 with 1 Axes>"
      ]
     },
     "metadata": {
      "needs_background": "light"
     },
     "output_type": "display_data"
    }
   ],
   "source": [
    "plt.figure(figsize=(25,15))\n",
    "sns.countplot(df['CarCompany'])"
   ]
  },
  {
   "cell_type": "markdown",
   "id": "f8464a34",
   "metadata": {},
   "source": [
    "**Observation:**<br>\n",
    "If we look into Car company's then Maruti company and Hyundai company have the highest number of sales, and Tata, Mahindra, Ford, Honda etc have average number of sales, whereas BMW, Ambassador, Mercedes, Audi etc have minimal sales."
   ]
  },
  {
   "cell_type": "code",
   "execution_count": 18,
   "id": "dce6dfab",
   "metadata": {},
   "outputs": [
    {
     "data": {
      "text/plain": [
       "<seaborn.axisgrid.FacetGrid at 0x20c7664dd00>"
      ]
     },
     "execution_count": 18,
     "metadata": {},
     "output_type": "execute_result"
    },
    {
     "data": {
      "image/png": "[encoded data removed]",
      "text/plain": [
       "<Figure size 360x360 with 1 Axes>"
      ]
     },
     "metadata": {
      "needs_background": "light"
     },
     "output_type": "display_data"
    }
   ],
   "source": [
    "sns.catplot(data=df, x=\"Price\",kind='box')"
   ]
  },
  {
   "cell_type": "code",
   "execution_count": 19,
   "id": "fb3ec1ab",
   "metadata": {},
   "outputs": [
    {
     "data": {
      "text/plain": [
       "<seaborn.axisgrid.FacetGrid at 0x20c766c1a00>"
      ]
     },
     "execution_count": 19,
     "metadata": {},
     "output_type": "execute_result"
    },
    {
     "data": {
      "image/png": "[encoded data removed]",
      "text/plain": [
       "<Figure size 360x360 with 1 Axes>"
      ]
     },
     "metadata": {
      "needs_background": "light"
     },
     "output_type": "display_data"
    }
   ],
   "source": [
    "sns.catplot(data=df, x=\"OdoMeterReading\",kind='box')"
   ]
  },
  {
   "cell_type": "code",
   "execution_count": 20,
   "id": "12508d59",
   "metadata": {},
   "outputs": [
    {
     "data": {
      "text/plain": [
       "<seaborn.axisgrid.FacetGrid at 0x20c76701eb0>"
      ]
     },
     "execution_count": 20,
     "metadata": {},
     "output_type": "execute_result"
    },
    {
     "data": {
      "image/png": "[encoded data removed]",
      "text/plain": [
       "<Figure size 360x360 with 1 Axes>"
      ]
     },
     "metadata": {
      "needs_background": "light"
     },
     "output_type": "display_data"
    }
   ],
   "source": [
    "sns.catplot(data=df, x=\"AgeOfCar\",kind='box')"
   ]
  },
  {
   "cell_type": "markdown",
   "id": "8860f2b9",
   "metadata": {},
   "source": [
    "**Observation:**<br>\n",
    "The boxplot gives us the Min, Max and Quartiles. It also helps us to find Outliers.\n",
    "- In case of AgeOfCar we have found some outliers but as Age is highly crucial for Car Data Analysis so it's good not to ignore those outliers as this can bring some significance towards our model"
   ]
  },
  {
   "cell_type": "code",
   "execution_count": 21,
   "id": "02d7ad51",
   "metadata": {},
   "outputs": [
    {
     "data": {
      "text/plain": [
       "<AxesSubplot: >"
      ]
     },
     "execution_count": 21,
     "metadata": {},
     "output_type": "execute_result"
    },
    {
     "data": {
      "image/png": "[encoded data removed]",
      "text/plain": [
       "<Figure size 432x288 with 2 Axes>"
      ]
     },
     "metadata": {
      "needs_background": "light"
     },
     "output_type": "display_data"
    }
   ],
   "source": [
    "sns.heatmap(df[['AgeOfCar','Price','OdoMeterReading']].corr(),cmap=\"YlGnBu\", annot=True)"
   ]
  },
  {
   "cell_type": "markdown",
   "id": "e4678461",
   "metadata": {},
   "source": [
    "**Observation:**<br>\n",
    "As per the Correlation Heatmap,\n",
    "- AgeOfCar and Price has negative correlation with each other, which is quite natural as car gets older its productivity reduces so its price also decreases.\n",
    "- AgeOfCar and OdoMeterReading has positive correlation with each other, the reason for it can be as car gets older its travelles more distance.\n",
    "- Price and OdometerReading has very less negative correlation, which not enough significant."
   ]
  },
  {
   "cell_type": "code",
   "execution_count": 22,
   "id": "9b53e3d6",
   "metadata": {},
   "outputs": [
    {
     "data": {
      "image/png": "[encoded data removed]",
      "text/plain": [
       "<Figure size 432x288 with 1 Axes>"
      ]
     },
     "metadata": {
      "needs_background": "light"
     },
     "output_type": "display_data"
    }
   ],
   "source": [
    "plt.scatter(df[\"AgeOfCar\"],df[\"Price\"])\n",
    "plt.show()"
   ]
  },
  {
   "cell_type": "markdown",
   "id": "13f1a307",
   "metadata": {},
   "source": [
    "**Observation:**<br>\n",
    "We observed that Price of Cars has decreases as Age of Cars increases which is natural but after 18-20 years Price of cars become almost static."
   ]
  },
  {
   "cell_type": "code",
   "execution_count": 23,
   "id": "03bebc7f",
   "metadata": {},
   "outputs": [
    {
     "name": "stdout",
     "output_type": "stream",
     "text": [
      "           OdoMeterReading\n",
      "Fuel_Type                 \n",
      "CNG           71234.750000\n",
      "Diesel        79808.188773\n",
      "Electric      66000.000000\n",
      "LPG           93634.782609\n",
      "Petrol        55500.650649\n"
     ]
    },
    {
     "data": {
      "text/plain": [
       "(array([0, 1, 2, 3, 4]),\n",
       " [Text(0, 0, 'Diesel'),\n",
       "  Text(1, 0, 'Petrol'),\n",
       "  Text(2, 0, 'CNG'),\n",
       "  Text(3, 0, 'Electric'),\n",
       "  Text(4, 0, 'LPG')])"
      ]
     },
     "execution_count": 23,
     "metadata": {},
     "output_type": "execute_result"
    },
    {
     "data": {
      "image/png": "[encoded data removed]",
      "text/plain": [
       "<Figure size 1800x1080 with 1 Axes>"
      ]
     },
     "metadata": {
      "needs_background": "light"
     },
     "output_type": "display_data"
    }
   ],
   "source": [
    "grouped = df.groupby(\"Fuel_Type\").mean()\n",
    "print(grouped[[\"OdoMeterReading\"]])\n",
    "plt.figure(figsize=(25,15))\n",
    "sns.barplot(df[\"Fuel_Type\"],df[\"OdoMeterReading\"])\n",
    "plt.xticks(rotation=90)"
   ]
  },
  {
   "cell_type": "markdown",
   "id": "313b85a3",
   "metadata": {},
   "source": [
    "**Observation:**<br>\n",
    "LPG, Diesel, and CNG cars have a high amount of Odo Meter Reading maybe the reason for it is most of the commercial vehicles are run by CNG or LPG and Diesel."
   ]
  },
  {
   "cell_type": "code",
   "execution_count": 24,
   "id": "b0bcb036",
   "metadata": {},
   "outputs": [
    {
     "name": "stdout",
     "output_type": "stream",
     "text": [
      "            OdoMeterReading\n",
      "GearSystem                 \n",
      "Automatic      50524.996047\n",
      "Manual         68157.050148\n"
     ]
    },
    {
     "data": {
      "text/plain": [
       "(array([0, 1]), [Text(0, 0, 'Manual'), Text(1, 0, 'Automatic')])"
      ]
     },
     "execution_count": 24,
     "metadata": {},
     "output_type": "execute_result"
    },
    {
     "data": {
      "image/png": "[encoded data removed]",
      "text/plain": [
       "<Figure size 1800x1080 with 1 Axes>"
      ]
     },
     "metadata": {
      "needs_background": "light"
     },
     "output_type": "display_data"
    }
   ],
   "source": [
    "grouped = df.groupby(\"GearSystem\").mean()\n",
    "print(grouped[[\"OdoMeterReading\"]])\n",
    "plt.figure(figsize=(25,15))\n",
    "sns.barplot(df[\"GearSystem\"],df[\"OdoMeterReading\"])\n",
    "plt.xticks(rotation=90)"
   ]
  },
  {
   "cell_type": "markdown",
   "id": "37a4483f",
   "metadata": {},
   "source": [
    "**Observation:**<br>\n",
    "Most of the Manual Gear Based vehicles has travelled more distance than Autometic Gear Based vehicles."
   ]
  },
  {
   "cell_type": "code",
   "execution_count": 25,
   "id": "c3a76588",
   "metadata": {},
   "outputs": [
    {
     "name": "stdout",
     "output_type": "stream",
     "text": [
      "                   Price\n",
      "Fuel_Type               \n",
      "CNG        346468.656250\n",
      "Diesel     606560.219455\n",
      "Electric   387500.000000\n",
      "LPG        209782.554348\n",
      "Petrol     397240.276309\n"
     ]
    },
    {
     "data": {
      "text/plain": [
       "(array([0, 1, 2, 3, 4]),\n",
       " [Text(0, 0, 'Diesel'),\n",
       "  Text(1, 0, 'Petrol'),\n",
       "  Text(2, 0, 'CNG'),\n",
       "  Text(3, 0, 'Electric'),\n",
       "  Text(4, 0, 'LPG')])"
      ]
     },
     "execution_count": 25,
     "metadata": {},
     "output_type": "execute_result"
    },
    {
     "data": {
      "image/png": "[encoded data removed]",
      "text/plain": [
       "<Figure size 1800x1080 with 1 Axes>"
      ]
     },
     "metadata": {
      "needs_background": "light"
     },
     "output_type": "display_data"
    }
   ],
   "source": [
    "grouped = df.groupby(\"Fuel_Type\").mean()\n",
    "print(grouped[[\"Price\"]])\n",
    "plt.figure(figsize=(25,15))\n",
    "sns.barplot(df[\"Fuel_Type\"],df[\"Price\"])\n",
    "plt.xticks(rotation=90)"
   ]
  },
  {
   "cell_type": "markdown",
   "id": "f4bdb790",
   "metadata": {},
   "source": [
    "**Observation:**<br>\n",
    "According to this dataset, the price of Diesel cars are much higher than others. Apart from Diesel run cars, Petrol and Electric run cars are also costly. Whereas, LPG run cars are the most cheaper one."
   ]
  },
  {
   "cell_type": "code",
   "execution_count": 26,
   "id": "023592fa",
   "metadata": {},
   "outputs": [
    {
     "name": "stdout",
     "output_type": "stream",
     "text": [
      "                    Price\n",
      "GearSystem               \n",
      "Automatic   741531.585968\n",
      "Manual      474586.327177\n"
     ]
    },
    {
     "data": {
      "text/plain": [
       "(array([0, 1]), [Text(0, 0, 'Manual'), Text(1, 0, 'Automatic')])"
      ]
     },
     "execution_count": 26,
     "metadata": {},
     "output_type": "execute_result"
    },
    {
     "data": {
      "image/png": "[encoded data removed]",
      "text/plain": [
       "<Figure size 1800x1080 with 1 Axes>"
      ]
     },
     "metadata": {
      "needs_background": "light"
     },
     "output_type": "display_data"
    }
   ],
   "source": [
    "grouped = df.groupby(\"GearSystem\").mean()\n",
    "print(grouped[[\"Price\"]])\n",
    "plt.figure(figsize=(25,15))\n",
    "sns.barplot(df[\"GearSystem\"],df[\"Price\"])\n",
    "plt.xticks(rotation=90)"
   ]
  },
  {
   "cell_type": "markdown",
   "id": "24555938",
   "metadata": {},
   "source": [
    "**Observation:**<br>\n",
    "Auomatic Gear based vehicles are costlier than Manual Gear Based Vehicles as Auto Gear Vehicles needs more technologically advanced parts so it gets costlier."
   ]
  },
  {
   "cell_type": "code",
   "execution_count": 27,
   "id": "294cfab2",
   "metadata": {},
   "outputs": [
    {
     "name": "stdout",
     "output_type": "stream",
     "text": [
      "                          Price\n",
      "DealingType                    \n",
      "Broker            591938.529240\n",
      "Direct Owner      452498.587227\n",
      "Trustmark Broker  855056.179775\n"
     ]
    },
    {
     "data": {
      "text/plain": [
       "(array([0, 1, 2]),\n",
       " [Text(0, 0, 'Broker'),\n",
       "  Text(1, 0, 'Direct Owner'),\n",
       "  Text(2, 0, 'Trustmark Broker')])"
      ]
     },
     "execution_count": 27,
     "metadata": {},
     "output_type": "execute_result"
    },
    {
     "data": {
      "image/png": "[encoded data removed]",
      "text/plain": [
       "<Figure size 1800x1080 with 1 Axes>"
      ]
     },
     "metadata": {
      "needs_background": "light"
     },
     "output_type": "display_data"
    }
   ],
   "source": [
    "grouped = df.groupby(\"DealingType\").mean()\n",
    "print(grouped[[\"Price\"]])\n",
    "plt.figure(figsize=(25,15))\n",
    "sns.barplot(df[\"DealingType\"],df[\"Price\"])\n",
    "plt.xticks(rotation=90)"
   ]
  },
  {
   "cell_type": "markdown",
   "id": "b63994fe",
   "metadata": {},
   "source": [
    "**Observation:**<br>\n",
    "Trustmark Broker are selling cars in much higher price, where in case of Direct Owner deal prices are much lower. So, Brokers are more proficient for car sellers whereas Direct Owner deals are much more beneficial for Purchasers."
   ]
  },
  {
   "cell_type": "code",
   "execution_count": 28,
   "id": "27eaf4fe",
   "metadata": {},
   "outputs": [
    {
     "name": "stdout",
     "output_type": "stream",
     "text": [
      "                      Price\n",
      "CarCompany                 \n",
      "Ambassador     2.250000e+05\n",
      "Audi           1.260417e+06\n",
      "BMW            1.025000e+06\n",
      "Chevrolet      2.952085e+05\n",
      "Daewoo         7.500000e+04\n",
      "Datsun         3.712837e+05\n",
      "Fiat           3.596180e+05\n",
      "Force          4.325000e+05\n",
      "Ford           5.997888e+05\n",
      "Honda          6.360477e+05\n",
      "Hyundai        4.959453e+05\n",
      "Mahindra       6.685416e+05\n",
      "Maruti         4.288072e+05\n",
      "Mercedes-Benz  1.086500e+06\n",
      "Mitsubishi     1.072500e+06\n",
      "Nissan         5.445634e+05\n",
      "OpelCorsa      1.106250e+05\n",
      "Renault        5.235258e+05\n",
      "Skoda          5.773016e+05\n",
      "Tata           3.199450e+05\n",
      "Toyota         7.229456e+05\n",
      "Volkswagen     5.821033e+05\n"
     ]
    },
    {
     "data": {
      "text/plain": [
       "(array([ 0,  1,  2,  3,  4,  5,  6,  7,  8,  9, 10, 11, 12, 13, 14, 15, 16,\n",
       "        17, 18, 19, 20, 21]),\n",
       " [Text(0, 0, 'Ford'),\n",
       "  Text(1, 0, 'Mahindra'),\n",
       "  Text(2, 0, 'Tata'),\n",
       "  Text(3, 0, 'Toyota'),\n",
       "  Text(4, 0, 'Skoda'),\n",
       "  Text(5, 0, 'Hyundai'),\n",
       "  Text(6, 0, 'Maruti'),\n",
       "  Text(7, 0, 'Datsun'),\n",
       "  Text(8, 0, 'Honda'),\n",
       "  Text(9, 0, 'Renault'),\n",
       "  Text(10, 0, 'Mitsubishi'),\n",
       "  Text(11, 0, 'Nissan'),\n",
       "  Text(12, 0, 'Volkswagen'),\n",
       "  Text(13, 0, 'Chevrolet'),\n",
       "  Text(14, 0, 'Fiat'),\n",
       "  Text(15, 0, 'BMW'),\n",
       "  Text(16, 0, 'Ambassador'),\n",
       "  Text(17, 0, 'Mercedes-Benz'),\n",
       "  Text(18, 0, 'OpelCorsa'),\n",
       "  Text(19, 0, 'Audi'),\n",
       "  Text(20, 0, 'Force'),\n",
       "  Text(21, 0, 'Daewoo')])"
      ]
     },
     "execution_count": 28,
     "metadata": {},
     "output_type": "execute_result"
    },
    {
     "data": {
      "image/png": "[encoded data removed]",
      "text/plain": [
       "<Figure size 1800x1080 with 1 Axes>"
      ]
     },
     "metadata": {
      "needs_background": "light"
     },
     "output_type": "display_data"
    }
   ],
   "source": [
    "grouped = df.groupby(\"CarCompany\").mean()\n",
    "print(grouped[[\"Price\"]])\n",
    "plt.figure(figsize=(25,15))\n",
    "sns.barplot(df[\"CarCompany\"],df[\"Price\"])\n",
    "plt.xticks(rotation=90)"
   ]
  },
  {
   "cell_type": "markdown",
   "id": "8e8a4aa5",
   "metadata": {},
   "source": [
    " **Observation:**<br>\n",
    "As per the dataset, Audi, BMW, Mercedes-Benz, Mitsubishi are the most expensive cars, whereas OpelCorsa and Daewoo are the cheaper one. Maruti, Tata, Ford, Honda, Nissan etc are the most affordable one as their price is average."
   ]
  },
  {
   "cell_type": "code",
   "execution_count": 29,
   "id": "ff0ccb33",
   "metadata": {},
   "outputs": [
    {
     "name": "stdout",
     "output_type": "stream",
     "text": [
      "                             Price\n",
      "NoOfOwners                        \n",
      "First Owner           5.633570e+05\n",
      "Fourth & Above Owner  2.105427e+05\n",
      "Second Owner          3.842378e+05\n",
      "Test Drive Car        1.090000e+06\n",
      "Third Owner           2.797217e+05\n"
     ]
    },
    {
     "data": {
      "text/plain": [
       "(array([0, 1, 2, 3, 4]),\n",
       " [Text(0, 0, 'First Owner'),\n",
       "  Text(1, 0, 'Third Owner'),\n",
       "  Text(2, 0, 'Second Owner'),\n",
       "  Text(3, 0, 'Fourth & Above Owner'),\n",
       "  Text(4, 0, 'Test Drive Car')])"
      ]
     },
     "execution_count": 29,
     "metadata": {},
     "output_type": "execute_result"
    },
    {
     "data": {
      "image/png": "[encoded data removed]",
      "text/plain": [
       "<Figure size 1800x1080 with 1 Axes>"
      ]
     },
     "metadata": {
      "needs_background": "light"
     },
     "output_type": "display_data"
    }
   ],
   "source": [
    "grouped = df.groupby(\"NoOfOwners\").mean()\n",
    "print(grouped[[\"Price\"]])\n",
    "plt.figure(figsize=(25,15))\n",
    "sns.barplot(df[\"NoOfOwners\"],df[\"Price\"])\n",
    "plt.xticks(rotation=90)"
   ]
  },
  {
   "cell_type": "markdown",
   "id": "a8a6929c",
   "metadata": {},
   "source": [
    "**Observation:**<br>\n",
    "Test Drive Cars are much more costlier than other type of Cars. Maybe for commercial/advertising purpose Test Drive cars are manufactured in more proffesional way which can be the reason for its higher price."
   ]
  },
  {
   "cell_type": "code",
   "execution_count": 30,
   "id": "9ae5c0d9",
   "metadata": {},
   "outputs": [
    {
     "data": {
      "text/plain": [
       "<AxesSubplot: xlabel='OdoMeterReading', ylabel='Price'>"
      ]
     },
     "execution_count": 30,
     "metadata": {},
     "output_type": "execute_result"
    },
    {
     "data": {
      "image/png": "[encoded data removed]",
      "text/plain": [
       "<Figure size 432x288 with 1 Axes>"
      ]
     },
     "metadata": {
      "needs_background": "light"
     },
     "output_type": "display_data"
    }
   ],
   "source": [
    "sns.regplot(x = 'OdoMeterReading',y = 'Price',data=df)"
   ]
  },
  {
   "cell_type": "code",
   "execution_count": 31,
   "id": "e9654496",
   "metadata": {},
   "outputs": [
    {
     "data": {
      "text/plain": [
       "<AxesSubplot: xlabel='AgeOfCar', ylabel='Price'>"
      ]
     },
     "execution_count": 31,
     "metadata": {},
     "output_type": "execute_result"
    },
    {
     "data": {
      "image/png": "[encoded data removed]",
      "text/plain": [
       "<Figure size 432x288 with 1 Axes>"
      ]
     },
     "metadata": {
      "needs_background": "light"
     },
     "output_type": "display_data"
    }
   ],
   "source": [
    "sns.regplot(x = 'AgeOfCar',y = 'Price',data=df)"
   ]
  },
  {
   "cell_type": "markdown",
   "id": "04bc4b08",
   "metadata": {},
   "source": [
    "## Perform Linear Regression with the SKLearn Library"
   ]
  },
  {
   "cell_type": "markdown",
   "id": "bf6d6514",
   "metadata": {},
   "source": [
    "### Machine Learning Modelling Using Sklearn"
   ]
  },
  {
   "cell_type": "code",
   "execution_count": 32,
   "id": "9233708a",
   "metadata": {},
   "outputs": [],
   "source": [
    "from sklearn.linear_model import LinearRegression\n",
    "from sklearn.model_selection import train_test_split\n",
    "from sklearn.metrics import r2_score\n",
    "from sklearn.metrics import mean_absolute_error\n",
    "from sklearn.metrics import mean_squared_error"
   ]
  },
  {
   "cell_type": "markdown",
   "id": "23776bc7",
   "metadata": {},
   "source": [
    "### Linear Regression"
   ]
  },
  {
   "cell_type": "code",
   "execution_count": 33,
   "id": "faf07314",
   "metadata": {},
   "outputs": [],
   "source": [
    "X = df[['AgeOfCar','Scaled_OdoMeterReading','Fuel_Type_le','DealingType_le','GearSystem_le','NoOfOwners_le','CarCompany_le']]\n",
    "y = df['Price']"
   ]
  },
  {
   "cell_type": "code",
   "execution_count": 34,
   "id": "c83d641b",
   "metadata": {},
   "outputs": [],
   "source": [
    "X_train, X_test, y_train, y_test = train_test_split(X,y)"
   ]
  },
  {
   "cell_type": "code",
   "execution_count": 35,
   "id": "64a4feda",
   "metadata": {},
   "outputs": [],
   "source": [
    "lr = LinearRegression()\n",
    "\n",
    "lr.fit(X_train, y_train)\n",
    "\n",
    "y_pred = lr.predict(X_test)"
   ]
  },
  {
   "cell_type": "code",
   "execution_count": 36,
   "id": "4590d572",
   "metadata": {},
   "outputs": [
    {
     "name": "stdout",
     "output_type": "stream",
     "text": [
      "\u001b[1m\n",
      "Summary Of Linear Regression Model\u001b[0m\n",
      "Accuracy Of The Model:  49.32 %\n",
      "R Squared Score:  0.49315526605097404\n",
      "Mean Absolute Error:  166076.7527928956\n",
      "Mean Squared Error:  47717643884.80928\n",
      "Weights/Slops With Different Independet Attributes:  [ -36224.11415794  -51546.50035948  -69393.49191181   -8210.53634827\n",
      " -196134.34492191  -12486.41324234    -924.70868099]\n",
      "Intercept Of The Model:  1247614.634216601\n"
     ]
    }
   ],
   "source": [
    "print(\"\\033[1m\" +\"\\nSummary Of Linear Regression Model\"+ \"\\033[0m\")\n",
    "print(\"Accuracy Of The Model: \",round(lr.score(X_test, y_test)*100,2),\"%\")\n",
    "print(\"R Squared Score: \",r2_score(y_test, y_pred))\n",
    "print(\"Mean Absolute Error: \",mean_absolute_error(y_test, y_pred))\n",
    "print(\"Mean Squared Error: \",mean_squared_error(y_test, y_pred))\n",
    "print(\"Weights/Slops With Different Independet Attributes: \",lr.coef_)\n",
    "print(\"Intercept Of The Model: \",lr.intercept_)"
   ]
  },
  {
   "cell_type": "markdown",
   "id": "008561ef",
   "metadata": {},
   "source": [
    "## Use different variations of Linear Regression as available in Statsmodels Library"
   ]
  },
  {
   "cell_type": "markdown",
   "id": "89030b80",
   "metadata": {},
   "source": [
    "### Simple Linear Regression"
   ]
  },
  {
   "cell_type": "code",
   "execution_count": 37,
   "id": "b7d5f9ea",
   "metadata": {},
   "outputs": [
    {
     "name": "stdout",
     "output_type": "stream",
     "text": [
      "                            OLS Regression Results                            \n",
      "==============================================================================\n",
      "Dep. Variable:                  Price   R-squared:                       0.082\n",
      "Model:                            OLS   Adj. R-squared:                  0.082\n",
      "Method:                 Least Squares   F-statistic:                     352.6\n",
      "Date:                Sun, 19 Feb 2023   Prob (F-statistic):           2.00e-75\n",
      "Time:                        16:54:27   Log-Likelihood:                -55557.\n",
      "No. Observations:                3962   AIC:                         1.111e+05\n",
      "Df Residuals:                    3960   BIC:                         1.111e+05\n",
      "Df Model:                           1                                         \n",
      "Covariance Type:            nonrobust                                         \n",
      "===================================================================================\n",
      "                      coef    std err          t      P>|t|      [0.025      0.975]\n",
      "-----------------------------------------------------------------------------------\n",
      "const             6.56e+05   9949.006     65.935      0.000    6.36e+05    6.75e+05\n",
      "OdoMeterReading    -2.4519      0.131    -18.777      0.000      -2.708      -2.196\n",
      "==============================================================================\n",
      "Omnibus:                      325.778   Durbin-Watson:                   2.014\n",
      "Prob(Omnibus):                  0.000   Jarque-Bera (JB):              410.200\n",
      "Skew:                           0.784   Prob(JB):                     8.44e-90\n",
      "Kurtosis:                       3.162   Cond. No.                     1.60e+05\n",
      "==============================================================================\n",
      "\n",
      "Notes:\n",
      "[1] Standard Errors assume that the covariance matrix of the errors is correctly specified.\n",
      "[2] The condition number is large, 1.6e+05. This might indicate that there are\n",
      "strong multicollinearity or other numerical problems.\n"
     ]
    }
   ],
   "source": [
    "import statsmodels.api as sm\n",
    "\n",
    "X = df['OdoMeterReading']\n",
    "y = df['Price']\n",
    "\n",
    "X = sm.add_constant(X)\n",
    "model1 = sm.OLS(y, X).fit()\n",
    "\n",
    "print(model1.summary())"
   ]
  },
  {
   "cell_type": "markdown",
   "id": "48682225",
   "metadata": {},
   "source": [
    "### Multiple Linear Regression"
   ]
  },
  {
   "cell_type": "code",
   "execution_count": 38,
   "id": "864ae7ac",
   "metadata": {},
   "outputs": [
    {
     "name": "stdout",
     "output_type": "stream",
     "text": [
      "                            OLS Regression Results                            \n",
      "==============================================================================\n",
      "Dep. Variable:                  Price   R-squared:                       0.509\n",
      "Model:                            OLS   Adj. R-squared:                  0.508\n",
      "Method:                 Least Squares   F-statistic:                     586.1\n",
      "Date:                Sun, 19 Feb 2023   Prob (F-statistic):               0.00\n",
      "Time:                        16:54:27   Log-Likelihood:                -54316.\n",
      "No. Observations:                3962   AIC:                         1.086e+05\n",
      "Df Residuals:                    3954   BIC:                         1.087e+05\n",
      "Df Model:                           7                                         \n",
      "Covariance Type:            nonrobust                                         \n",
      "==========================================================================================\n",
      "                             coef    std err          t      P>|t|      [0.025      0.975]\n",
      "------------------------------------------------------------------------------------------\n",
      "const                   1.266e+06   1.95e+04     64.899      0.000    1.23e+06     1.3e+06\n",
      "AgeOfCar               -3.697e+04   1012.070    -36.534      0.000    -3.9e+04    -3.5e+04\n",
      "Scaled_OdoMeterReading -4.943e+04   5656.449     -8.739      0.000   -6.05e+04   -3.83e+04\n",
      "Fuel_Type_le           -6.736e+04   2577.804    -26.130      0.000   -7.24e+04   -6.23e+04\n",
      "DealingType_le          3397.6529   7961.532      0.427      0.670   -1.22e+04     1.9e+04\n",
      "GearSystem_le          -2.218e+05   1.44e+04    -15.416      0.000    -2.5e+05   -1.94e+05\n",
      "NoOfOwners_le          -1.286e+04   3164.478     -4.063      0.000   -1.91e+04   -6652.080\n",
      "CarCompany_le          -1058.4104    539.310     -1.963      0.050   -2115.762      -1.059\n",
      "==============================================================================\n",
      "Omnibus:                      494.112   Durbin-Watson:                   1.995\n",
      "Prob(Omnibus):                  0.000   Jarque-Bera (JB):              804.508\n",
      "Skew:                           0.861   Prob(JB):                    2.01e-175\n",
      "Kurtosis:                       4.381   Cond. No.                         127.\n",
      "==============================================================================\n",
      "\n",
      "Notes:\n",
      "[1] Standard Errors assume that the covariance matrix of the errors is correctly specified.\n"
     ]
    }
   ],
   "source": [
    "import statsmodels.api as sm\n",
    "\n",
    "X = df[['AgeOfCar','Scaled_OdoMeterReading','Fuel_Type_le','DealingType_le','GearSystem_le','NoOfOwners_le','CarCompany_le']]\n",
    "y = df['Price']\n",
    "\n",
    "X = sm.add_constant(X)\n",
    "\n",
    "model2 = sm.OLS(y,X).fit()\n",
    "\n",
    "print(model2.summary())"
   ]
  },
  {
   "cell_type": "markdown",
   "id": "a3302cb6",
   "metadata": {},
   "source": [
    "### Polynomial Regression"
   ]
  },
  {
   "cell_type": "code",
   "execution_count": 39,
   "id": "e68d2907",
   "metadata": {},
   "outputs": [
    {
     "name": "stdout",
     "output_type": "stream",
     "text": [
      "                            OLS Regression Results                            \n",
      "==============================================================================\n",
      "Dep. Variable:                  Price   R-squared:                       0.103\n",
      "Model:                            OLS   Adj. R-squared:                  0.103\n",
      "Method:                 Least Squares   F-statistic:                     227.5\n",
      "Date:                Sun, 19 Feb 2023   Prob (F-statistic):           2.86e-94\n",
      "Time:                        16:54:27   Log-Likelihood:                -55511.\n",
      "No. Observations:                3962   AIC:                         1.110e+05\n",
      "Df Residuals:                    3959   BIC:                         1.110e+05\n",
      "Df Model:                           2                                         \n",
      "Covariance Type:            nonrobust                                         \n",
      "====================================================================================\n",
      "                       coef    std err          t      P>|t|      [0.025      0.975]\n",
      "------------------------------------------------------------------------------------\n",
      "const             7.786e+05    1.6e+04     48.628      0.000    7.47e+05     8.1e+05\n",
      "OdoMeterReading     -6.7701      0.463    -14.615      0.000      -7.678      -5.862\n",
      "OdoMeterReading2  2.873e-05   2.96e-06      9.706      0.000    2.29e-05    3.45e-05\n",
      "==============================================================================\n",
      "Omnibus:                      346.927   Durbin-Watson:                   2.012\n",
      "Prob(Omnibus):                  0.000   Jarque-Bera (JB):              442.347\n",
      "Skew:                           0.810   Prob(JB):                     8.82e-97\n",
      "Kurtosis:                       3.233   Cond. No.                     2.78e+10\n",
      "==============================================================================\n",
      "\n",
      "Notes:\n",
      "[1] Standard Errors assume that the covariance matrix of the errors is correctly specified.\n",
      "[2] The condition number is large, 2.78e+10. This might indicate that there are\n",
      "strong multicollinearity or other numerical problems.\n"
     ]
    }
   ],
   "source": [
    "X = df['OdoMeterReading']\n",
    "y = df['Price']\n",
    "\n",
    "X = sm.add_constant(X)\n",
    "X['OdoMeterReading2'] = X['OdoMeterReading']**2 \n",
    "\n",
    "model3 = sm.OLS(y, X).fit()\n",
    "\n",
    "print(model3.summary())"
   ]
  },
  {
   "cell_type": "markdown",
   "id": "5bb575a5",
   "metadata": {},
   "source": [
    "## Compare The Results Of Various Models"
   ]
  },
  {
   "cell_type": "code",
   "execution_count": 40,
   "id": "6ac1635b",
   "metadata": {},
   "outputs": [
    {
     "name": "stdout",
     "output_type": "stream",
     "text": [
      "\u001b[1mR-squared:\u001b[0m\n",
      "Model 1 (Simple Linear Regression): 0.08175725232906794\n",
      "Model 2 (Multiple Linear Regression): 0.5092157160533072\n",
      "Model 3 (Polynomial Regression): 0.10310036674522072\n",
      "\u001b[1mRMSE:\u001b[0m\n",
      "Model 1 (Simple Linear Regression): 297699.8019369274\n",
      "Model 2 (Multiple Linear Regression): 217808.27539067698\n",
      "Model 3 (Polynomial Regression): 294256.8337155474\n",
      "\u001b[1mAIC:\u001b[0m\n",
      "Model 1 (Simple Linear Regression): 111118.50357868116\n",
      "Model 2 (Multiple Linear Regression): 108648.48056570279\n",
      "Model 3 (Polynomial Regression): 111027.3259661021\n"
     ]
    }
   ],
   "source": [
    "print(\"\\033[1m\"+'R-squared:'+\"\\033[0m\")\n",
    "print('Model 1 (Simple Linear Regression):', model1.rsquared)\n",
    "print('Model 2 (Multiple Linear Regression):', model2.rsquared)\n",
    "print('Model 3 (Polynomial Regression):', model3.rsquared)\n",
    "\n",
    "print(\"\\033[1m\"+'RMSE:'+\"\\033[0m\")\n",
    "print('Model 1 (Simple Linear Regression):', model1.mse_resid ** 0.5)\n",
    "print('Model 2 (Multiple Linear Regression):', model2.mse_resid ** 0.5)\n",
    "print('Model 3 (Polynomial Regression):', model3.mse_resid ** 0.5)\n",
    "\n",
    "print(\"\\033[1m\"+'AIC:'+\"\\033[0m\")\n",
    "print('Model 1 (Simple Linear Regression):', model1.aic)\n",
    "print('Model 2 (Multiple Linear Regression):', model2.aic)\n",
    "print('Model 3 (Polynomial Regression):', model3.aic)"
   ]
  },
  {
   "cell_type": "code",
   "execution_count": 41,
   "id": "3700e2e1",
   "metadata": {},
   "outputs": [],
   "source": [
    "def performSKLearnLR(test_size, random_state):\n",
    "    X_train, X_test, y_train, y_test = train_test_split(X, y, test_size = test_size, random_state = random_state)\n",
    "    model = LinearRegression()\n",
    "    model.fit(X_train, y_train)\n",
    "    y_pred = model.predict(X_test)\n",
    "    acc = r2_score(y_pred, y_test)\n",
    "    return acc"
   ]
  },
  {
   "cell_type": "code",
   "execution_count": 42,
   "id": "ed277bf1",
   "metadata": {},
   "outputs": [],
   "source": [
    "results_dataframe = pd.DataFrame(columns = ['Model', 'Test Size', 'Random State', 'Accuracy'])\n",
    "random_states = [10, 20, 30, 40, 42, 50, 60]\n",
    "test_sizes = [0.1, 0.2, 0.3, 0.4, 0.5, 0.6, 0.7, 0.8]\n",
    "\n",
    "for r_s in random_states:\n",
    "    for ts in test_sizes:\n",
    "        acc = performSKLearnLR(ts, r_s)\n",
    "        result = {}\n",
    "        result['Model'] = \"Linear Regression in SKLearn\"\n",
    "        result['Test Size'] = ts\n",
    "        result['Random State'] = r_s\n",
    "        result['Accuracy'] = acc\n",
    "        results_dataframe = results_dataframe.append(result, ignore_index = True)"
   ]
  },
  {
   "cell_type": "code",
   "execution_count": 43,
   "id": "7d57385a",
   "metadata": {},
   "outputs": [
    {
     "data": {
      "text/html": [
       "<div>\n",
       "<style scoped>\n",
       "    .dataframe tbody tr th:only-of-type {\n",
       "        vertical-align: middle;\n",
       "    }\n",
       "\n",
       "    .dataframe tbody tr th {\n",
       "        vertical-align: top;\n",
       "    }\n",
       "\n",
       "    .dataframe thead th {\n",
       "        text-align: right;\n",
       "    }\n",
       "</style>\n",
       "<table border=\"1\" class=\"dataframe\">\n",
       "  <thead>\n",
       "    <tr style=\"text-align: right;\">\n",
       "      <th></th>\n",
       "      <th>Model</th>\n",
       "      <th>Test Size</th>\n",
       "      <th>Random State</th>\n",
       "      <th>Accuracy</th>\n",
       "    </tr>\n",
       "  </thead>\n",
       "  <tbody>\n",
       "    <tr>\n",
       "      <th>0</th>\n",
       "      <td>Linear Regression in SKLearn</td>\n",
       "      <td>0.1</td>\n",
       "      <td>10</td>\n",
       "      <td>-5.845567</td>\n",
       "    </tr>\n",
       "    <tr>\n",
       "      <th>1</th>\n",
       "      <td>Linear Regression in SKLearn</td>\n",
       "      <td>0.2</td>\n",
       "      <td>10</td>\n",
       "      <td>-6.999002</td>\n",
       "    </tr>\n",
       "    <tr>\n",
       "      <th>2</th>\n",
       "      <td>Linear Regression in SKLearn</td>\n",
       "      <td>0.3</td>\n",
       "      <td>10</td>\n",
       "      <td>-7.329305</td>\n",
       "    </tr>\n",
       "    <tr>\n",
       "      <th>3</th>\n",
       "      <td>Linear Regression in SKLearn</td>\n",
       "      <td>0.4</td>\n",
       "      <td>10</td>\n",
       "      <td>-7.843927</td>\n",
       "    </tr>\n",
       "    <tr>\n",
       "      <th>4</th>\n",
       "      <td>Linear Regression in SKLearn</td>\n",
       "      <td>0.5</td>\n",
       "      <td>10</td>\n",
       "      <td>-8.084530</td>\n",
       "    </tr>\n",
       "    <tr>\n",
       "      <th>5</th>\n",
       "      <td>Linear Regression in SKLearn</td>\n",
       "      <td>0.6</td>\n",
       "      <td>10</td>\n",
       "      <td>-7.938448</td>\n",
       "    </tr>\n",
       "    <tr>\n",
       "      <th>6</th>\n",
       "      <td>Linear Regression in SKLearn</td>\n",
       "      <td>0.7</td>\n",
       "      <td>10</td>\n",
       "      <td>-7.737164</td>\n",
       "    </tr>\n",
       "    <tr>\n",
       "      <th>7</th>\n",
       "      <td>Linear Regression in SKLearn</td>\n",
       "      <td>0.8</td>\n",
       "      <td>10</td>\n",
       "      <td>-8.120226</td>\n",
       "    </tr>\n",
       "    <tr>\n",
       "      <th>8</th>\n",
       "      <td>Linear Regression in SKLearn</td>\n",
       "      <td>0.1</td>\n",
       "      <td>20</td>\n",
       "      <td>-9.019119</td>\n",
       "    </tr>\n",
       "    <tr>\n",
       "      <th>9</th>\n",
       "      <td>Linear Regression in SKLearn</td>\n",
       "      <td>0.2</td>\n",
       "      <td>20</td>\n",
       "      <td>-8.743471</td>\n",
       "    </tr>\n",
       "    <tr>\n",
       "      <th>10</th>\n",
       "      <td>Linear Regression in SKLearn</td>\n",
       "      <td>0.3</td>\n",
       "      <td>20</td>\n",
       "      <td>-8.200918</td>\n",
       "    </tr>\n",
       "    <tr>\n",
       "      <th>11</th>\n",
       "      <td>Linear Regression in SKLearn</td>\n",
       "      <td>0.4</td>\n",
       "      <td>20</td>\n",
       "      <td>-7.708836</td>\n",
       "    </tr>\n",
       "    <tr>\n",
       "      <th>12</th>\n",
       "      <td>Linear Regression in SKLearn</td>\n",
       "      <td>0.5</td>\n",
       "      <td>20</td>\n",
       "      <td>-7.627980</td>\n",
       "    </tr>\n",
       "    <tr>\n",
       "      <th>13</th>\n",
       "      <td>Linear Regression in SKLearn</td>\n",
       "      <td>0.6</td>\n",
       "      <td>20</td>\n",
       "      <td>-8.516083</td>\n",
       "    </tr>\n",
       "    <tr>\n",
       "      <th>14</th>\n",
       "      <td>Linear Regression in SKLearn</td>\n",
       "      <td>0.7</td>\n",
       "      <td>20</td>\n",
       "      <td>-8.648232</td>\n",
       "    </tr>\n",
       "    <tr>\n",
       "      <th>15</th>\n",
       "      <td>Linear Regression in SKLearn</td>\n",
       "      <td>0.8</td>\n",
       "      <td>20</td>\n",
       "      <td>-8.717264</td>\n",
       "    </tr>\n",
       "    <tr>\n",
       "      <th>16</th>\n",
       "      <td>Linear Regression in SKLearn</td>\n",
       "      <td>0.1</td>\n",
       "      <td>30</td>\n",
       "      <td>-8.738459</td>\n",
       "    </tr>\n",
       "    <tr>\n",
       "      <th>17</th>\n",
       "      <td>Linear Regression in SKLearn</td>\n",
       "      <td>0.2</td>\n",
       "      <td>30</td>\n",
       "      <td>-7.660853</td>\n",
       "    </tr>\n",
       "    <tr>\n",
       "      <th>18</th>\n",
       "      <td>Linear Regression in SKLearn</td>\n",
       "      <td>0.3</td>\n",
       "      <td>30</td>\n",
       "      <td>-7.692516</td>\n",
       "    </tr>\n",
       "    <tr>\n",
       "      <th>19</th>\n",
       "      <td>Linear Regression in SKLearn</td>\n",
       "      <td>0.4</td>\n",
       "      <td>30</td>\n",
       "      <td>-7.219563</td>\n",
       "    </tr>\n",
       "    <tr>\n",
       "      <th>20</th>\n",
       "      <td>Linear Regression in SKLearn</td>\n",
       "      <td>0.5</td>\n",
       "      <td>30</td>\n",
       "      <td>-8.134136</td>\n",
       "    </tr>\n",
       "    <tr>\n",
       "      <th>21</th>\n",
       "      <td>Linear Regression in SKLearn</td>\n",
       "      <td>0.6</td>\n",
       "      <td>30</td>\n",
       "      <td>-7.690778</td>\n",
       "    </tr>\n",
       "    <tr>\n",
       "      <th>22</th>\n",
       "      <td>Linear Regression in SKLearn</td>\n",
       "      <td>0.7</td>\n",
       "      <td>30</td>\n",
       "      <td>-7.785547</td>\n",
       "    </tr>\n",
       "    <tr>\n",
       "      <th>23</th>\n",
       "      <td>Linear Regression in SKLearn</td>\n",
       "      <td>0.8</td>\n",
       "      <td>30</td>\n",
       "      <td>-7.138289</td>\n",
       "    </tr>\n",
       "    <tr>\n",
       "      <th>24</th>\n",
       "      <td>Linear Regression in SKLearn</td>\n",
       "      <td>0.1</td>\n",
       "      <td>40</td>\n",
       "      <td>-6.854597</td>\n",
       "    </tr>\n",
       "    <tr>\n",
       "      <th>25</th>\n",
       "      <td>Linear Regression in SKLearn</td>\n",
       "      <td>0.2</td>\n",
       "      <td>40</td>\n",
       "      <td>-7.232476</td>\n",
       "    </tr>\n",
       "    <tr>\n",
       "      <th>26</th>\n",
       "      <td>Linear Regression in SKLearn</td>\n",
       "      <td>0.3</td>\n",
       "      <td>40</td>\n",
       "      <td>-7.583661</td>\n",
       "    </tr>\n",
       "    <tr>\n",
       "      <th>27</th>\n",
       "      <td>Linear Regression in SKLearn</td>\n",
       "      <td>0.4</td>\n",
       "      <td>40</td>\n",
       "      <td>-7.452876</td>\n",
       "    </tr>\n",
       "    <tr>\n",
       "      <th>28</th>\n",
       "      <td>Linear Regression in SKLearn</td>\n",
       "      <td>0.5</td>\n",
       "      <td>40</td>\n",
       "      <td>-7.161070</td>\n",
       "    </tr>\n",
       "    <tr>\n",
       "      <th>29</th>\n",
       "      <td>Linear Regression in SKLearn</td>\n",
       "      <td>0.6</td>\n",
       "      <td>40</td>\n",
       "      <td>-7.374367</td>\n",
       "    </tr>\n",
       "    <tr>\n",
       "      <th>30</th>\n",
       "      <td>Linear Regression in SKLearn</td>\n",
       "      <td>0.7</td>\n",
       "      <td>40</td>\n",
       "      <td>-7.934102</td>\n",
       "    </tr>\n",
       "    <tr>\n",
       "      <th>31</th>\n",
       "      <td>Linear Regression in SKLearn</td>\n",
       "      <td>0.8</td>\n",
       "      <td>40</td>\n",
       "      <td>-7.027854</td>\n",
       "    </tr>\n",
       "    <tr>\n",
       "      <th>32</th>\n",
       "      <td>Linear Regression in SKLearn</td>\n",
       "      <td>0.1</td>\n",
       "      <td>42</td>\n",
       "      <td>-6.899485</td>\n",
       "    </tr>\n",
       "    <tr>\n",
       "      <th>33</th>\n",
       "      <td>Linear Regression in SKLearn</td>\n",
       "      <td>0.2</td>\n",
       "      <td>42</td>\n",
       "      <td>-7.514328</td>\n",
       "    </tr>\n",
       "    <tr>\n",
       "      <th>34</th>\n",
       "      <td>Linear Regression in SKLearn</td>\n",
       "      <td>0.3</td>\n",
       "      <td>42</td>\n",
       "      <td>-7.590000</td>\n",
       "    </tr>\n",
       "    <tr>\n",
       "      <th>35</th>\n",
       "      <td>Linear Regression in SKLearn</td>\n",
       "      <td>0.4</td>\n",
       "      <td>42</td>\n",
       "      <td>-7.081302</td>\n",
       "    </tr>\n",
       "    <tr>\n",
       "      <th>36</th>\n",
       "      <td>Linear Regression in SKLearn</td>\n",
       "      <td>0.5</td>\n",
       "      <td>42</td>\n",
       "      <td>-7.108365</td>\n",
       "    </tr>\n",
       "    <tr>\n",
       "      <th>37</th>\n",
       "      <td>Linear Regression in SKLearn</td>\n",
       "      <td>0.6</td>\n",
       "      <td>42</td>\n",
       "      <td>-7.500666</td>\n",
       "    </tr>\n",
       "    <tr>\n",
       "      <th>38</th>\n",
       "      <td>Linear Regression in SKLearn</td>\n",
       "      <td>0.7</td>\n",
       "      <td>42</td>\n",
       "      <td>-7.678961</td>\n",
       "    </tr>\n",
       "    <tr>\n",
       "      <th>39</th>\n",
       "      <td>Linear Regression in SKLearn</td>\n",
       "      <td>0.8</td>\n",
       "      <td>42</td>\n",
       "      <td>-8.578640</td>\n",
       "    </tr>\n",
       "    <tr>\n",
       "      <th>40</th>\n",
       "      <td>Linear Regression in SKLearn</td>\n",
       "      <td>0.1</td>\n",
       "      <td>50</td>\n",
       "      <td>-7.533141</td>\n",
       "    </tr>\n",
       "    <tr>\n",
       "      <th>41</th>\n",
       "      <td>Linear Regression in SKLearn</td>\n",
       "      <td>0.2</td>\n",
       "      <td>50</td>\n",
       "      <td>-6.469043</td>\n",
       "    </tr>\n",
       "    <tr>\n",
       "      <th>42</th>\n",
       "      <td>Linear Regression in SKLearn</td>\n",
       "      <td>0.3</td>\n",
       "      <td>50</td>\n",
       "      <td>-6.759300</td>\n",
       "    </tr>\n",
       "    <tr>\n",
       "      <th>43</th>\n",
       "      <td>Linear Regression in SKLearn</td>\n",
       "      <td>0.4</td>\n",
       "      <td>50</td>\n",
       "      <td>-6.895798</td>\n",
       "    </tr>\n",
       "    <tr>\n",
       "      <th>44</th>\n",
       "      <td>Linear Regression in SKLearn</td>\n",
       "      <td>0.5</td>\n",
       "      <td>50</td>\n",
       "      <td>-7.450870</td>\n",
       "    </tr>\n",
       "    <tr>\n",
       "      <th>45</th>\n",
       "      <td>Linear Regression in SKLearn</td>\n",
       "      <td>0.6</td>\n",
       "      <td>50</td>\n",
       "      <td>-7.030431</td>\n",
       "    </tr>\n",
       "    <tr>\n",
       "      <th>46</th>\n",
       "      <td>Linear Regression in SKLearn</td>\n",
       "      <td>0.7</td>\n",
       "      <td>50</td>\n",
       "      <td>-7.494641</td>\n",
       "    </tr>\n",
       "    <tr>\n",
       "      <th>47</th>\n",
       "      <td>Linear Regression in SKLearn</td>\n",
       "      <td>0.8</td>\n",
       "      <td>50</td>\n",
       "      <td>-7.325794</td>\n",
       "    </tr>\n",
       "    <tr>\n",
       "      <th>48</th>\n",
       "      <td>Linear Regression in SKLearn</td>\n",
       "      <td>0.1</td>\n",
       "      <td>60</td>\n",
       "      <td>-7.656878</td>\n",
       "    </tr>\n",
       "    <tr>\n",
       "      <th>49</th>\n",
       "      <td>Linear Regression in SKLearn</td>\n",
       "      <td>0.2</td>\n",
       "      <td>60</td>\n",
       "      <td>-8.272620</td>\n",
       "    </tr>\n",
       "    <tr>\n",
       "      <th>50</th>\n",
       "      <td>Linear Regression in SKLearn</td>\n",
       "      <td>0.3</td>\n",
       "      <td>60</td>\n",
       "      <td>-8.191046</td>\n",
       "    </tr>\n",
       "    <tr>\n",
       "      <th>51</th>\n",
       "      <td>Linear Regression in SKLearn</td>\n",
       "      <td>0.4</td>\n",
       "      <td>60</td>\n",
       "      <td>-7.143609</td>\n",
       "    </tr>\n",
       "    <tr>\n",
       "      <th>52</th>\n",
       "      <td>Linear Regression in SKLearn</td>\n",
       "      <td>0.5</td>\n",
       "      <td>60</td>\n",
       "      <td>-7.386397</td>\n",
       "    </tr>\n",
       "    <tr>\n",
       "      <th>53</th>\n",
       "      <td>Linear Regression in SKLearn</td>\n",
       "      <td>0.6</td>\n",
       "      <td>60</td>\n",
       "      <td>-7.874674</td>\n",
       "    </tr>\n",
       "    <tr>\n",
       "      <th>54</th>\n",
       "      <td>Linear Regression in SKLearn</td>\n",
       "      <td>0.7</td>\n",
       "      <td>60</td>\n",
       "      <td>-7.097338</td>\n",
       "    </tr>\n",
       "    <tr>\n",
       "      <th>55</th>\n",
       "      <td>Linear Regression in SKLearn</td>\n",
       "      <td>0.8</td>\n",
       "      <td>60</td>\n",
       "      <td>-6.147511</td>\n",
       "    </tr>\n",
       "  </tbody>\n",
       "</table>\n",
       "</div>"
      ],
      "text/plain": [
       "                           Model  Test Size Random State  Accuracy\n",
       "0   Linear Regression in SKLearn        0.1           10 -5.845567\n",
       "1   Linear Regression in SKLearn        0.2           10 -6.999002\n",
       "2   Linear Regression in SKLearn        0.3           10 -7.329305\n",
       "3   Linear Regression in SKLearn        0.4           10 -7.843927\n",
       "4   Linear Regression in SKLearn        0.5           10 -8.084530\n",
       "5   Linear Regression in SKLearn        0.6           10 -7.938448\n",
       "6   Linear Regression in SKLearn        0.7           10 -7.737164\n",
       "7   Linear Regression in SKLearn        0.8           10 -8.120226\n",
       "8   Linear Regression in SKLearn        0.1           20 -9.019119\n",
       "9   Linear Regression in SKLearn        0.2           20 -8.743471\n",
       "10  Linear Regression in SKLearn        0.3           20 -8.200918\n",
       "11  Linear Regression in SKLearn        0.4           20 -7.708836\n",
       "12  Linear Regression in SKLearn        0.5           20 -7.627980\n",
       "13  Linear Regression in SKLearn        0.6           20 -8.516083\n",
       "14  Linear Regression in SKLearn        0.7           20 -8.648232\n",
       "15  Linear Regression in SKLearn        0.8           20 -8.717264\n",
       "16  Linear Regression in SKLearn        0.1           30 -8.738459\n",
       "17  Linear Regression in SKLearn        0.2           30 -7.660853\n",
       "18  Linear Regression in SKLearn        0.3           30 -7.692516\n",
       "19  Linear Regression in SKLearn        0.4           30 -7.219563\n",
       "20  Linear Regression in SKLearn        0.5           30 -8.134136\n",
       "21  Linear Regression in SKLearn        0.6           30 -7.690778\n",
       "22  Linear Regression in SKLearn        0.7           30 -7.785547\n",
       "23  Linear Regression in SKLearn        0.8           30 -7.138289\n",
       "24  Linear Regression in SKLearn        0.1           40 -6.854597\n",
       "25  Linear Regression in SKLearn        0.2           40 -7.232476\n",
       "26  Linear Regression in SKLearn        0.3           40 -7.583661\n",
       "27  Linear Regression in SKLearn        0.4           40 -7.452876\n",
       "28  Linear Regression in SKLearn        0.5           40 -7.161070\n",
       "29  Linear Regression in SKLearn        0.6           40 -7.374367\n",
       "30  Linear Regression in SKLearn        0.7           40 -7.934102\n",
       "31  Linear Regression in SKLearn        0.8           40 -7.027854\n",
       "32  Linear Regression in SKLearn        0.1           42 -6.899485\n",
       "33  Linear Regression in SKLearn        0.2           42 -7.514328\n",
       "34  Linear Regression in SKLearn        0.3           42 -7.590000\n",
       "35  Linear Regression in SKLearn        0.4           42 -7.081302\n",
       "36  Linear Regression in SKLearn        0.5           42 -7.108365\n",
       "37  Linear Regression in SKLearn        0.6           42 -7.500666\n",
       "38  Linear Regression in SKLearn        0.7           42 -7.678961\n",
       "39  Linear Regression in SKLearn        0.8           42 -8.578640\n",
       "40  Linear Regression in SKLearn        0.1           50 -7.533141\n",
       "41  Linear Regression in SKLearn        0.2           50 -6.469043\n",
       "42  Linear Regression in SKLearn        0.3           50 -6.759300\n",
       "43  Linear Regression in SKLearn        0.4           50 -6.895798\n",
       "44  Linear Regression in SKLearn        0.5           50 -7.450870\n",
       "45  Linear Regression in SKLearn        0.6           50 -7.030431\n",
       "46  Linear Regression in SKLearn        0.7           50 -7.494641\n",
       "47  Linear Regression in SKLearn        0.8           50 -7.325794\n",
       "48  Linear Regression in SKLearn        0.1           60 -7.656878\n",
       "49  Linear Regression in SKLearn        0.2           60 -8.272620\n",
       "50  Linear Regression in SKLearn        0.3           60 -8.191046\n",
       "51  Linear Regression in SKLearn        0.4           60 -7.143609\n",
       "52  Linear Regression in SKLearn        0.5           60 -7.386397\n",
       "53  Linear Regression in SKLearn        0.6           60 -7.874674\n",
       "54  Linear Regression in SKLearn        0.7           60 -7.097338\n",
       "55  Linear Regression in SKLearn        0.8           60 -6.147511"
      ]
     },
     "execution_count": 43,
     "metadata": {},
     "output_type": "execute_result"
    }
   ],
   "source": [
    "results_dataframe"
   ]
  },
  {
   "cell_type": "code",
   "execution_count": 44,
   "id": "46602a93",
   "metadata": {},
   "outputs": [
    {
     "data": {
      "text/plain": [
       "<seaborn.axisgrid.FacetGrid at 0x20c70ff8160>"
      ]
     },
     "execution_count": 44,
     "metadata": {},
     "output_type": "execute_result"
    },
    {
     "data": {
      "image/png": "[encoded data removed]",
      "text/plain": [
       "<Figure size 360x360 with 1 Axes>"
      ]
     },
     "metadata": {
      "needs_background": "light"
     },
     "output_type": "display_data"
    }
   ],
   "source": [
    "sns.catplot(data = results_dataframe, y = 'Accuracy', x = 'Test Size')"
   ]
  },
  {
   "cell_type": "code",
   "execution_count": 45,
   "id": "e7ce2baa",
   "metadata": {},
   "outputs": [
    {
     "data": {
      "text/plain": [
       "<seaborn.axisgrid.FacetGrid at 0x20c71026dc0>"
      ]
     },
     "execution_count": 45,
     "metadata": {},
     "output_type": "execute_result"
    },
    {
     "data": {
      "image/png": "[encoded data removed]",
      "text/plain": [
       "<Figure size 360x360 with 1 Axes>"
      ]
     },
     "metadata": {
      "needs_background": "light"
     },
     "output_type": "display_data"
    }
   ],
   "source": [
    "sns.catplot(data = results_dataframe, y = 'Accuracy', x = 'Random State')"
   ]
  },
  {
   "cell_type": "code",
   "execution_count": 46,
   "id": "72ea2b1d",
   "metadata": {},
   "outputs": [
    {
     "data": {
      "text/plain": [
       "<seaborn.axisgrid.FacetGrid at 0x20c710a5eb0>"
      ]
     },
     "execution_count": 46,
     "metadata": {},
     "output_type": "execute_result"
    },
    {
     "data": {
      "image/png": "[encoded data removed]",
      "text/plain": [
       "<Figure size 360x360 with 1 Axes>"
      ]
     },
     "metadata": {
      "needs_background": "light"
     },
     "output_type": "display_data"
    }
   ],
   "source": [
    "sns.catplot(data = results_dataframe, y = 'Accuracy', x = 'Test Size', kind = 'box')"
   ]
  },
  {
   "cell_type": "code",
   "execution_count": 47,
   "id": "5961365d",
   "metadata": {},
   "outputs": [
    {
     "data": {
      "text/plain": [
       "<seaborn.axisgrid.FacetGrid at 0x20c7d53f8e0>"
      ]
     },
     "execution_count": 47,
     "metadata": {},
     "output_type": "execute_result"
    },
    {
     "data": {
      "image/png": "[encoded data removed]",
      "text/plain": [
       "<Figure size 360x360 with 1 Axes>"
      ]
     },
     "metadata": {
      "needs_background": "light"
     },
     "output_type": "display_data"
    }
   ],
   "source": [
    "sns.catplot(data = results_dataframe, y = 'Accuracy', x = 'Random State', kind = 'box')"
   ]
  }
 ],
 "metadata": {
  "kernelspec": {
   "display_name": "Python 3",
   "language": "python",
   "name": "python3"
  },
  "language_info": {
   "codemirror_mode": {
    "name": "ipython",
    "version": 3
   },
   "file_extension": ".py",
   "mimetype": "text/x-python",
   "name": "python",
   "nbconvert_exporter": "python",
   "pygments_lexer": "ipython3",
   "version": "3.8.8"
  }
 },
 "nbformat": 4,
 "nbformat_minor": 5
}
