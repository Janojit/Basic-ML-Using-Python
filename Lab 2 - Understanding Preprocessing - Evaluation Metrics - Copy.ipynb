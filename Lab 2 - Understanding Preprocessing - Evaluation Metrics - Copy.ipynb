{
 "cells": [
  {
   "cell_type": "markdown",
   "id": "68fb19c5",
   "metadata": {},
   "source": [
    "# Lab 2 - Understanding Preprocessing/Evaluation Metrics\n",
    "## Coder Name: Janojit Chakraborty\n",
    "## Coder Registration Number: 21112011"
   ]
  },
  {
   "cell_type": "markdown",
   "id": "43bab7a5",
   "metadata": {},
   "source": [
    "### Dataset Description: \n",
    "There are 3 sheets- Dataset1, Dataset2, and Dataset3. Dataset1 and Dataset2 are identical in nature, except for the number of entries. Assume that the features \"True_Value\" and \"Predicted_Value\" are Labels and Predictions of a Regression Model. In the Dataset3, there is another feature named as \"Result\", which is a Binary Categorical Variable (assumption is that the minimum marks to clear the exam is 70% [35 Marks])."
   ]
  },
  {
   "cell_type": "markdown",
   "id": "91708220",
   "metadata": {},
   "source": [
    "### Objective\n",
    "- To Understand the logic behind different functions of sklearn.preprocessing"
   ]
  },
  {
   "cell_type": "markdown",
   "id": "342149e0",
   "metadata": {},
   "source": [
    "### Problem Definition\n",
    "1. From the attached file, load the three different sheets as \"df1\", \"df2\", and \"df3\" onto the memory of Jupyter Notebook, as Python DataFrames.\n",
    "2. Write the user defined functions for the implementation of following -\n",
    "- 1. To find the measures of central tendency. Another function parameter can select what type of value should be returned.\n",
    "- - 1. Mean\n",
    "- - 2. Median\n",
    "- - 3. Mode\n",
    "- 2. To scale a list of Numerical Values between 0 and 1 (minimum and maximum will be respectively 0, and 1)\n",
    "- 3. Given a number and a set of values (in a list), find the percentile of the number in that array set.\n",
    "- 4. Given a set of values, categorise the datapoints into - LEFT_OUTLIER, MIN, Q1, Q2, Q3, MAX, RIGHT_OUTLIER, and plot the above values onto an axis\n",
    "- 5. Given two sets of values, find the correlation between them\n",
    "- 6. To encode and decode a Categorical Variable into a Numerical Representation.\n",
    "- 7. To check the goodness of fit for the Regression Model using Evaluation Metrics. The evaluation metrics can be selected based on a parameter (\"R2\", \"MSE\", \"MAE\").\n",
    "- - 1. R-Squared (R² or the coefficient of determination)\n",
    "- - 2. Mean Squared Error\n",
    "- - 3. Mean Absolute Error\n",
    "3. Make use of the above user-defined functions, and illustrate the results. In addition that, perform the below tasks -\n",
    "- 1. Test the User Defined Functions that you code for various functionalities, and verify its validity by comparing with functions in sklearn.preprocessing \n",
    "- 2. Find the percentile of the number \"last two digits of your register number + 10\" in df2.\n",
    "- 3. Check whether the dataset size affects the values of Regression Evaluation Metrics\n",
    "- 4. Is there any relationship between the Squared Pearson Correlation Coefficient and R2 value?"
   ]
  },
  {
   "cell_type": "markdown",
   "id": "e8ec7825",
   "metadata": {},
   "source": [
    "### Approach/Methods:\n",
    "- Use User-Defined functions\n",
    "- Implementing looping concept"
   ]
  },
  {
   "cell_type": "markdown",
   "id": "3fbd33d3",
   "metadata": {},
   "source": [
    "### Learnings & Reflection:\n",
    "- Enhance logic building capability\n",
    "- Get background knowledge about statistical measures and evaluation metrices"
   ]
  },
  {
   "cell_type": "markdown",
   "id": "3f67f412",
   "metadata": {},
   "source": [
    "Name: **Janojit Chakraborty** <br>\n",
    "Reg No: **21112011** <br>\n",
    "Class: **4 BSC DS** <br>\n",
    "\n",
    "---------------\n",
    "\n",
    "\n",
    "| Assignment | Status |\n",
    "| --- | --- |\n",
    "|  1  | __Completed__ |\n",
    "|  2  | __Completed__ |\n",
    "|  3  | __Completed__ |"
   ]
  },
  {
   "cell_type": "markdown",
   "id": "a913a83f",
   "metadata": {},
   "source": [
    "### Importing Libraries"
   ]
  },
  {
   "cell_type": "code",
   "execution_count": 1,
   "id": "edef2a17",
   "metadata": {},
   "outputs": [],
   "source": [
    "import pandas as pd\n",
    "import numpy as np\n",
    "import matplotlib.pyplot as plt\n",
    "import seaborn as sns"
   ]
  },
  {
   "cell_type": "markdown",
   "id": "f75d7863",
   "metadata": {},
   "source": [
    "### Question 1"
   ]
  },
  {
   "cell_type": "code",
   "execution_count": 2,
   "id": "701d4a4f",
   "metadata": {},
   "outputs": [
    {
     "data": {
      "text/html": [
       "<div>\n",
       "<style scoped>\n",
       "    .dataframe tbody tr th:only-of-type {\n",
       "        vertical-align: middle;\n",
       "    }\n",
       "\n",
       "    .dataframe tbody tr th {\n",
       "        vertical-align: top;\n",
       "    }\n",
       "\n",
       "    .dataframe thead th {\n",
       "        text-align: right;\n",
       "    }\n",
       "</style>\n",
       "<table border=\"1\" class=\"dataframe\">\n",
       "  <thead>\n",
       "    <tr style=\"text-align: right;\">\n",
       "      <th></th>\n",
       "      <th>True_Value</th>\n",
       "      <th>Predicted_Value</th>\n",
       "    </tr>\n",
       "  </thead>\n",
       "  <tbody>\n",
       "    <tr>\n",
       "      <th>0</th>\n",
       "      <td>10</td>\n",
       "      <td>10</td>\n",
       "    </tr>\n",
       "    <tr>\n",
       "      <th>1</th>\n",
       "      <td>17</td>\n",
       "      <td>17</td>\n",
       "    </tr>\n",
       "    <tr>\n",
       "      <th>2</th>\n",
       "      <td>26</td>\n",
       "      <td>24</td>\n",
       "    </tr>\n",
       "    <tr>\n",
       "      <th>3</th>\n",
       "      <td>30</td>\n",
       "      <td>31</td>\n",
       "    </tr>\n",
       "    <tr>\n",
       "      <th>4</th>\n",
       "      <td>31</td>\n",
       "      <td>31</td>\n",
       "    </tr>\n",
       "    <tr>\n",
       "      <th>5</th>\n",
       "      <td>32</td>\n",
       "      <td>32</td>\n",
       "    </tr>\n",
       "    <tr>\n",
       "      <th>6</th>\n",
       "      <td>35</td>\n",
       "      <td>33</td>\n",
       "    </tr>\n",
       "    <tr>\n",
       "      <th>7</th>\n",
       "      <td>36</td>\n",
       "      <td>37</td>\n",
       "    </tr>\n",
       "    <tr>\n",
       "      <th>8</th>\n",
       "      <td>38</td>\n",
       "      <td>37</td>\n",
       "    </tr>\n",
       "    <tr>\n",
       "      <th>9</th>\n",
       "      <td>39</td>\n",
       "      <td>40</td>\n",
       "    </tr>\n",
       "    <tr>\n",
       "      <th>10</th>\n",
       "      <td>40</td>\n",
       "      <td>40</td>\n",
       "    </tr>\n",
       "    <tr>\n",
       "      <th>11</th>\n",
       "      <td>40</td>\n",
       "      <td>40</td>\n",
       "    </tr>\n",
       "    <tr>\n",
       "      <th>12</th>\n",
       "      <td>42</td>\n",
       "      <td>42</td>\n",
       "    </tr>\n",
       "    <tr>\n",
       "      <th>13</th>\n",
       "      <td>44</td>\n",
       "      <td>42</td>\n",
       "    </tr>\n",
       "    <tr>\n",
       "      <th>14</th>\n",
       "      <td>48</td>\n",
       "      <td>45</td>\n",
       "    </tr>\n",
       "  </tbody>\n",
       "</table>\n",
       "</div>"
      ],
      "text/plain": [
       "    True_Value  Predicted_Value\n",
       "0           10               10\n",
       "1           17               17\n",
       "2           26               24\n",
       "3           30               31\n",
       "4           31               31\n",
       "5           32               32\n",
       "6           35               33\n",
       "7           36               37\n",
       "8           38               37\n",
       "9           39               40\n",
       "10          40               40\n",
       "11          40               40\n",
       "12          42               42\n",
       "13          44               42\n",
       "14          48               45"
      ]
     },
     "execution_count": 2,
     "metadata": {},
     "output_type": "execute_result"
    }
   ],
   "source": [
    "df1 = pd.read_excel('Lab2_UDF_Labs.xlsx', 'Dataset1')\n",
    "df1"
   ]
  },
  {
   "cell_type": "code",
   "execution_count": 3,
   "id": "bbf37ae4",
   "metadata": {},
   "outputs": [
    {
     "data": {
      "text/html": [
       "<div>\n",
       "<style scoped>\n",
       "    .dataframe tbody tr th:only-of-type {\n",
       "        vertical-align: middle;\n",
       "    }\n",
       "\n",
       "    .dataframe tbody tr th {\n",
       "        vertical-align: top;\n",
       "    }\n",
       "\n",
       "    .dataframe thead th {\n",
       "        text-align: right;\n",
       "    }\n",
       "</style>\n",
       "<table border=\"1\" class=\"dataframe\">\n",
       "  <thead>\n",
       "    <tr style=\"text-align: right;\">\n",
       "      <th></th>\n",
       "      <th>True_Value</th>\n",
       "      <th>Predicted_Value</th>\n",
       "    </tr>\n",
       "  </thead>\n",
       "  <tbody>\n",
       "    <tr>\n",
       "      <th>0</th>\n",
       "      <td>10</td>\n",
       "      <td>10</td>\n",
       "    </tr>\n",
       "    <tr>\n",
       "      <th>1</th>\n",
       "      <td>16</td>\n",
       "      <td>17</td>\n",
       "    </tr>\n",
       "    <tr>\n",
       "      <th>2</th>\n",
       "      <td>17</td>\n",
       "      <td>17</td>\n",
       "    </tr>\n",
       "    <tr>\n",
       "      <th>3</th>\n",
       "      <td>20</td>\n",
       "      <td>19</td>\n",
       "    </tr>\n",
       "    <tr>\n",
       "      <th>4</th>\n",
       "      <td>26</td>\n",
       "      <td>24</td>\n",
       "    </tr>\n",
       "    <tr>\n",
       "      <th>5</th>\n",
       "      <td>28</td>\n",
       "      <td>28</td>\n",
       "    </tr>\n",
       "    <tr>\n",
       "      <th>6</th>\n",
       "      <td>30</td>\n",
       "      <td>31</td>\n",
       "    </tr>\n",
       "    <tr>\n",
       "      <th>7</th>\n",
       "      <td>31</td>\n",
       "      <td>31</td>\n",
       "    </tr>\n",
       "    <tr>\n",
       "      <th>8</th>\n",
       "      <td>31</td>\n",
       "      <td>31</td>\n",
       "    </tr>\n",
       "    <tr>\n",
       "      <th>9</th>\n",
       "      <td>32</td>\n",
       "      <td>32</td>\n",
       "    </tr>\n",
       "    <tr>\n",
       "      <th>10</th>\n",
       "      <td>32</td>\n",
       "      <td>32</td>\n",
       "    </tr>\n",
       "    <tr>\n",
       "      <th>11</th>\n",
       "      <td>34</td>\n",
       "      <td>32</td>\n",
       "    </tr>\n",
       "    <tr>\n",
       "      <th>12</th>\n",
       "      <td>35</td>\n",
       "      <td>33</td>\n",
       "    </tr>\n",
       "    <tr>\n",
       "      <th>13</th>\n",
       "      <td>36</td>\n",
       "      <td>36</td>\n",
       "    </tr>\n",
       "    <tr>\n",
       "      <th>14</th>\n",
       "      <td>36</td>\n",
       "      <td>37</td>\n",
       "    </tr>\n",
       "    <tr>\n",
       "      <th>15</th>\n",
       "      <td>37</td>\n",
       "      <td>37</td>\n",
       "    </tr>\n",
       "    <tr>\n",
       "      <th>16</th>\n",
       "      <td>38</td>\n",
       "      <td>37</td>\n",
       "    </tr>\n",
       "    <tr>\n",
       "      <th>17</th>\n",
       "      <td>38</td>\n",
       "      <td>37</td>\n",
       "    </tr>\n",
       "    <tr>\n",
       "      <th>18</th>\n",
       "      <td>39</td>\n",
       "      <td>40</td>\n",
       "    </tr>\n",
       "    <tr>\n",
       "      <th>19</th>\n",
       "      <td>39</td>\n",
       "      <td>40</td>\n",
       "    </tr>\n",
       "    <tr>\n",
       "      <th>20</th>\n",
       "      <td>40</td>\n",
       "      <td>40</td>\n",
       "    </tr>\n",
       "    <tr>\n",
       "      <th>21</th>\n",
       "      <td>40</td>\n",
       "      <td>40</td>\n",
       "    </tr>\n",
       "    <tr>\n",
       "      <th>22</th>\n",
       "      <td>40</td>\n",
       "      <td>40</td>\n",
       "    </tr>\n",
       "    <tr>\n",
       "      <th>23</th>\n",
       "      <td>41</td>\n",
       "      <td>40</td>\n",
       "    </tr>\n",
       "    <tr>\n",
       "      <th>24</th>\n",
       "      <td>42</td>\n",
       "      <td>42</td>\n",
       "    </tr>\n",
       "    <tr>\n",
       "      <th>25</th>\n",
       "      <td>42</td>\n",
       "      <td>42</td>\n",
       "    </tr>\n",
       "    <tr>\n",
       "      <th>26</th>\n",
       "      <td>44</td>\n",
       "      <td>42</td>\n",
       "    </tr>\n",
       "    <tr>\n",
       "      <th>27</th>\n",
       "      <td>46</td>\n",
       "      <td>42</td>\n",
       "    </tr>\n",
       "    <tr>\n",
       "      <th>28</th>\n",
       "      <td>48</td>\n",
       "      <td>45</td>\n",
       "    </tr>\n",
       "    <tr>\n",
       "      <th>29</th>\n",
       "      <td>49</td>\n",
       "      <td>46</td>\n",
       "    </tr>\n",
       "  </tbody>\n",
       "</table>\n",
       "</div>"
      ],
      "text/plain": [
       "    True_Value  Predicted_Value\n",
       "0           10               10\n",
       "1           16               17\n",
       "2           17               17\n",
       "3           20               19\n",
       "4           26               24\n",
       "5           28               28\n",
       "6           30               31\n",
       "7           31               31\n",
       "8           31               31\n",
       "9           32               32\n",
       "10          32               32\n",
       "11          34               32\n",
       "12          35               33\n",
       "13          36               36\n",
       "14          36               37\n",
       "15          37               37\n",
       "16          38               37\n",
       "17          38               37\n",
       "18          39               40\n",
       "19          39               40\n",
       "20          40               40\n",
       "21          40               40\n",
       "22          40               40\n",
       "23          41               40\n",
       "24          42               42\n",
       "25          42               42\n",
       "26          44               42\n",
       "27          46               42\n",
       "28          48               45\n",
       "29          49               46"
      ]
     },
     "execution_count": 3,
     "metadata": {},
     "output_type": "execute_result"
    }
   ],
   "source": [
    "df2 = pd.read_excel('Lab2_UDF_Labs.xlsx', 'Dataset2')\n",
    "df2"
   ]
  },
  {
   "cell_type": "code",
   "execution_count": 4,
   "id": "24e9b96e",
   "metadata": {},
   "outputs": [
    {
     "data": {
      "text/html": [
       "<div>\n",
       "<style scoped>\n",
       "    .dataframe tbody tr th:only-of-type {\n",
       "        vertical-align: middle;\n",
       "    }\n",
       "\n",
       "    .dataframe tbody tr th {\n",
       "        vertical-align: top;\n",
       "    }\n",
       "\n",
       "    .dataframe thead th {\n",
       "        text-align: right;\n",
       "    }\n",
       "</style>\n",
       "<table border=\"1\" class=\"dataframe\">\n",
       "  <thead>\n",
       "    <tr style=\"text-align: right;\">\n",
       "      <th></th>\n",
       "      <th>True_Value</th>\n",
       "      <th>Result</th>\n",
       "      <th>Predicted_Value</th>\n",
       "    </tr>\n",
       "  </thead>\n",
       "  <tbody>\n",
       "    <tr>\n",
       "      <th>0</th>\n",
       "      <td>10</td>\n",
       "      <td>Fail</td>\n",
       "      <td>10</td>\n",
       "    </tr>\n",
       "    <tr>\n",
       "      <th>1</th>\n",
       "      <td>16</td>\n",
       "      <td>Fail</td>\n",
       "      <td>17</td>\n",
       "    </tr>\n",
       "    <tr>\n",
       "      <th>2</th>\n",
       "      <td>17</td>\n",
       "      <td>Fail</td>\n",
       "      <td>17</td>\n",
       "    </tr>\n",
       "    <tr>\n",
       "      <th>3</th>\n",
       "      <td>20</td>\n",
       "      <td>Fail</td>\n",
       "      <td>19</td>\n",
       "    </tr>\n",
       "    <tr>\n",
       "      <th>4</th>\n",
       "      <td>26</td>\n",
       "      <td>Fail</td>\n",
       "      <td>24</td>\n",
       "    </tr>\n",
       "    <tr>\n",
       "      <th>5</th>\n",
       "      <td>28</td>\n",
       "      <td>Fail</td>\n",
       "      <td>28</td>\n",
       "    </tr>\n",
       "    <tr>\n",
       "      <th>6</th>\n",
       "      <td>30</td>\n",
       "      <td>Fail</td>\n",
       "      <td>31</td>\n",
       "    </tr>\n",
       "    <tr>\n",
       "      <th>7</th>\n",
       "      <td>31</td>\n",
       "      <td>Fail</td>\n",
       "      <td>31</td>\n",
       "    </tr>\n",
       "    <tr>\n",
       "      <th>8</th>\n",
       "      <td>31</td>\n",
       "      <td>Fail</td>\n",
       "      <td>31</td>\n",
       "    </tr>\n",
       "    <tr>\n",
       "      <th>9</th>\n",
       "      <td>32</td>\n",
       "      <td>Fail</td>\n",
       "      <td>32</td>\n",
       "    </tr>\n",
       "    <tr>\n",
       "      <th>10</th>\n",
       "      <td>32</td>\n",
       "      <td>Fail</td>\n",
       "      <td>32</td>\n",
       "    </tr>\n",
       "    <tr>\n",
       "      <th>11</th>\n",
       "      <td>34</td>\n",
       "      <td>Fail</td>\n",
       "      <td>32</td>\n",
       "    </tr>\n",
       "    <tr>\n",
       "      <th>12</th>\n",
       "      <td>35</td>\n",
       "      <td>Pass</td>\n",
       "      <td>33</td>\n",
       "    </tr>\n",
       "    <tr>\n",
       "      <th>13</th>\n",
       "      <td>36</td>\n",
       "      <td>Pass</td>\n",
       "      <td>36</td>\n",
       "    </tr>\n",
       "    <tr>\n",
       "      <th>14</th>\n",
       "      <td>36</td>\n",
       "      <td>Pass</td>\n",
       "      <td>37</td>\n",
       "    </tr>\n",
       "    <tr>\n",
       "      <th>15</th>\n",
       "      <td>37</td>\n",
       "      <td>Pass</td>\n",
       "      <td>37</td>\n",
       "    </tr>\n",
       "    <tr>\n",
       "      <th>16</th>\n",
       "      <td>38</td>\n",
       "      <td>Pass</td>\n",
       "      <td>37</td>\n",
       "    </tr>\n",
       "    <tr>\n",
       "      <th>17</th>\n",
       "      <td>38</td>\n",
       "      <td>Pass</td>\n",
       "      <td>37</td>\n",
       "    </tr>\n",
       "    <tr>\n",
       "      <th>18</th>\n",
       "      <td>39</td>\n",
       "      <td>Pass</td>\n",
       "      <td>40</td>\n",
       "    </tr>\n",
       "    <tr>\n",
       "      <th>19</th>\n",
       "      <td>39</td>\n",
       "      <td>Pass</td>\n",
       "      <td>40</td>\n",
       "    </tr>\n",
       "    <tr>\n",
       "      <th>20</th>\n",
       "      <td>40</td>\n",
       "      <td>Pass</td>\n",
       "      <td>40</td>\n",
       "    </tr>\n",
       "    <tr>\n",
       "      <th>21</th>\n",
       "      <td>40</td>\n",
       "      <td>Pass</td>\n",
       "      <td>40</td>\n",
       "    </tr>\n",
       "    <tr>\n",
       "      <th>22</th>\n",
       "      <td>40</td>\n",
       "      <td>Pass</td>\n",
       "      <td>40</td>\n",
       "    </tr>\n",
       "    <tr>\n",
       "      <th>23</th>\n",
       "      <td>41</td>\n",
       "      <td>Pass</td>\n",
       "      <td>40</td>\n",
       "    </tr>\n",
       "    <tr>\n",
       "      <th>24</th>\n",
       "      <td>42</td>\n",
       "      <td>Pass</td>\n",
       "      <td>42</td>\n",
       "    </tr>\n",
       "    <tr>\n",
       "      <th>25</th>\n",
       "      <td>42</td>\n",
       "      <td>Pass</td>\n",
       "      <td>42</td>\n",
       "    </tr>\n",
       "    <tr>\n",
       "      <th>26</th>\n",
       "      <td>44</td>\n",
       "      <td>Pass</td>\n",
       "      <td>42</td>\n",
       "    </tr>\n",
       "    <tr>\n",
       "      <th>27</th>\n",
       "      <td>46</td>\n",
       "      <td>Pass</td>\n",
       "      <td>42</td>\n",
       "    </tr>\n",
       "    <tr>\n",
       "      <th>28</th>\n",
       "      <td>48</td>\n",
       "      <td>Pass</td>\n",
       "      <td>45</td>\n",
       "    </tr>\n",
       "    <tr>\n",
       "      <th>29</th>\n",
       "      <td>49</td>\n",
       "      <td>Pass</td>\n",
       "      <td>46</td>\n",
       "    </tr>\n",
       "  </tbody>\n",
       "</table>\n",
       "</div>"
      ],
      "text/plain": [
       "    True_Value Result  Predicted_Value\n",
       "0           10   Fail               10\n",
       "1           16   Fail               17\n",
       "2           17   Fail               17\n",
       "3           20   Fail               19\n",
       "4           26   Fail               24\n",
       "5           28   Fail               28\n",
       "6           30   Fail               31\n",
       "7           31   Fail               31\n",
       "8           31   Fail               31\n",
       "9           32   Fail               32\n",
       "10          32   Fail               32\n",
       "11          34   Fail               32\n",
       "12          35   Pass               33\n",
       "13          36   Pass               36\n",
       "14          36   Pass               37\n",
       "15          37   Pass               37\n",
       "16          38   Pass               37\n",
       "17          38   Pass               37\n",
       "18          39   Pass               40\n",
       "19          39   Pass               40\n",
       "20          40   Pass               40\n",
       "21          40   Pass               40\n",
       "22          40   Pass               40\n",
       "23          41   Pass               40\n",
       "24          42   Pass               42\n",
       "25          42   Pass               42\n",
       "26          44   Pass               42\n",
       "27          46   Pass               42\n",
       "28          48   Pass               45\n",
       "29          49   Pass               46"
      ]
     },
     "execution_count": 4,
     "metadata": {},
     "output_type": "execute_result"
    }
   ],
   "source": [
    "df3 = pd.read_excel('Lab2_UDF_Labs.xlsx', 'Dataset3')\n",
    "df3"
   ]
  },
  {
   "cell_type": "markdown",
   "id": "68154de0",
   "metadata": {},
   "source": [
    "### Question 2.1"
   ]
  },
  {
   "cell_type": "code",
   "execution_count": 5,
   "id": "58250e49",
   "metadata": {},
   "outputs": [],
   "source": [
    "def central_tendency(column, mct):\n",
    "    if mct == 'mean':\n",
    "        count = 0\n",
    "        total = 0\n",
    "        for i in column:\n",
    "            total += i\n",
    "            count += 1\n",
    "        mean = total / count\n",
    "        return mean\n",
    "        \n",
    "    if mct == 'median':\n",
    "        sortedValues = sorted(column)\n",
    "        mid = (len(sortedValues) - 1) // 2\n",
    "        if len(sortedValues) % 2 == 0:\n",
    "            median = (sortedValues[mid - 1] + sortedValues[mid]) / 2\n",
    "        else:\n",
    "            median = sortedValues[mid]\n",
    "        return median\n",
    "\n",
    "    if mct == 'mode':\n",
    "        valueCounts = {}\n",
    "        maxx = 0\n",
    "        mode = 0\n",
    "        for i in column:\n",
    "            if i in valueCounts:\n",
    "                valueCounts[i] += 1\n",
    "            else:\n",
    "                valueCounts[i] = 1\n",
    "            if valueCounts[i] > maxx:\n",
    "                maxx = valueCounts[i]\n",
    "                mode = i\n",
    "        return mode"
   ]
  },
  {
   "cell_type": "code",
   "execution_count": 6,
   "id": "3ded745f",
   "metadata": {},
   "outputs": [
    {
     "data": {
      "text/plain": [
       "40"
      ]
     },
     "execution_count": 6,
     "metadata": {},
     "output_type": "execute_result"
    }
   ],
   "source": [
    "central_tendency(list(df1['True_Value']),'mode')"
   ]
  },
  {
   "cell_type": "code",
   "execution_count": 7,
   "id": "478ac7a2",
   "metadata": {},
   "outputs": [
    {
     "data": {
      "text/plain": [
       "0    40\n",
       "Name: True_Value, dtype: int64"
      ]
     },
     "execution_count": 7,
     "metadata": {},
     "output_type": "execute_result"
    }
   ],
   "source": [
    "df1['True_Value'].mode()"
   ]
  },
  {
   "cell_type": "markdown",
   "id": "1fd50af1",
   "metadata": {},
   "source": [
    "### Question 2.2"
   ]
  },
  {
   "cell_type": "code",
   "execution_count": 8,
   "id": "76601c68",
   "metadata": {},
   "outputs": [],
   "source": [
    "def minmax(arr):\n",
    "    minMaxScl = []\n",
    "    if not arr:\n",
    "        return minMaxScl\n",
    "    for i in arr:\n",
    "        scaledVal = (i - min(arr)) / (max(arr) - min(arr))\n",
    "        minMaxScl.append(scaledVal)\n",
    "    return minMaxScl"
   ]
  },
  {
   "cell_type": "code",
   "execution_count": 9,
   "id": "801bf893",
   "metadata": {},
   "outputs": [
    {
     "data": {
      "text/plain": [
       "[0.0,\n",
       " 0.18421052631578946,\n",
       " 0.42105263157894735,\n",
       " 0.5263157894736842,\n",
       " 0.5526315789473685,\n",
       " 0.5789473684210527,\n",
       " 0.6578947368421053,\n",
       " 0.6842105263157895,\n",
       " 0.7368421052631579,\n",
       " 0.7631578947368421,\n",
       " 0.7894736842105263,\n",
       " 0.7894736842105263,\n",
       " 0.8421052631578947,\n",
       " 0.8947368421052632,\n",
       " 1.0]"
      ]
     },
     "execution_count": 9,
     "metadata": {},
     "output_type": "execute_result"
    }
   ],
   "source": [
    "minmax(list(df1['True_Value']))"
   ]
  },
  {
   "cell_type": "markdown",
   "id": "85980bbd",
   "metadata": {},
   "source": [
    "### Question 2.3"
   ]
  },
  {
   "cell_type": "code",
   "execution_count": 10,
   "id": "ca7a048a",
   "metadata": {},
   "outputs": [],
   "source": [
    "def percentile(num, arr):\n",
    "    if not arr:\n",
    "        return None\n",
    "    sortedValues = sorted(arr)\n",
    "    count = 0\n",
    "    for i in sortedValues:\n",
    "        if i <= num:\n",
    "            count += 1\n",
    "    percentile = (count / len(sortedValues)) * 100\n",
    "    return percentile\n"
   ]
  },
  {
   "cell_type": "code",
   "execution_count": 11,
   "id": "4bd18c12",
   "metadata": {},
   "outputs": [
    {
     "data": {
      "text/plain": [
       "80.0"
      ]
     },
     "execution_count": 11,
     "metadata": {},
     "output_type": "execute_result"
    }
   ],
   "source": [
    "percentile(48,[10,20,30,40,50])"
   ]
  },
  {
   "cell_type": "markdown",
   "id": "f4182951",
   "metadata": {},
   "source": [
    "### Question 2.4"
   ]
  },
  {
   "cell_type": "code",
   "execution_count": 12,
   "id": "ae90ef14",
   "metadata": {},
   "outputs": [],
   "source": [
    "def plot(arr):\n",
    "    if not arr:\n",
    "        return\n",
    "    \n",
    "    sortedValues = sorted(arr)\n",
    "    \n",
    "    n = len(sortedValues)\n",
    "    \n",
    "    q1 = sortedValues[n // 4]\n",
    "    q2 = sortedValues[n // 2]\n",
    "    q3 = sortedValues[3 * n // 4]\n",
    "\n",
    "    iqr = q3 - q1\n",
    "\n",
    "    minn = q1 - 1.5 * iqr\n",
    "    maxx = q3 + 1.5 * iqr\n",
    "    \n",
    "    leftOutliers = []\n",
    "    rightOutliers = []\n",
    "    \n",
    "    for i in sortedValues:\n",
    "        if i < q1 - 1.5 * iqr:\n",
    "            leftOutliers.append(i)\n",
    "        elif i > q3 + 1.5 * iqr:\n",
    "            rightOutliers.append(i)\n",
    "\n",
    "    x = [minn,q1,q2,q3,maxx]\n",
    "    y = []\n",
    "    for i in x:\n",
    "        y.append(0)\n",
    "    print(\"Min: \",minn)\n",
    "    print(\"Q1: \",q1)\n",
    "    print(\"Q2: \",q2)\n",
    "    print(\"Q3: \",q3)\n",
    "    print(\"Max: \",maxx)\n",
    "    print(\"Left Outliers: \",leftOutliers)\n",
    "    print(\"Right Outliers: \",rightOutliers)\n",
    "    color = ['blue','red','green','yellow','violet']\n",
    "    plt.scatter(x, y, c = color)\n",
    "    plt.show()"
   ]
  },
  {
   "cell_type": "code",
   "execution_count": 13,
   "id": "d1f3d6e8",
   "metadata": {},
   "outputs": [
    {
     "name": "stdout",
     "output_type": "stream",
     "text": [
      "Min:  15.0\n",
      "Q1:  30\n",
      "Q2:  36\n",
      "Q3:  40\n",
      "Max:  55.0\n",
      "Left Outliers:  [10]\n",
      "Right Outliers:  []\n"
     ]
    },
    {
     "data": {
      "image/png": "[encoded data removed]",
      "text/plain": [
       "<Figure size 432x288 with 1 Axes>"
      ]
     },
     "metadata": {
      "needs_background": "light"
     },
     "output_type": "display_data"
    }
   ],
   "source": [
    "plot(list(df1['True_Value']))"
   ]
  },
  {
   "cell_type": "markdown",
   "id": "33c4da4b",
   "metadata": {},
   "source": [
    "### Question 2.5"
   ]
  },
  {
   "cell_type": "code",
   "execution_count": 14,
   "id": "05d3a499",
   "metadata": {},
   "outputs": [],
   "source": [
    "def correlation(x, y):\n",
    "    n = len(x)\n",
    "    sum_x = 0\n",
    "    sum_y = 0\n",
    "    sum_xy = 0\n",
    "    sum_x_squared = 0\n",
    "    sum_y_squared = 0\n",
    "\n",
    "    for i in range(n):\n",
    "        sum_x += x[i]\n",
    "        sum_y += y[i]\n",
    "        sum_xy += x[i]*y[i]\n",
    "        sum_x_squared += x[i]**2\n",
    "        sum_y_squared += y[i]**2\n",
    "\n",
    "    if (((n*sum_x_squared - sum_x**2)*(n*sum_y_squared - sum_y**2))**0.5) == 0:\n",
    "        return 0\n",
    "    else:\n",
    "        return (n*sum_xy - sum_x*sum_y) / (((n*sum_x_squared - sum_x**2)*(n*sum_y_squared - sum_y**2))**0.5)"
   ]
  },
  {
   "cell_type": "code",
   "execution_count": 15,
   "id": "f2472b21",
   "metadata": {},
   "outputs": [
    {
     "data": {
      "text/plain": [
       "0.9926079531311158"
      ]
     },
     "execution_count": 15,
     "metadata": {},
     "output_type": "execute_result"
    }
   ],
   "source": [
    "correlation(list(df1['True_Value']),list(df1['Predicted_Value']))"
   ]
  },
  {
   "cell_type": "markdown",
   "id": "97133b49",
   "metadata": {},
   "source": [
    "### Question 2.6"
   ]
  },
  {
   "cell_type": "code",
   "execution_count": 16,
   "id": "6f69ed40",
   "metadata": {},
   "outputs": [],
   "source": [
    "def encoder(arr):\n",
    "    encoding = {}\n",
    "    for i in set(arr):\n",
    "        if i not in encoding:\n",
    "            encoding[i] = len(encoding)\n",
    "    encoded = []\n",
    "    for i in arr:\n",
    "        encode = encoding[i]\n",
    "        encoded.append(encode)\n",
    "    return encoded, encoding\n",
    "\n",
    "def decoder(encoded, encoding):\n",
    "    decoded = []\n",
    "    for value in encoded:\n",
    "        decoded_value = list(encoding.keys())[list(encoding.values()).index(value)]\n",
    "        decoded.append(decoded_value)\n",
    "    return decoded"
   ]
  },
  {
   "cell_type": "code",
   "execution_count": 17,
   "id": "912a7f6d",
   "metadata": {},
   "outputs": [],
   "source": [
    "encoded, encoding = encoder(df3['Result'])"
   ]
  },
  {
   "cell_type": "code",
   "execution_count": 18,
   "id": "bb9b3639",
   "metadata": {},
   "outputs": [
    {
     "data": {
      "text/plain": [
       "[0,\n",
       " 0,\n",
       " 0,\n",
       " 0,\n",
       " 0,\n",
       " 0,\n",
       " 0,\n",
       " 0,\n",
       " 0,\n",
       " 0,\n",
       " 0,\n",
       " 0,\n",
       " 1,\n",
       " 1,\n",
       " 1,\n",
       " 1,\n",
       " 1,\n",
       " 1,\n",
       " 1,\n",
       " 1,\n",
       " 1,\n",
       " 1,\n",
       " 1,\n",
       " 1,\n",
       " 1,\n",
       " 1,\n",
       " 1,\n",
       " 1,\n",
       " 1,\n",
       " 1]"
      ]
     },
     "execution_count": 18,
     "metadata": {},
     "output_type": "execute_result"
    }
   ],
   "source": [
    "encoded"
   ]
  },
  {
   "cell_type": "code",
   "execution_count": 19,
   "id": "b0916cdb",
   "metadata": {},
   "outputs": [
    {
     "data": {
      "text/plain": [
       "{'Fail': 0, 'Pass': 1}"
      ]
     },
     "execution_count": 19,
     "metadata": {},
     "output_type": "execute_result"
    }
   ],
   "source": [
    "encoding"
   ]
  },
  {
   "cell_type": "code",
   "execution_count": 20,
   "id": "993dc6e8",
   "metadata": {},
   "outputs": [
    {
     "data": {
      "text/plain": [
       "['Fail',\n",
       " 'Fail',\n",
       " 'Fail',\n",
       " 'Fail',\n",
       " 'Fail',\n",
       " 'Fail',\n",
       " 'Fail',\n",
       " 'Fail',\n",
       " 'Fail',\n",
       " 'Fail',\n",
       " 'Fail',\n",
       " 'Fail',\n",
       " 'Pass',\n",
       " 'Pass',\n",
       " 'Pass',\n",
       " 'Pass',\n",
       " 'Pass',\n",
       " 'Pass',\n",
       " 'Pass',\n",
       " 'Pass',\n",
       " 'Pass',\n",
       " 'Pass',\n",
       " 'Pass',\n",
       " 'Pass',\n",
       " 'Pass',\n",
       " 'Pass',\n",
       " 'Pass',\n",
       " 'Pass',\n",
       " 'Pass',\n",
       " 'Pass']"
      ]
     },
     "execution_count": 20,
     "metadata": {},
     "output_type": "execute_result"
    }
   ],
   "source": [
    "decoder(encoded, encoding)"
   ]
  },
  {
   "cell_type": "markdown",
   "id": "f5bc2e56",
   "metadata": {},
   "source": [
    "### Question 2.7"
   ]
  },
  {
   "cell_type": "code",
   "execution_count": 21,
   "id": "2e340c0a",
   "metadata": {},
   "outputs": [],
   "source": [
    "def r_squared(y_true, y_pred):\n",
    "    mean_y = sum(y_true) / len(y_true)\n",
    "    tss = sum([(y - mean_y) ** 2 for y in y_true])\n",
    "    rss = sum([(y_true[i] - y_pred[i]) ** 2 for i in range(len(y_true))])\n",
    "    r_squared = 1 - rss / tss\n",
    "    return r_squared"
   ]
  },
  {
   "cell_type": "code",
   "execution_count": 22,
   "id": "506cc97e",
   "metadata": {},
   "outputs": [],
   "source": [
    "def mse(y_true, y_pred):\n",
    "    n = len(y_true)\n",
    "    squared_error = [(y_true[i] - y_pred[i])**2 for i in range(n)]\n",
    "    mse = sum(squared_error) / n\n",
    "    return mse"
   ]
  },
  {
   "cell_type": "code",
   "execution_count": 23,
   "id": "6534a55c",
   "metadata": {},
   "outputs": [],
   "source": [
    "def mae(y_true, y_pred):\n",
    "    n = len(y_true)\n",
    "    absolute_error = [abs(y_true[i] - y_pred[i]) for i in range(n)]\n",
    "    mae = sum(absolute_error) / n\n",
    "    return mae"
   ]
  },
  {
   "cell_type": "code",
   "execution_count": 24,
   "id": "91914d18",
   "metadata": {},
   "outputs": [],
   "source": [
    "def evaluationMetrics(y_true,y_pred,evalmat):\n",
    "    if evalmat == 'r2_score':\n",
    "        mean_y = sum(y_true) / len(y_true)\n",
    "        tss = sum([(y - mean_y) ** 2 for y in y_true])\n",
    "        rss = sum([(y_true[i] - y_pred[i]) ** 2 for i in range(len(y_true))])\n",
    "        r_squared = 1 - rss / tss\n",
    "        return r_squared\n",
    "        return r_squared\n",
    "    if evalmat == 'mse':\n",
    "        n = len(y_true)\n",
    "        squared_error = [(y_true[i] - y_pred[i])**2 for i in range(n)]\n",
    "        mse = sum(squared_error) / n\n",
    "        return mse\n",
    "    if evalmat == 'mae':\n",
    "        n = len(y_true)\n",
    "        absolute_error = [abs(y_true[i] - y_pred[i]) for i in range(n)]\n",
    "        mae = sum(absolute_error) / n\n",
    "        return mae"
   ]
  },
  {
   "cell_type": "code",
   "execution_count": 25,
   "id": "8c3542f6",
   "metadata": {},
   "outputs": [
    {
     "name": "stdout",
     "output_type": "stream",
     "text": [
      "R-Squared Score:  0.9770192544890355\n",
      "Mean Squared Error:  1.9666666666666666\n",
      "Mean Absolute Error:  0.9\n"
     ]
    }
   ],
   "source": [
    "print(\"R-Squared Score: \",evaluationMetrics(list(df3['True_Value']), list(df3['Predicted_Value']),'r2_score'))\n",
    "print(\"Mean Squared Error: \",evaluationMetrics(list(df3['True_Value']), list(df3['Predicted_Value']),'mse'))\n",
    "print(\"Mean Absolute Error: \",evaluationMetrics(list(df3['True_Value']), list(df3['Predicted_Value']),'mae'))"
   ]
  },
  {
   "cell_type": "markdown",
   "id": "9825cca6",
   "metadata": {},
   "source": [
    "## Question 3.1"
   ]
  },
  {
   "cell_type": "markdown",
   "id": "b7380564",
   "metadata": {},
   "source": [
    "**Mean**"
   ]
  },
  {
   "cell_type": "code",
   "execution_count": 26,
   "id": "eea88808",
   "metadata": {},
   "outputs": [
    {
     "data": {
      "text/plain": [
       "33.86666666666667"
      ]
     },
     "execution_count": 26,
     "metadata": {},
     "output_type": "execute_result"
    }
   ],
   "source": [
    "central_tendency(list(df1['True_Value']),'mean')"
   ]
  },
  {
   "cell_type": "markdown",
   "id": "17b07f53",
   "metadata": {},
   "source": [
    "**Using In Built Method**"
   ]
  },
  {
   "cell_type": "code",
   "execution_count": 27,
   "id": "82d43762",
   "metadata": {},
   "outputs": [
    {
     "data": {
      "text/plain": [
       "33.86666666666667"
      ]
     },
     "execution_count": 27,
     "metadata": {},
     "output_type": "execute_result"
    }
   ],
   "source": [
    "df1['True_Value'].mean()"
   ]
  },
  {
   "cell_type": "markdown",
   "id": "f598c239",
   "metadata": {},
   "source": [
    "**Median**"
   ]
  },
  {
   "cell_type": "code",
   "execution_count": 28,
   "id": "7b5444e2",
   "metadata": {},
   "outputs": [
    {
     "data": {
      "text/plain": [
       "36"
      ]
     },
     "execution_count": 28,
     "metadata": {},
     "output_type": "execute_result"
    }
   ],
   "source": [
    "central_tendency(list(df1['True_Value']),'median')"
   ]
  },
  {
   "cell_type": "markdown",
   "id": "e1b306f2",
   "metadata": {},
   "source": [
    "**Using In Built Method**"
   ]
  },
  {
   "cell_type": "code",
   "execution_count": 29,
   "id": "1bc5aa9c",
   "metadata": {},
   "outputs": [
    {
     "data": {
      "text/plain": [
       "36.0"
      ]
     },
     "execution_count": 29,
     "metadata": {},
     "output_type": "execute_result"
    }
   ],
   "source": [
    "df1['True_Value'].median()"
   ]
  },
  {
   "cell_type": "markdown",
   "id": "340bd56f",
   "metadata": {},
   "source": [
    "**Mode**"
   ]
  },
  {
   "cell_type": "code",
   "execution_count": 30,
   "id": "6a55b9a6",
   "metadata": {},
   "outputs": [
    {
     "data": {
      "text/plain": [
       "40"
      ]
     },
     "execution_count": 30,
     "metadata": {},
     "output_type": "execute_result"
    }
   ],
   "source": [
    "central_tendency(list(df1['True_Value']),'mode')"
   ]
  },
  {
   "cell_type": "markdown",
   "id": "350a7f37",
   "metadata": {},
   "source": [
    "**Using In Built Method**"
   ]
  },
  {
   "cell_type": "code",
   "execution_count": 31,
   "id": "ffefaa4b",
   "metadata": {},
   "outputs": [
    {
     "data": {
      "text/plain": [
       "0    40\n",
       "Name: True_Value, dtype: int64"
      ]
     },
     "execution_count": 31,
     "metadata": {},
     "output_type": "execute_result"
    }
   ],
   "source": [
    "df1['True_Value'].mode()"
   ]
  },
  {
   "cell_type": "markdown",
   "id": "2a60b313",
   "metadata": {},
   "source": [
    "**Min-Max-Scaler**"
   ]
  },
  {
   "cell_type": "code",
   "execution_count": 32,
   "id": "a55f4123",
   "metadata": {},
   "outputs": [
    {
     "data": {
      "text/plain": [
       "[0.0,\n",
       " 0.18421052631578946,\n",
       " 0.42105263157894735,\n",
       " 0.5263157894736842,\n",
       " 0.5526315789473685,\n",
       " 0.5789473684210527,\n",
       " 0.6578947368421053,\n",
       " 0.6842105263157895,\n",
       " 0.7368421052631579,\n",
       " 0.7631578947368421,\n",
       " 0.7894736842105263,\n",
       " 0.7894736842105263,\n",
       " 0.8421052631578947,\n",
       " 0.8947368421052632,\n",
       " 1.0]"
      ]
     },
     "execution_count": 32,
     "metadata": {},
     "output_type": "execute_result"
    }
   ],
   "source": [
    "minmax(list(df1['True_Value']))"
   ]
  },
  {
   "cell_type": "markdown",
   "id": "90aa010d",
   "metadata": {},
   "source": [
    "**Using Sklearn**"
   ]
  },
  {
   "cell_type": "code",
   "execution_count": 33,
   "id": "0c0813c3",
   "metadata": {},
   "outputs": [
    {
     "name": "stdout",
     "output_type": "stream",
     "text": [
      "[[0.        ]\n",
      " [0.18421053]\n",
      " [0.42105263]\n",
      " [0.52631579]\n",
      " [0.55263158]\n",
      " [0.57894737]\n",
      " [0.65789474]\n",
      " [0.68421053]\n",
      " [0.73684211]\n",
      " [0.76315789]\n",
      " [0.78947368]\n",
      " [0.78947368]\n",
      " [0.84210526]\n",
      " [0.89473684]\n",
      " [1.        ]]\n"
     ]
    }
   ],
   "source": [
    "from sklearn.preprocessing import MinMaxScaler\n",
    "\n",
    "scaler = MinMaxScaler()\n",
    "\n",
    "print(scaler.fit_transform(df1[['True_Value']]))"
   ]
  },
  {
   "cell_type": "markdown",
   "id": "9808169d",
   "metadata": {},
   "source": [
    "**Outliers**"
   ]
  },
  {
   "cell_type": "code",
   "execution_count": 34,
   "id": "acc1cb3d",
   "metadata": {},
   "outputs": [
    {
     "name": "stdout",
     "output_type": "stream",
     "text": [
      "Min:  17.5\n",
      "Q1:  31\n",
      "Q2:  37\n",
      "Q3:  40\n",
      "Max:  53.5\n",
      "Left Outliers:  [10, 17, 17]\n",
      "Right Outliers:  []\n"
     ]
    },
    {
     "data": {
      "image/png": "[encoded data removed]",
      "text/plain": [
       "<Figure size 432x288 with 1 Axes>"
      ]
     },
     "metadata": {
      "needs_background": "light"
     },
     "output_type": "display_data"
    }
   ],
   "source": [
    "plot(list(df2['Predicted_Value']))"
   ]
  },
  {
   "cell_type": "markdown",
   "id": "84451e95",
   "metadata": {},
   "source": [
    "**Using In Built Method**"
   ]
  },
  {
   "cell_type": "code",
   "execution_count": 35,
   "id": "994804b5",
   "metadata": {},
   "outputs": [
    {
     "data": {
      "text/plain": [
       "{'whiskers': [<matplotlib.lines.Line2D at 0x2a6d2c57670>,\n",
       "  <matplotlib.lines.Line2D at 0x2a6d2c578b0>],\n",
       " 'caps': [<matplotlib.lines.Line2D at 0x2a6d2c57b50>,\n",
       "  <matplotlib.lines.Line2D at 0x2a6d2c57df0>],\n",
       " 'boxes': [<matplotlib.lines.Line2D at 0x2a6d2c573d0>],\n",
       " 'medians': [<matplotlib.lines.Line2D at 0x2a6d2c6c0d0>],\n",
       " 'fliers': [<matplotlib.lines.Line2D at 0x2a6d2c6c370>],\n",
       " 'means': []}"
      ]
     },
     "execution_count": 35,
     "metadata": {},
     "output_type": "execute_result"
    },
    {
     "data": {
      "image/png": "[encoded data removed]",
      "text/plain": [
       "<Figure size 432x288 with 1 Axes>"
      ]
     },
     "metadata": {
      "needs_background": "light"
     },
     "output_type": "display_data"
    }
   ],
   "source": [
    "plt.boxplot(df2['Predicted_Value'])"
   ]
  },
  {
   "cell_type": "markdown",
   "id": "89e833de",
   "metadata": {},
   "source": [
    "**Correlation**"
   ]
  },
  {
   "cell_type": "code",
   "execution_count": 36,
   "id": "31504c34",
   "metadata": {},
   "outputs": [
    {
     "data": {
      "text/plain": [
       "0.9910681530734977"
      ]
     },
     "execution_count": 36,
     "metadata": {},
     "output_type": "execute_result"
    }
   ],
   "source": [
    "correlation(list(df2['True_Value']),list(df2['Predicted_Value']))"
   ]
  },
  {
   "cell_type": "markdown",
   "id": "beefd5ab",
   "metadata": {},
   "source": [
    "**Using In Built Method**"
   ]
  },
  {
   "cell_type": "code",
   "execution_count": 37,
   "id": "5f746f9c",
   "metadata": {},
   "outputs": [
    {
     "data": {
      "text/html": [
       "<div>\n",
       "<style scoped>\n",
       "    .dataframe tbody tr th:only-of-type {\n",
       "        vertical-align: middle;\n",
       "    }\n",
       "\n",
       "    .dataframe tbody tr th {\n",
       "        vertical-align: top;\n",
       "    }\n",
       "\n",
       "    .dataframe thead th {\n",
       "        text-align: right;\n",
       "    }\n",
       "</style>\n",
       "<table border=\"1\" class=\"dataframe\">\n",
       "  <thead>\n",
       "    <tr style=\"text-align: right;\">\n",
       "      <th></th>\n",
       "      <th>True_Value</th>\n",
       "      <th>Predicted_Value</th>\n",
       "    </tr>\n",
       "  </thead>\n",
       "  <tbody>\n",
       "    <tr>\n",
       "      <th>True_Value</th>\n",
       "      <td>1.000000</td>\n",
       "      <td>0.991068</td>\n",
       "    </tr>\n",
       "    <tr>\n",
       "      <th>Predicted_Value</th>\n",
       "      <td>0.991068</td>\n",
       "      <td>1.000000</td>\n",
       "    </tr>\n",
       "  </tbody>\n",
       "</table>\n",
       "</div>"
      ],
      "text/plain": [
       "                 True_Value  Predicted_Value\n",
       "True_Value         1.000000         0.991068\n",
       "Predicted_Value    0.991068         1.000000"
      ]
     },
     "execution_count": 37,
     "metadata": {},
     "output_type": "execute_result"
    }
   ],
   "source": [
    "df2.corr()"
   ]
  },
  {
   "cell_type": "markdown",
   "id": "06fc3a4e",
   "metadata": {},
   "source": [
    "**Encoding**"
   ]
  },
  {
   "cell_type": "code",
   "execution_count": 38,
   "id": "8f30d712",
   "metadata": {},
   "outputs": [
    {
     "name": "stdout",
     "output_type": "stream",
     "text": [
      "Encoded Values:  [0, 0, 0, 0, 0, 0, 0, 0, 0, 0, 0, 0, 1, 1, 1, 1, 1, 1, 1, 1, 1, 1, 1, 1, 1, 1, 1, 1, 1, 1]\n",
      "\n",
      "\n",
      "{'Fail': 0, 'Pass': 1}\n",
      "\n",
      "\n",
      "Decoded Values:  ['Fail', 'Fail', 'Fail', 'Fail', 'Fail', 'Fail', 'Fail', 'Fail', 'Fail', 'Fail', 'Fail', 'Fail', 'Pass', 'Pass', 'Pass', 'Pass', 'Pass', 'Pass', 'Pass', 'Pass', 'Pass', 'Pass', 'Pass', 'Pass', 'Pass', 'Pass', 'Pass', 'Pass', 'Pass', 'Pass']\n"
     ]
    }
   ],
   "source": [
    "encoded, encoding = encoder(df3['Result'])\n",
    "\n",
    "print(\"Encoded Values: \",encoded)\n",
    "print(\"\\n\")\n",
    "print(encoding)\n",
    "print(\"\\n\")\n",
    "print(\"Decoded Values: \",decoder(encoded, encoding))"
   ]
  },
  {
   "cell_type": "markdown",
   "id": "d33caef1",
   "metadata": {},
   "source": [
    "**Using Sklearn**"
   ]
  },
  {
   "cell_type": "code",
   "execution_count": 39,
   "id": "397a059f",
   "metadata": {},
   "outputs": [
    {
     "name": "stdout",
     "output_type": "stream",
     "text": [
      "Encoded Values:  [0 0 0 0 0 0 0 0 0 0 0 0 1 1 1 1 1 1 1 1 1 1 1 1 1 1 1 1 1 1]\n",
      "\n",
      "\n",
      "Decoded Values:  ['Fail' 'Fail' 'Fail' 'Fail' 'Fail' 'Fail' 'Fail' 'Fail' 'Fail' 'Fail'\n",
      " 'Fail' 'Fail' 'Pass' 'Pass' 'Pass' 'Pass' 'Pass' 'Pass' 'Pass' 'Pass'\n",
      " 'Pass' 'Pass' 'Pass' 'Pass' 'Pass' 'Pass' 'Pass' 'Pass' 'Pass' 'Pass']\n"
     ]
    }
   ],
   "source": [
    "from sklearn.preprocessing import LabelEncoder\n",
    "\n",
    "le = LabelEncoder()\n",
    "\n",
    "encoded = le.fit_transform(df3['Result'])\n",
    "print(\"Encoded Values: \",encoded)\n",
    "print(\"\\n\")\n",
    "decoded = le.inverse_transform(encoded)\n",
    "print(\"Decoded Values: \",decoded)"
   ]
  },
  {
   "cell_type": "markdown",
   "id": "d119f53f",
   "metadata": {},
   "source": [
    "**R-Squared**"
   ]
  },
  {
   "cell_type": "code",
   "execution_count": 40,
   "id": "f1afb54f",
   "metadata": {},
   "outputs": [
    {
     "name": "stdout",
     "output_type": "stream",
     "text": [
      "R-Squared Score:  0.9770192544890355\n"
     ]
    }
   ],
   "source": [
    "print(\"R-Squared Score: \",r_squared(list(df3['True_Value']), list(df3['Predicted_Value'])))"
   ]
  },
  {
   "cell_type": "markdown",
   "id": "5873f405",
   "metadata": {},
   "source": [
    "**Using Sklearn**"
   ]
  },
  {
   "cell_type": "code",
   "execution_count": 41,
   "id": "236f45db",
   "metadata": {},
   "outputs": [
    {
     "name": "stdout",
     "output_type": "stream",
     "text": [
      "R-Squared Score:  0.9770192544890355\n"
     ]
    }
   ],
   "source": [
    "from sklearn.metrics import r2_score\n",
    "print(\"R-Squared Score: \",r2_score(df3['True_Value'],df3['Predicted_Value']))"
   ]
  },
  {
   "cell_type": "markdown",
   "id": "925865f9",
   "metadata": {},
   "source": [
    "**Mean Squared Error**"
   ]
  },
  {
   "cell_type": "code",
   "execution_count": 42,
   "id": "15cc232a",
   "metadata": {},
   "outputs": [
    {
     "name": "stdout",
     "output_type": "stream",
     "text": [
      "Mean Squared Error:  1.9666666666666666\n"
     ]
    }
   ],
   "source": [
    "print(\"Mean Squared Error: \",mse(list(df3['True_Value']), list(df3['Predicted_Value'])))"
   ]
  },
  {
   "cell_type": "markdown",
   "id": "4850bd84",
   "metadata": {},
   "source": [
    "**Using Sklearn**"
   ]
  },
  {
   "cell_type": "code",
   "execution_count": 43,
   "id": "40835df3",
   "metadata": {},
   "outputs": [
    {
     "name": "stdout",
     "output_type": "stream",
     "text": [
      "Mean Squared Error:  1.9666666666666666\n"
     ]
    }
   ],
   "source": [
    "from sklearn.metrics import mean_squared_error\n",
    "print(\"Mean Squared Error: \",mean_squared_error(df3['True_Value'],df3['Predicted_Value']))"
   ]
  },
  {
   "cell_type": "markdown",
   "id": "e67372b7",
   "metadata": {},
   "source": [
    "**Mean Absolute Error**"
   ]
  },
  {
   "cell_type": "code",
   "execution_count": 44,
   "id": "17b34cb0",
   "metadata": {},
   "outputs": [
    {
     "name": "stdout",
     "output_type": "stream",
     "text": [
      "Mean Absolute Error:  0.9\n"
     ]
    }
   ],
   "source": [
    "print(\"Mean Absolute Error: \",mae(list(df3['True_Value']), list(df3['Predicted_Value'])))"
   ]
  },
  {
   "cell_type": "markdown",
   "id": "5ae2b502",
   "metadata": {},
   "source": [
    "**Using Sklearn**"
   ]
  },
  {
   "cell_type": "code",
   "execution_count": 45,
   "id": "8732b32b",
   "metadata": {},
   "outputs": [
    {
     "name": "stdout",
     "output_type": "stream",
     "text": [
      "Mean Absolute Error:  0.9\n"
     ]
    }
   ],
   "source": [
    "from sklearn.metrics import mean_absolute_error\n",
    "print(\"Mean Absolute Error: \",mean_absolute_error(df3['True_Value'],df3['Predicted_Value']))"
   ]
  },
  {
   "cell_type": "markdown",
   "id": "527fcebb",
   "metadata": {},
   "source": [
    "## Question 3.2"
   ]
  },
  {
   "cell_type": "code",
   "execution_count": 46,
   "id": "4642d5cb",
   "metadata": {},
   "outputs": [
    {
     "data": {
      "text/plain": [
       "13.333333333333334"
      ]
     },
     "execution_count": 46,
     "metadata": {},
     "output_type": "execute_result"
    }
   ],
   "source": [
    "percentile(21,list(df2['True_Value']))"
   ]
  },
  {
   "cell_type": "markdown",
   "id": "2eca5154",
   "metadata": {},
   "source": [
    "## Question 3.3"
   ]
  },
  {
   "cell_type": "code",
   "execution_count": 49,
   "id": "e6b5e5cc",
   "metadata": {},
   "outputs": [
    {
     "name": "stdout",
     "output_type": "stream",
     "text": [
      "R-Squared Score:  0.9770192544890355  for df3\n",
      "R-Squared Score:  0.9770192544890355  for df2\n",
      "R-Squared Score:  0.9825872956909361  for df1\n"
     ]
    }
   ],
   "source": [
    "print(\"R-Squared Score: \",r_squared(list(df3['True_Value']), list(df3['Predicted_Value'])),\" for df3\")\n",
    "print(\"R-Squared Score: \",r_squared(list(df2['True_Value']), list(df2['Predicted_Value'])),\" for df2\")\n",
    "print(\"R-Squared Score: \",r_squared(list(df1['True_Value']), list(df1['Predicted_Value'])),\" for df1\")"
   ]
  },
  {
   "cell_type": "code",
   "execution_count": 50,
   "id": "e6a6015b",
   "metadata": {},
   "outputs": [
    {
     "name": "stdout",
     "output_type": "stream",
     "text": [
      "Mean Squared Error:  1.9666666666666666  for df3\n",
      "Mean Squared Error:  1.9666666666666666  for df2\n",
      "Mean Squared Error:  1.6666666666666667  for df1\n"
     ]
    }
   ],
   "source": [
    "print(\"Mean Squared Error: \",mse(list(df3['True_Value']), list(df3['Predicted_Value'])),\" for df3\")\n",
    "print(\"Mean Squared Error: \",mse(list(df2['True_Value']), list(df2['Predicted_Value'])),\" for df2\")\n",
    "print(\"Mean Squared Error: \",mse(list(df1['True_Value']), list(df1['Predicted_Value'])),\" for df1\")"
   ]
  },
  {
   "cell_type": "code",
   "execution_count": 51,
   "id": "727df042",
   "metadata": {},
   "outputs": [
    {
     "name": "stdout",
     "output_type": "stream",
     "text": [
      "Mean Absolute Error:  0.9  for df3\n",
      "Mean Absolute Error:  0.9  for df2\n",
      "Mean Absolute Error:  0.8666666666666667  for df1\n"
     ]
    }
   ],
   "source": [
    "print(\"Mean Absolute Error: \",mae(list(df3['True_Value']), list(df3['Predicted_Value'])),\" for df3\")\n",
    "print(\"Mean Absolute Error: \",mae(list(df2['True_Value']), list(df2['Predicted_Value'])),\" for df2\")\n",
    "print(\"Mean Absolute Error: \",mae(list(df1['True_Value']), list(df1['Predicted_Value'])),\" for df1\")"
   ]
  },
  {
   "cell_type": "markdown",
   "id": "9030463d",
   "metadata": {},
   "source": [
    "**Inference:**<br>\n",
    "From the above Regression Evaluation Metrics we observed that the R-Squared Score(Accuracy) increases as testing datasize decreases and Errors(MSE & MAE) also decreases when testing datasize decreases. From this observation we can infer that as Testing Datasize has a inverse relationship with model's Accuracy."
   ]
  },
  {
   "cell_type": "markdown",
   "id": "1d906aac",
   "metadata": {},
   "source": [
    "## Question 3.4"
   ]
  },
  {
   "cell_type": "code",
   "execution_count": 47,
   "id": "254481ff",
   "metadata": {},
   "outputs": [
    {
     "name": "stdout",
     "output_type": "stream",
     "text": [
      "R-Squared Score:  0.9770192544890355\n",
      "Correlation Value:  0.9910681530734977\n"
     ]
    }
   ],
   "source": [
    "print(\"R-Squared Score: \",evaluationMetrics(list(df3['True_Value']), list(df3['Predicted_Value']),'r2_score'))\n",
    "print(\"Correlation Value: \",correlation(list(df3['True_Value']),list(df3['Predicted_Value'])))"
   ]
  },
  {
   "cell_type": "markdown",
   "id": "e7060fda",
   "metadata": {},
   "source": [
    "**Inference:**<br>\n",
    "Correlation infers the association or dependency between two variables. Whereas R-Squared score tells us in a Linear Regression model the variance of dependent variable by independent variables."
   ]
  }
 ],
 "metadata": {
  "kernelspec": {
   "display_name": "Python 3",
   "language": "python",
   "name": "python3"
  },
  "language_info": {
   "codemirror_mode": {
    "name": "ipython",
    "version": 3
   },
   "file_extension": ".py",
   "mimetype": "text/x-python",
   "name": "python",
   "nbconvert_exporter": "python",
   "pygments_lexer": "ipython3",
   "version": "3.8.8"
  }
 },
 "nbformat": 4,
 "nbformat_minor": 5
}
